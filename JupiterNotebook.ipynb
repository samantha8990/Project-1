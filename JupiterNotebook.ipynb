{
 "metadata": {
  "language_info": {
   "codemirror_mode": {
    "name": "ipython",
    "version": 3
   },
   "file_extension": ".py",
   "mimetype": "text/x-python",
   "name": "python",
   "nbconvert_exporter": "python",
   "pygments_lexer": "ipython3",
   "version": "3.7.9-final"
  },
  "orig_nbformat": 2,
  "kernelspec": {
   "name": "python379jvsc74a57bd000603a2c3e8eb17b83d7fca558293375879bba6e0cc7e84ab094aaf79e0fa4fb",
   "display_name": "Python 3.7.9 64-bit ('pythondata': conda)"
  }
 },
 "nbformat": 4,
 "nbformat_minor": 2,
 "cells": [
  {
   "cell_type": "code",
   "execution_count": 2,
   "metadata": {},
   "outputs": [],
   "source": [
    "import pandas as pd\n"
   ]
  },
  {
   "cell_type": "code",
   "execution_count": 3,
   "metadata": {},
   "outputs": [],
   "source": [
    "csv_path = r'Us_Accidents_Arizona_DEC20.csv'"
   ]
  },
  {
   "cell_type": "code",
   "execution_count": 7,
   "metadata": {},
   "outputs": [
    {
     "output_type": "execute_result",
     "data": {
      "text/plain": [
       "              ID  TMC  Severity        Start_Time          End_Time  \\\n",
       "0       A-513395  201         2   12/31/2020 8:33   12/31/2020 9:18   \n",
       "1       A-513396  201         2   12/31/2020 9:32  12/31/2020 11:03   \n",
       "2       A-513397  201         2  12/31/2020 12:54  12/31/2020 19:20   \n",
       "3       A-513398  201         3  12/31/2020 16:04  12/31/2020 17:28   \n",
       "4       A-513399  201         2  12/31/2020 18:47  12/31/2020 19:48   \n",
       "...          ...  ...       ...               ...               ...   \n",
       "15092  A-1048129  201         2   10/9/2019 21:08   10/9/2019 21:57   \n",
       "15093  A-1048130  201         2   10/9/2019 21:10   10/9/2019 21:58   \n",
       "15094  A-1048131  201         2   10/9/2019 21:11   10/9/2019 21:58   \n",
       "15095  A-1048132  201         2   10/9/2019 21:10   10/9/2019 21:57   \n",
       "15096  A-1048136  201         2    10/9/2019 4:17    10/9/2019 6:43   \n",
       "\n",
       "                                             Description   Number  \\\n",
       "0      Restrictions due to accident on R H Johnson Bl...  20532.0   \n",
       "1      Single alternate line traffic due to accident ...  30148.0   \n",
       "2      Lane blocked due to accident on AZ-95 Southbou...      NaN   \n",
       "3      Lane blocked due to accident on I-10 Eastbound...      NaN   \n",
       "4      Lane blocked due to accident on AZ-89 Southbou...   5918.0   \n",
       "...                                                  ...      ...   \n",
       "15092      Accident on Glen Harbor Blvd at Glendale Ave.      NaN   \n",
       "15093              Accident on Grant Rd at Craycroft Rd.      NaN   \n",
       "15094               Accident on Grove Pkwy at Priest Dr.      NaN   \n",
       "15095     Accident on 6th St both ways around Maple Ave.    101.0   \n",
       "15096       Accident on US-191 Northbound near BIA-2003.      NaN   \n",
       "\n",
       "                   Street Side              City  ...     Zipcode Country  \\\n",
       "0         N Stardust Blvd    R     Sun City West  ...  85375-1800      US   \n",
       "1      N US Highway 60 89    R        Wickenburg  ...  85390-3367      US   \n",
       "2                   AZ-95    R  Lake Havasu City  ...       86404      US   \n",
       "3                  I-10 E    R          Avondale  ...       85323      US   \n",
       "4        S State Route 89    L          Prescott  ...       86303      US   \n",
       "...                   ...  ...               ...  ...         ...     ...   \n",
       "15092  N Glen Harbor Blvd    R          Glendale  ...       85307      US   \n",
       "15093          E Grant Rd    R            Tucson  ...       85712      US   \n",
       "15094         S Priest Dr    R             Tempe  ...       85283      US   \n",
       "15095            W 6th St    L             Tempe  ...  85281-3715      US   \n",
       "15096      Middle Well Rd    R          Chambers  ...       86502      US   \n",
       "\n",
       "      Temperature(F) Visibility(mi)  Wind_Speed(mph)  Precipitation(in)  \\\n",
       "0               43.0           10.0              5.0                0.0   \n",
       "1               45.0           10.0              3.0                0.0   \n",
       "2               60.0           10.0             12.0                0.0   \n",
       "3               57.0           10.0              5.0                NaN   \n",
       "4               36.0           10.0              6.0                0.0   \n",
       "...              ...            ...              ...                ...   \n",
       "15092           86.0           10.0              0.0                0.0   \n",
       "15093           75.0           10.0              6.0                0.0   \n",
       "15094           88.0           10.0             10.0                0.0   \n",
       "15095           88.0           10.0             10.0                0.0   \n",
       "15096           50.0           10.0              6.0                0.0   \n",
       "\n",
       "       Weather_Condition  Sunrise_Sunset   Stop Traffic_Signal  \n",
       "0                 Cloudy             Day  False           True  \n",
       "1          Light Drizzle             Day  False          False  \n",
       "2                   Fair             Day   True          False  \n",
       "3                 Cloudy             Day  False          False  \n",
       "4                 Cloudy           Night  False          False  \n",
       "...                  ...             ...    ...            ...  \n",
       "15092               Fair           Night  False           True  \n",
       "15093               Fair           Night  False           True  \n",
       "15094      Partly Cloudy           Night  False          False  \n",
       "15095      Partly Cloudy           Night  False          False  \n",
       "15096               Fair           Night  False          False  \n",
       "\n",
       "[15097 rows x 22 columns]"
      ],
      "text/html": "<div>\n<style scoped>\n    .dataframe tbody tr th:only-of-type {\n        vertical-align: middle;\n    }\n\n    .dataframe tbody tr th {\n        vertical-align: top;\n    }\n\n    .dataframe thead th {\n        text-align: right;\n    }\n</style>\n<table border=\"1\" class=\"dataframe\">\n  <thead>\n    <tr style=\"text-align: right;\">\n      <th></th>\n      <th>ID</th>\n      <th>TMC</th>\n      <th>Severity</th>\n      <th>Start_Time</th>\n      <th>End_Time</th>\n      <th>Description</th>\n      <th>Number</th>\n      <th>Street</th>\n      <th>Side</th>\n      <th>City</th>\n      <th>...</th>\n      <th>Zipcode</th>\n      <th>Country</th>\n      <th>Temperature(F)</th>\n      <th>Visibility(mi)</th>\n      <th>Wind_Speed(mph)</th>\n      <th>Precipitation(in)</th>\n      <th>Weather_Condition</th>\n      <th>Sunrise_Sunset</th>\n      <th>Stop</th>\n      <th>Traffic_Signal</th>\n    </tr>\n  </thead>\n  <tbody>\n    <tr>\n      <th>0</th>\n      <td>A-513395</td>\n      <td>201</td>\n      <td>2</td>\n      <td>12/31/2020 8:33</td>\n      <td>12/31/2020 9:18</td>\n      <td>Restrictions due to accident on R H Johnson Bl...</td>\n      <td>20532.0</td>\n      <td>N Stardust Blvd</td>\n      <td>R</td>\n      <td>Sun City West</td>\n      <td>...</td>\n      <td>85375-1800</td>\n      <td>US</td>\n      <td>43.0</td>\n      <td>10.0</td>\n      <td>5.0</td>\n      <td>0.0</td>\n      <td>Cloudy</td>\n      <td>Day</td>\n      <td>False</td>\n      <td>True</td>\n    </tr>\n    <tr>\n      <th>1</th>\n      <td>A-513396</td>\n      <td>201</td>\n      <td>2</td>\n      <td>12/31/2020 9:32</td>\n      <td>12/31/2020 11:03</td>\n      <td>Single alternate line traffic due to accident ...</td>\n      <td>30148.0</td>\n      <td>N US Highway 60 89</td>\n      <td>R</td>\n      <td>Wickenburg</td>\n      <td>...</td>\n      <td>85390-3367</td>\n      <td>US</td>\n      <td>45.0</td>\n      <td>10.0</td>\n      <td>3.0</td>\n      <td>0.0</td>\n      <td>Light Drizzle</td>\n      <td>Day</td>\n      <td>False</td>\n      <td>False</td>\n    </tr>\n    <tr>\n      <th>2</th>\n      <td>A-513397</td>\n      <td>201</td>\n      <td>2</td>\n      <td>12/31/2020 12:54</td>\n      <td>12/31/2020 19:20</td>\n      <td>Lane blocked due to accident on AZ-95 Southbou...</td>\n      <td>NaN</td>\n      <td>AZ-95</td>\n      <td>R</td>\n      <td>Lake Havasu City</td>\n      <td>...</td>\n      <td>86404</td>\n      <td>US</td>\n      <td>60.0</td>\n      <td>10.0</td>\n      <td>12.0</td>\n      <td>0.0</td>\n      <td>Fair</td>\n      <td>Day</td>\n      <td>True</td>\n      <td>False</td>\n    </tr>\n    <tr>\n      <th>3</th>\n      <td>A-513398</td>\n      <td>201</td>\n      <td>3</td>\n      <td>12/31/2020 16:04</td>\n      <td>12/31/2020 17:28</td>\n      <td>Lane blocked due to accident on I-10 Eastbound...</td>\n      <td>NaN</td>\n      <td>I-10 E</td>\n      <td>R</td>\n      <td>Avondale</td>\n      <td>...</td>\n      <td>85323</td>\n      <td>US</td>\n      <td>57.0</td>\n      <td>10.0</td>\n      <td>5.0</td>\n      <td>NaN</td>\n      <td>Cloudy</td>\n      <td>Day</td>\n      <td>False</td>\n      <td>False</td>\n    </tr>\n    <tr>\n      <th>4</th>\n      <td>A-513399</td>\n      <td>201</td>\n      <td>2</td>\n      <td>12/31/2020 18:47</td>\n      <td>12/31/2020 19:48</td>\n      <td>Lane blocked due to accident on AZ-89 Southbou...</td>\n      <td>5918.0</td>\n      <td>S State Route 89</td>\n      <td>L</td>\n      <td>Prescott</td>\n      <td>...</td>\n      <td>86303</td>\n      <td>US</td>\n      <td>36.0</td>\n      <td>10.0</td>\n      <td>6.0</td>\n      <td>0.0</td>\n      <td>Cloudy</td>\n      <td>Night</td>\n      <td>False</td>\n      <td>False</td>\n    </tr>\n    <tr>\n      <th>...</th>\n      <td>...</td>\n      <td>...</td>\n      <td>...</td>\n      <td>...</td>\n      <td>...</td>\n      <td>...</td>\n      <td>...</td>\n      <td>...</td>\n      <td>...</td>\n      <td>...</td>\n      <td>...</td>\n      <td>...</td>\n      <td>...</td>\n      <td>...</td>\n      <td>...</td>\n      <td>...</td>\n      <td>...</td>\n      <td>...</td>\n      <td>...</td>\n      <td>...</td>\n      <td>...</td>\n    </tr>\n    <tr>\n      <th>15092</th>\n      <td>A-1048129</td>\n      <td>201</td>\n      <td>2</td>\n      <td>10/9/2019 21:08</td>\n      <td>10/9/2019 21:57</td>\n      <td>Accident on Glen Harbor Blvd at Glendale Ave.</td>\n      <td>NaN</td>\n      <td>N Glen Harbor Blvd</td>\n      <td>R</td>\n      <td>Glendale</td>\n      <td>...</td>\n      <td>85307</td>\n      <td>US</td>\n      <td>86.0</td>\n      <td>10.0</td>\n      <td>0.0</td>\n      <td>0.0</td>\n      <td>Fair</td>\n      <td>Night</td>\n      <td>False</td>\n      <td>True</td>\n    </tr>\n    <tr>\n      <th>15093</th>\n      <td>A-1048130</td>\n      <td>201</td>\n      <td>2</td>\n      <td>10/9/2019 21:10</td>\n      <td>10/9/2019 21:58</td>\n      <td>Accident on Grant Rd at Craycroft Rd.</td>\n      <td>NaN</td>\n      <td>E Grant Rd</td>\n      <td>R</td>\n      <td>Tucson</td>\n      <td>...</td>\n      <td>85712</td>\n      <td>US</td>\n      <td>75.0</td>\n      <td>10.0</td>\n      <td>6.0</td>\n      <td>0.0</td>\n      <td>Fair</td>\n      <td>Night</td>\n      <td>False</td>\n      <td>True</td>\n    </tr>\n    <tr>\n      <th>15094</th>\n      <td>A-1048131</td>\n      <td>201</td>\n      <td>2</td>\n      <td>10/9/2019 21:11</td>\n      <td>10/9/2019 21:58</td>\n      <td>Accident on Grove Pkwy at Priest Dr.</td>\n      <td>NaN</td>\n      <td>S Priest Dr</td>\n      <td>R</td>\n      <td>Tempe</td>\n      <td>...</td>\n      <td>85283</td>\n      <td>US</td>\n      <td>88.0</td>\n      <td>10.0</td>\n      <td>10.0</td>\n      <td>0.0</td>\n      <td>Partly Cloudy</td>\n      <td>Night</td>\n      <td>False</td>\n      <td>False</td>\n    </tr>\n    <tr>\n      <th>15095</th>\n      <td>A-1048132</td>\n      <td>201</td>\n      <td>2</td>\n      <td>10/9/2019 21:10</td>\n      <td>10/9/2019 21:57</td>\n      <td>Accident on 6th St both ways around Maple Ave.</td>\n      <td>101.0</td>\n      <td>W 6th St</td>\n      <td>L</td>\n      <td>Tempe</td>\n      <td>...</td>\n      <td>85281-3715</td>\n      <td>US</td>\n      <td>88.0</td>\n      <td>10.0</td>\n      <td>10.0</td>\n      <td>0.0</td>\n      <td>Partly Cloudy</td>\n      <td>Night</td>\n      <td>False</td>\n      <td>False</td>\n    </tr>\n    <tr>\n      <th>15096</th>\n      <td>A-1048136</td>\n      <td>201</td>\n      <td>2</td>\n      <td>10/9/2019 4:17</td>\n      <td>10/9/2019 6:43</td>\n      <td>Accident on US-191 Northbound near BIA-2003.</td>\n      <td>NaN</td>\n      <td>Middle Well Rd</td>\n      <td>R</td>\n      <td>Chambers</td>\n      <td>...</td>\n      <td>86502</td>\n      <td>US</td>\n      <td>50.0</td>\n      <td>10.0</td>\n      <td>6.0</td>\n      <td>0.0</td>\n      <td>Fair</td>\n      <td>Night</td>\n      <td>False</td>\n      <td>False</td>\n    </tr>\n  </tbody>\n</table>\n<p>15097 rows × 22 columns</p>\n</div>"
     },
     "metadata": {},
     "execution_count": 7
    }
   ],
   "source": [
    "us_data_df = pd.read_csv(csv_path)\n",
    "us_data_cleaned = us_data_df[['ID','TMC','Severity','Start_Time','End_Time','Description','Number','Street','Side','City','County','State','Zipcode','Country','Temperature(F)','Visibility(mi)','Wind_Speed(mph)','Precipitation(in)','Weather_Condition','Sunrise_Sunset','Stop','Traffic_Signal']]\n",
    "us_data_cleaned"
   ]
  },
  {
   "cell_type": "code",
   "execution_count": null,
   "metadata": {},
   "outputs": [],
   "source": []
  }
 ]
}