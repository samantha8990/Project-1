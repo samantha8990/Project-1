{
 "metadata": {
  "language_info": {
   "codemirror_mode": {
    "name": "ipython",
    "version": 3
   },
   "file_extension": ".py",
   "mimetype": "text/x-python",
   "name": "python",
   "nbconvert_exporter": "python",
   "pygments_lexer": "ipython3",
   "version": "3.7.9"
  },
  "orig_nbformat": 2,
  "kernelspec": {
   "name": "python379jvsc74a57bd000603a2c3e8eb17b83d7fca558293375879bba6e0cc7e84ab094aaf79e0fa4fb",
   "display_name": "Python 3.7.9 64-bit ('pythondata': conda)"
  }
 },
 "nbformat": 4,
 "nbformat_minor": 2,
 "cells": [
  {
   "cell_type": "code",
   "execution_count": 19,
   "metadata": {},
   "outputs": [],
   "source": [
    "import pandas as pd\n",
    "import numpy as np\n",
    "import scipy.stats as sts\n",
    "import matplotlib.pyplot as plt\n",
    "import sklearn.datasets as dta"
   ]
  },
  {
   "cell_type": "code",
   "execution_count": 20,
   "metadata": {},
   "outputs": [],
   "source": [
    "csv_path = r'Us_Accidents_Arizona_DEC20.csv'"
   ]
  },
  {
   "cell_type": "code",
   "execution_count": 21,
   "metadata": {},
   "outputs": [
    {
     "output_type": "execute_result",
     "data": {
      "text/plain": [
       "              ID  TMC  Severity        Start_Time          End_Time  \\\n",
       "0       A-513395  201         2   12/31/2020 8:33   12/31/2020 9:18   \n",
       "1       A-513396  201         2   12/31/2020 9:32  12/31/2020 11:03   \n",
       "2       A-513397  201         2  12/31/2020 12:54  12/31/2020 19:20   \n",
       "3       A-513398  201         3  12/31/2020 16:04  12/31/2020 17:28   \n",
       "4       A-513399  201         2  12/31/2020 18:47  12/31/2020 19:48   \n",
       "...          ...  ...       ...               ...               ...   \n",
       "15092  A-1048129  201         2   10/9/2019 21:08   10/9/2019 21:57   \n",
       "15093  A-1048130  201         2   10/9/2019 21:10   10/9/2019 21:58   \n",
       "15094  A-1048131  201         2   10/9/2019 21:11   10/9/2019 21:58   \n",
       "15095  A-1048132  201         2   10/9/2019 21:10   10/9/2019 21:57   \n",
       "15096  A-1048136  201         2    10/9/2019 4:17    10/9/2019 6:43   \n",
       "\n",
       "                   City    County State     Zipcode Country  Temperature(F)  \\\n",
       "0         Sun City West  Maricopa    AZ  85375-1800      US            43.0   \n",
       "1            Wickenburg  Maricopa    AZ  85390-3367      US            45.0   \n",
       "2      Lake Havasu City    Mohave    AZ       86404      US            60.0   \n",
       "3              Avondale  Maricopa    AZ       85323      US            57.0   \n",
       "4              Prescott   Yavapai    AZ       86303      US            36.0   \n",
       "...                 ...       ...   ...         ...     ...             ...   \n",
       "15092          Glendale  Maricopa    AZ       85307      US            86.0   \n",
       "15093            Tucson      Pima    AZ       85712      US            75.0   \n",
       "15094             Tempe  Maricopa    AZ       85283      US            88.0   \n",
       "15095             Tempe  Maricopa    AZ  85281-3715      US            88.0   \n",
       "15096          Chambers    Apache    AZ       86502      US            50.0   \n",
       "\n",
       "       Visibility(mi)  Wind_Speed(mph)  Precipitation(in) Weather_Condition  \\\n",
       "0                10.0              5.0                0.0            Cloudy   \n",
       "1                10.0              3.0                0.0     Light Drizzle   \n",
       "2                10.0             12.0                0.0              Fair   \n",
       "3                10.0              5.0                NaN            Cloudy   \n",
       "4                10.0              6.0                0.0            Cloudy   \n",
       "...               ...              ...                ...               ...   \n",
       "15092            10.0              0.0                0.0              Fair   \n",
       "15093            10.0              6.0                0.0              Fair   \n",
       "15094            10.0             10.0                0.0     Partly Cloudy   \n",
       "15095            10.0             10.0                0.0     Partly Cloudy   \n",
       "15096            10.0              6.0                0.0              Fair   \n",
       "\n",
       "      Sunrise_Sunset   Stop  Traffic_Signal  \n",
       "0                Day  False            True  \n",
       "1                Day  False           False  \n",
       "2                Day   True           False  \n",
       "3                Day  False           False  \n",
       "4              Night  False           False  \n",
       "...              ...    ...             ...  \n",
       "15092          Night  False            True  \n",
       "15093          Night  False            True  \n",
       "15094          Night  False           False  \n",
       "15095          Night  False           False  \n",
       "15096          Night  False           False  \n",
       "\n",
       "[15097 rows x 18 columns]"
      ],
      "text/html": "<div>\n<style scoped>\n    .dataframe tbody tr th:only-of-type {\n        vertical-align: middle;\n    }\n\n    .dataframe tbody tr th {\n        vertical-align: top;\n    }\n\n    .dataframe thead th {\n        text-align: right;\n    }\n</style>\n<table border=\"1\" class=\"dataframe\">\n  <thead>\n    <tr style=\"text-align: right;\">\n      <th></th>\n      <th>ID</th>\n      <th>TMC</th>\n      <th>Severity</th>\n      <th>Start_Time</th>\n      <th>End_Time</th>\n      <th>City</th>\n      <th>County</th>\n      <th>State</th>\n      <th>Zipcode</th>\n      <th>Country</th>\n      <th>Temperature(F)</th>\n      <th>Visibility(mi)</th>\n      <th>Wind_Speed(mph)</th>\n      <th>Precipitation(in)</th>\n      <th>Weather_Condition</th>\n      <th>Sunrise_Sunset</th>\n      <th>Stop</th>\n      <th>Traffic_Signal</th>\n    </tr>\n  </thead>\n  <tbody>\n    <tr>\n      <th>0</th>\n      <td>A-513395</td>\n      <td>201</td>\n      <td>2</td>\n      <td>12/31/2020 8:33</td>\n      <td>12/31/2020 9:18</td>\n      <td>Sun City West</td>\n      <td>Maricopa</td>\n      <td>AZ</td>\n      <td>85375-1800</td>\n      <td>US</td>\n      <td>43.0</td>\n      <td>10.0</td>\n      <td>5.0</td>\n      <td>0.0</td>\n      <td>Cloudy</td>\n      <td>Day</td>\n      <td>False</td>\n      <td>True</td>\n    </tr>\n    <tr>\n      <th>1</th>\n      <td>A-513396</td>\n      <td>201</td>\n      <td>2</td>\n      <td>12/31/2020 9:32</td>\n      <td>12/31/2020 11:03</td>\n      <td>Wickenburg</td>\n      <td>Maricopa</td>\n      <td>AZ</td>\n      <td>85390-3367</td>\n      <td>US</td>\n      <td>45.0</td>\n      <td>10.0</td>\n      <td>3.0</td>\n      <td>0.0</td>\n      <td>Light Drizzle</td>\n      <td>Day</td>\n      <td>False</td>\n      <td>False</td>\n    </tr>\n    <tr>\n      <th>2</th>\n      <td>A-513397</td>\n      <td>201</td>\n      <td>2</td>\n      <td>12/31/2020 12:54</td>\n      <td>12/31/2020 19:20</td>\n      <td>Lake Havasu City</td>\n      <td>Mohave</td>\n      <td>AZ</td>\n      <td>86404</td>\n      <td>US</td>\n      <td>60.0</td>\n      <td>10.0</td>\n      <td>12.0</td>\n      <td>0.0</td>\n      <td>Fair</td>\n      <td>Day</td>\n      <td>True</td>\n      <td>False</td>\n    </tr>\n    <tr>\n      <th>3</th>\n      <td>A-513398</td>\n      <td>201</td>\n      <td>3</td>\n      <td>12/31/2020 16:04</td>\n      <td>12/31/2020 17:28</td>\n      <td>Avondale</td>\n      <td>Maricopa</td>\n      <td>AZ</td>\n      <td>85323</td>\n      <td>US</td>\n      <td>57.0</td>\n      <td>10.0</td>\n      <td>5.0</td>\n      <td>NaN</td>\n      <td>Cloudy</td>\n      <td>Day</td>\n      <td>False</td>\n      <td>False</td>\n    </tr>\n    <tr>\n      <th>4</th>\n      <td>A-513399</td>\n      <td>201</td>\n      <td>2</td>\n      <td>12/31/2020 18:47</td>\n      <td>12/31/2020 19:48</td>\n      <td>Prescott</td>\n      <td>Yavapai</td>\n      <td>AZ</td>\n      <td>86303</td>\n      <td>US</td>\n      <td>36.0</td>\n      <td>10.0</td>\n      <td>6.0</td>\n      <td>0.0</td>\n      <td>Cloudy</td>\n      <td>Night</td>\n      <td>False</td>\n      <td>False</td>\n    </tr>\n    <tr>\n      <th>...</th>\n      <td>...</td>\n      <td>...</td>\n      <td>...</td>\n      <td>...</td>\n      <td>...</td>\n      <td>...</td>\n      <td>...</td>\n      <td>...</td>\n      <td>...</td>\n      <td>...</td>\n      <td>...</td>\n      <td>...</td>\n      <td>...</td>\n      <td>...</td>\n      <td>...</td>\n      <td>...</td>\n      <td>...</td>\n      <td>...</td>\n    </tr>\n    <tr>\n      <th>15092</th>\n      <td>A-1048129</td>\n      <td>201</td>\n      <td>2</td>\n      <td>10/9/2019 21:08</td>\n      <td>10/9/2019 21:57</td>\n      <td>Glendale</td>\n      <td>Maricopa</td>\n      <td>AZ</td>\n      <td>85307</td>\n      <td>US</td>\n      <td>86.0</td>\n      <td>10.0</td>\n      <td>0.0</td>\n      <td>0.0</td>\n      <td>Fair</td>\n      <td>Night</td>\n      <td>False</td>\n      <td>True</td>\n    </tr>\n    <tr>\n      <th>15093</th>\n      <td>A-1048130</td>\n      <td>201</td>\n      <td>2</td>\n      <td>10/9/2019 21:10</td>\n      <td>10/9/2019 21:58</td>\n      <td>Tucson</td>\n      <td>Pima</td>\n      <td>AZ</td>\n      <td>85712</td>\n      <td>US</td>\n      <td>75.0</td>\n      <td>10.0</td>\n      <td>6.0</td>\n      <td>0.0</td>\n      <td>Fair</td>\n      <td>Night</td>\n      <td>False</td>\n      <td>True</td>\n    </tr>\n    <tr>\n      <th>15094</th>\n      <td>A-1048131</td>\n      <td>201</td>\n      <td>2</td>\n      <td>10/9/2019 21:11</td>\n      <td>10/9/2019 21:58</td>\n      <td>Tempe</td>\n      <td>Maricopa</td>\n      <td>AZ</td>\n      <td>85283</td>\n      <td>US</td>\n      <td>88.0</td>\n      <td>10.0</td>\n      <td>10.0</td>\n      <td>0.0</td>\n      <td>Partly Cloudy</td>\n      <td>Night</td>\n      <td>False</td>\n      <td>False</td>\n    </tr>\n    <tr>\n      <th>15095</th>\n      <td>A-1048132</td>\n      <td>201</td>\n      <td>2</td>\n      <td>10/9/2019 21:10</td>\n      <td>10/9/2019 21:57</td>\n      <td>Tempe</td>\n      <td>Maricopa</td>\n      <td>AZ</td>\n      <td>85281-3715</td>\n      <td>US</td>\n      <td>88.0</td>\n      <td>10.0</td>\n      <td>10.0</td>\n      <td>0.0</td>\n      <td>Partly Cloudy</td>\n      <td>Night</td>\n      <td>False</td>\n      <td>False</td>\n    </tr>\n    <tr>\n      <th>15096</th>\n      <td>A-1048136</td>\n      <td>201</td>\n      <td>2</td>\n      <td>10/9/2019 4:17</td>\n      <td>10/9/2019 6:43</td>\n      <td>Chambers</td>\n      <td>Apache</td>\n      <td>AZ</td>\n      <td>86502</td>\n      <td>US</td>\n      <td>50.0</td>\n      <td>10.0</td>\n      <td>6.0</td>\n      <td>0.0</td>\n      <td>Fair</td>\n      <td>Night</td>\n      <td>False</td>\n      <td>False</td>\n    </tr>\n  </tbody>\n</table>\n<p>15097 rows × 18 columns</p>\n</div>"
     },
     "metadata": {},
     "execution_count": 21
    }
   ],
   "source": [
    "us_data_df = pd.read_csv(csv_path)\n",
    "us_data_cleaned = us_data_df[['ID','TMC','Severity','Start_Time','End_Time','City','County','State','Zipcode','Country','Temperature(F)','Visibility(mi)','Wind_Speed(mph)','Precipitation(in)','Weather_Condition','Sunrise_Sunset','Stop','Traffic_Signal']]\n",
    "us_data_cleaned"
   ]
  },
  {
   "cell_type": "code",
   "execution_count": 22,
   "metadata": {},
   "outputs": [
    {
     "output_type": "execute_result",
     "data": {
      "text/plain": [
       "              ID  TMC  Severity       Start_Time          End_Time  \\\n",
       "0       A-513395  201         2  12/31/2020 8:33   12/31/2020 9:18   \n",
       "1       A-513396  201         2  12/31/2020 9:32  12/31/2020 11:03   \n",
       "5       A-513400  201         2  12/31/2020 4:52   12/31/2020 6:07   \n",
       "8       A-513403  201         2  12/31/2020 6:40   12/31/2020 7:10   \n",
       "9       A-513404  201         2  12/31/2020 6:54   12/31/2020 7:24   \n",
       "...          ...  ...       ...              ...               ...   \n",
       "15088  A-1048125  201         3  10/9/2019 19:45   10/9/2019 21:01   \n",
       "15090  A-1048127  201         3  10/9/2019 19:46   10/9/2019 21:03   \n",
       "15092  A-1048129  201         2  10/9/2019 21:08   10/9/2019 21:57   \n",
       "15094  A-1048131  201         2  10/9/2019 21:11   10/9/2019 21:58   \n",
       "15095  A-1048132  201         2  10/9/2019 21:10   10/9/2019 21:57   \n",
       "\n",
       "                City    County State     Zipcode Country  Temperature(F)  \\\n",
       "0      Sun City West  Maricopa    AZ  85375-1800      US            43.0   \n",
       "1         Wickenburg  Maricopa    AZ  85390-3367      US            45.0   \n",
       "5            Phoenix  Maricopa    AZ  85027-4008      US            40.0   \n",
       "8            Phoenix  Maricopa    AZ  85020-1812      US            40.0   \n",
       "9            Phoenix  Maricopa    AZ       85022      US            39.0   \n",
       "...              ...       ...   ...         ...     ...             ...   \n",
       "15088        Phoenix  Maricopa    AZ       85034      US            89.0   \n",
       "15090        Phoenix  Maricopa    AZ       85034      US            89.0   \n",
       "15092       Glendale  Maricopa    AZ       85307      US            86.0   \n",
       "15094          Tempe  Maricopa    AZ       85283      US            88.0   \n",
       "15095          Tempe  Maricopa    AZ  85281-3715      US            88.0   \n",
       "\n",
       "       Visibility(mi)  Wind_Speed(mph)  Precipitation(in) Weather_Condition  \\\n",
       "0                10.0              5.0                0.0            Cloudy   \n",
       "1                10.0              3.0                0.0     Light Drizzle   \n",
       "5                10.0              0.0                0.0              Fair   \n",
       "8                10.0              0.0                0.0              Fair   \n",
       "9                10.0              0.0                0.0              Fair   \n",
       "...               ...              ...                ...               ...   \n",
       "15088            10.0             13.0                0.0              Fair   \n",
       "15090            10.0             13.0                0.0              Fair   \n",
       "15092            10.0              0.0                0.0              Fair   \n",
       "15094            10.0             10.0                0.0     Partly Cloudy   \n",
       "15095            10.0             10.0                0.0     Partly Cloudy   \n",
       "\n",
       "      Sunrise_Sunset   Stop  Traffic_Signal  \n",
       "0                Day  False            True  \n",
       "1                Day  False           False  \n",
       "5              Night  False            True  \n",
       "8              Night  False           False  \n",
       "9              Night  False            True  \n",
       "...              ...    ...             ...  \n",
       "15088          Night  False           False  \n",
       "15090          Night  False           False  \n",
       "15092          Night  False            True  \n",
       "15094          Night  False           False  \n",
       "15095          Night  False           False  \n",
       "\n",
       "[8316 rows x 18 columns]"
      ],
      "text/html": "<div>\n<style scoped>\n    .dataframe tbody tr th:only-of-type {\n        vertical-align: middle;\n    }\n\n    .dataframe tbody tr th {\n        vertical-align: top;\n    }\n\n    .dataframe thead th {\n        text-align: right;\n    }\n</style>\n<table border=\"1\" class=\"dataframe\">\n  <thead>\n    <tr style=\"text-align: right;\">\n      <th></th>\n      <th>ID</th>\n      <th>TMC</th>\n      <th>Severity</th>\n      <th>Start_Time</th>\n      <th>End_Time</th>\n      <th>City</th>\n      <th>County</th>\n      <th>State</th>\n      <th>Zipcode</th>\n      <th>Country</th>\n      <th>Temperature(F)</th>\n      <th>Visibility(mi)</th>\n      <th>Wind_Speed(mph)</th>\n      <th>Precipitation(in)</th>\n      <th>Weather_Condition</th>\n      <th>Sunrise_Sunset</th>\n      <th>Stop</th>\n      <th>Traffic_Signal</th>\n    </tr>\n  </thead>\n  <tbody>\n    <tr>\n      <th>0</th>\n      <td>A-513395</td>\n      <td>201</td>\n      <td>2</td>\n      <td>12/31/2020 8:33</td>\n      <td>12/31/2020 9:18</td>\n      <td>Sun City West</td>\n      <td>Maricopa</td>\n      <td>AZ</td>\n      <td>85375-1800</td>\n      <td>US</td>\n      <td>43.0</td>\n      <td>10.0</td>\n      <td>5.0</td>\n      <td>0.0</td>\n      <td>Cloudy</td>\n      <td>Day</td>\n      <td>False</td>\n      <td>True</td>\n    </tr>\n    <tr>\n      <th>1</th>\n      <td>A-513396</td>\n      <td>201</td>\n      <td>2</td>\n      <td>12/31/2020 9:32</td>\n      <td>12/31/2020 11:03</td>\n      <td>Wickenburg</td>\n      <td>Maricopa</td>\n      <td>AZ</td>\n      <td>85390-3367</td>\n      <td>US</td>\n      <td>45.0</td>\n      <td>10.0</td>\n      <td>3.0</td>\n      <td>0.0</td>\n      <td>Light Drizzle</td>\n      <td>Day</td>\n      <td>False</td>\n      <td>False</td>\n    </tr>\n    <tr>\n      <th>5</th>\n      <td>A-513400</td>\n      <td>201</td>\n      <td>2</td>\n      <td>12/31/2020 4:52</td>\n      <td>12/31/2020 6:07</td>\n      <td>Phoenix</td>\n      <td>Maricopa</td>\n      <td>AZ</td>\n      <td>85027-4008</td>\n      <td>US</td>\n      <td>40.0</td>\n      <td>10.0</td>\n      <td>0.0</td>\n      <td>0.0</td>\n      <td>Fair</td>\n      <td>Night</td>\n      <td>False</td>\n      <td>True</td>\n    </tr>\n    <tr>\n      <th>8</th>\n      <td>A-513403</td>\n      <td>201</td>\n      <td>2</td>\n      <td>12/31/2020 6:40</td>\n      <td>12/31/2020 7:10</td>\n      <td>Phoenix</td>\n      <td>Maricopa</td>\n      <td>AZ</td>\n      <td>85020-1812</td>\n      <td>US</td>\n      <td>40.0</td>\n      <td>10.0</td>\n      <td>0.0</td>\n      <td>0.0</td>\n      <td>Fair</td>\n      <td>Night</td>\n      <td>False</td>\n      <td>False</td>\n    </tr>\n    <tr>\n      <th>9</th>\n      <td>A-513404</td>\n      <td>201</td>\n      <td>2</td>\n      <td>12/31/2020 6:54</td>\n      <td>12/31/2020 7:24</td>\n      <td>Phoenix</td>\n      <td>Maricopa</td>\n      <td>AZ</td>\n      <td>85022</td>\n      <td>US</td>\n      <td>39.0</td>\n      <td>10.0</td>\n      <td>0.0</td>\n      <td>0.0</td>\n      <td>Fair</td>\n      <td>Night</td>\n      <td>False</td>\n      <td>True</td>\n    </tr>\n    <tr>\n      <th>...</th>\n      <td>...</td>\n      <td>...</td>\n      <td>...</td>\n      <td>...</td>\n      <td>...</td>\n      <td>...</td>\n      <td>...</td>\n      <td>...</td>\n      <td>...</td>\n      <td>...</td>\n      <td>...</td>\n      <td>...</td>\n      <td>...</td>\n      <td>...</td>\n      <td>...</td>\n      <td>...</td>\n      <td>...</td>\n      <td>...</td>\n    </tr>\n    <tr>\n      <th>15088</th>\n      <td>A-1048125</td>\n      <td>201</td>\n      <td>3</td>\n      <td>10/9/2019 19:45</td>\n      <td>10/9/2019 21:01</td>\n      <td>Phoenix</td>\n      <td>Maricopa</td>\n      <td>AZ</td>\n      <td>85034</td>\n      <td>US</td>\n      <td>89.0</td>\n      <td>10.0</td>\n      <td>13.0</td>\n      <td>0.0</td>\n      <td>Fair</td>\n      <td>Night</td>\n      <td>False</td>\n      <td>False</td>\n    </tr>\n    <tr>\n      <th>15090</th>\n      <td>A-1048127</td>\n      <td>201</td>\n      <td>3</td>\n      <td>10/9/2019 19:46</td>\n      <td>10/9/2019 21:03</td>\n      <td>Phoenix</td>\n      <td>Maricopa</td>\n      <td>AZ</td>\n      <td>85034</td>\n      <td>US</td>\n      <td>89.0</td>\n      <td>10.0</td>\n      <td>13.0</td>\n      <td>0.0</td>\n      <td>Fair</td>\n      <td>Night</td>\n      <td>False</td>\n      <td>False</td>\n    </tr>\n    <tr>\n      <th>15092</th>\n      <td>A-1048129</td>\n      <td>201</td>\n      <td>2</td>\n      <td>10/9/2019 21:08</td>\n      <td>10/9/2019 21:57</td>\n      <td>Glendale</td>\n      <td>Maricopa</td>\n      <td>AZ</td>\n      <td>85307</td>\n      <td>US</td>\n      <td>86.0</td>\n      <td>10.0</td>\n      <td>0.0</td>\n      <td>0.0</td>\n      <td>Fair</td>\n      <td>Night</td>\n      <td>False</td>\n      <td>True</td>\n    </tr>\n    <tr>\n      <th>15094</th>\n      <td>A-1048131</td>\n      <td>201</td>\n      <td>2</td>\n      <td>10/9/2019 21:11</td>\n      <td>10/9/2019 21:58</td>\n      <td>Tempe</td>\n      <td>Maricopa</td>\n      <td>AZ</td>\n      <td>85283</td>\n      <td>US</td>\n      <td>88.0</td>\n      <td>10.0</td>\n      <td>10.0</td>\n      <td>0.0</td>\n      <td>Partly Cloudy</td>\n      <td>Night</td>\n      <td>False</td>\n      <td>False</td>\n    </tr>\n    <tr>\n      <th>15095</th>\n      <td>A-1048132</td>\n      <td>201</td>\n      <td>2</td>\n      <td>10/9/2019 21:10</td>\n      <td>10/9/2019 21:57</td>\n      <td>Tempe</td>\n      <td>Maricopa</td>\n      <td>AZ</td>\n      <td>85281-3715</td>\n      <td>US</td>\n      <td>88.0</td>\n      <td>10.0</td>\n      <td>10.0</td>\n      <td>0.0</td>\n      <td>Partly Cloudy</td>\n      <td>Night</td>\n      <td>False</td>\n      <td>False</td>\n    </tr>\n  </tbody>\n</table>\n<p>8316 rows × 18 columns</p>\n</div>"
     },
     "metadata": {},
     "execution_count": 22
    }
   ],
   "source": [
    "us_data_cleaned = us_data_cleaned.dropna(how=\"any\")\n",
    "us_data_maricopa = us_data_cleaned.loc[us_data_cleaned['County'] == 'Maricopa']\n",
    "us_data_maricopa"
   ]
  },
  {
   "cell_type": "code",
   "execution_count": 27,
   "metadata": {},
   "outputs": [
    {
     "output_type": "stream",
     "name": "stderr",
     "text": [
      "C:\\Users\\ashle\\anaconda3\\envs\\pythondata\\lib\\site-packages\\ipykernel_launcher.py:2: SettingWithCopyWarning: \nA value is trying to be set on a copy of a slice from a DataFrame.\nTry using .loc[row_indexer,col_indexer] = value instead\n\nSee the caveats in the documentation: https://pandas.pydata.org/pandas-docs/stable/user_guide/indexing.html#returning-a-view-versus-a-copy\n  \nC:\\Users\\ashle\\anaconda3\\envs\\pythondata\\lib\\site-packages\\ipykernel_launcher.py:3: SettingWithCopyWarning: \nA value is trying to be set on a copy of a slice from a DataFrame.\nTry using .loc[row_indexer,col_indexer] = value instead\n\nSee the caveats in the documentation: https://pandas.pydata.org/pandas-docs/stable/user_guide/indexing.html#returning-a-view-versus-a-copy\n  This is separate from the ipykernel package so we can avoid doing imports until\nC:\\Users\\ashle\\anaconda3\\envs\\pythondata\\lib\\site-packages\\ipykernel_launcher.py:4: SettingWithCopyWarning: \nA value is trying to be set on a copy of a slice from a DataFrame.\nTry using .loc[row_indexer,col_indexer] = value instead\n\nSee the caveats in the documentation: https://pandas.pydata.org/pandas-docs/stable/user_guide/indexing.html#returning-a-view-versus-a-copy\n  after removing the cwd from sys.path.\n"
     ]
    },
    {
     "output_type": "execute_result",
     "data": {
      "text/plain": [
       "              ID  TMC  Severity  Start_Time    End_Time           City  \\\n",
       "0       A-513395  201         2  12/31/2020  12/31/2020  Sun City West   \n",
       "1       A-513396  201         2  12/31/2020  12/31/2020     Wickenburg   \n",
       "5       A-513400  201         2  12/31/2020  12/31/2020        Phoenix   \n",
       "8       A-513403  201         2  12/31/2020  12/31/2020        Phoenix   \n",
       "9       A-513404  201         2  12/31/2020  12/31/2020        Phoenix   \n",
       "...          ...  ...       ...         ...         ...            ...   \n",
       "15088  A-1048125  201         3   10/9/2019   10/9/2019        Phoenix   \n",
       "15090  A-1048127  201         3   10/9/2019   10/9/2019        Phoenix   \n",
       "15092  A-1048129  201         2   10/9/2019   10/9/2019       Glendale   \n",
       "15094  A-1048131  201         2   10/9/2019   10/9/2019          Tempe   \n",
       "15095  A-1048132  201         2   10/9/2019   10/9/2019          Tempe   \n",
       "\n",
       "         County State Zipcode Country  Temperature(F)  Visibility(mi)  \\\n",
       "0      Maricopa    AZ   85375      US            43.0            10.0   \n",
       "1      Maricopa    AZ   85390      US            45.0            10.0   \n",
       "5      Maricopa    AZ   85027      US            40.0            10.0   \n",
       "8      Maricopa    AZ   85020      US            40.0            10.0   \n",
       "9      Maricopa    AZ   85022      US            39.0            10.0   \n",
       "...         ...   ...     ...     ...             ...             ...   \n",
       "15088  Maricopa    AZ   85034      US            89.0            10.0   \n",
       "15090  Maricopa    AZ   85034      US            89.0            10.0   \n",
       "15092  Maricopa    AZ   85307      US            86.0            10.0   \n",
       "15094  Maricopa    AZ   85283      US            88.0            10.0   \n",
       "15095  Maricopa    AZ   85281      US            88.0            10.0   \n",
       "\n",
       "       Wind_Speed(mph)  Precipitation(in) Weather_Condition Sunrise_Sunset  \\\n",
       "0                  5.0                0.0            Cloudy            Day   \n",
       "1                  3.0                0.0     Light Drizzle            Day   \n",
       "5                  0.0                0.0              Fair          Night   \n",
       "8                  0.0                0.0              Fair          Night   \n",
       "9                  0.0                0.0              Fair          Night   \n",
       "...                ...                ...               ...            ...   \n",
       "15088             13.0                0.0              Fair          Night   \n",
       "15090             13.0                0.0              Fair          Night   \n",
       "15092              0.0                0.0              Fair          Night   \n",
       "15094             10.0                0.0     Partly Cloudy          Night   \n",
       "15095             10.0                0.0     Partly Cloudy          Night   \n",
       "\n",
       "        Stop  Traffic_Signal  \n",
       "0      False            True  \n",
       "1      False           False  \n",
       "5      False            True  \n",
       "8      False           False  \n",
       "9      False            True  \n",
       "...      ...             ...  \n",
       "15088  False           False  \n",
       "15090  False           False  \n",
       "15092  False            True  \n",
       "15094  False           False  \n",
       "15095  False           False  \n",
       "\n",
       "[8316 rows x 18 columns]"
      ],
      "text/html": "<div>\n<style scoped>\n    .dataframe tbody tr th:only-of-type {\n        vertical-align: middle;\n    }\n\n    .dataframe tbody tr th {\n        vertical-align: top;\n    }\n\n    .dataframe thead th {\n        text-align: right;\n    }\n</style>\n<table border=\"1\" class=\"dataframe\">\n  <thead>\n    <tr style=\"text-align: right;\">\n      <th></th>\n      <th>ID</th>\n      <th>TMC</th>\n      <th>Severity</th>\n      <th>Start_Time</th>\n      <th>End_Time</th>\n      <th>City</th>\n      <th>County</th>\n      <th>State</th>\n      <th>Zipcode</th>\n      <th>Country</th>\n      <th>Temperature(F)</th>\n      <th>Visibility(mi)</th>\n      <th>Wind_Speed(mph)</th>\n      <th>Precipitation(in)</th>\n      <th>Weather_Condition</th>\n      <th>Sunrise_Sunset</th>\n      <th>Stop</th>\n      <th>Traffic_Signal</th>\n    </tr>\n  </thead>\n  <tbody>\n    <tr>\n      <th>0</th>\n      <td>A-513395</td>\n      <td>201</td>\n      <td>2</td>\n      <td>12/31/2020</td>\n      <td>12/31/2020</td>\n      <td>Sun City West</td>\n      <td>Maricopa</td>\n      <td>AZ</td>\n      <td>85375</td>\n      <td>US</td>\n      <td>43.0</td>\n      <td>10.0</td>\n      <td>5.0</td>\n      <td>0.0</td>\n      <td>Cloudy</td>\n      <td>Day</td>\n      <td>False</td>\n      <td>True</td>\n    </tr>\n    <tr>\n      <th>1</th>\n      <td>A-513396</td>\n      <td>201</td>\n      <td>2</td>\n      <td>12/31/2020</td>\n      <td>12/31/2020</td>\n      <td>Wickenburg</td>\n      <td>Maricopa</td>\n      <td>AZ</td>\n      <td>85390</td>\n      <td>US</td>\n      <td>45.0</td>\n      <td>10.0</td>\n      <td>3.0</td>\n      <td>0.0</td>\n      <td>Light Drizzle</td>\n      <td>Day</td>\n      <td>False</td>\n      <td>False</td>\n    </tr>\n    <tr>\n      <th>5</th>\n      <td>A-513400</td>\n      <td>201</td>\n      <td>2</td>\n      <td>12/31/2020</td>\n      <td>12/31/2020</td>\n      <td>Phoenix</td>\n      <td>Maricopa</td>\n      <td>AZ</td>\n      <td>85027</td>\n      <td>US</td>\n      <td>40.0</td>\n      <td>10.0</td>\n      <td>0.0</td>\n      <td>0.0</td>\n      <td>Fair</td>\n      <td>Night</td>\n      <td>False</td>\n      <td>True</td>\n    </tr>\n    <tr>\n      <th>8</th>\n      <td>A-513403</td>\n      <td>201</td>\n      <td>2</td>\n      <td>12/31/2020</td>\n      <td>12/31/2020</td>\n      <td>Phoenix</td>\n      <td>Maricopa</td>\n      <td>AZ</td>\n      <td>85020</td>\n      <td>US</td>\n      <td>40.0</td>\n      <td>10.0</td>\n      <td>0.0</td>\n      <td>0.0</td>\n      <td>Fair</td>\n      <td>Night</td>\n      <td>False</td>\n      <td>False</td>\n    </tr>\n    <tr>\n      <th>9</th>\n      <td>A-513404</td>\n      <td>201</td>\n      <td>2</td>\n      <td>12/31/2020</td>\n      <td>12/31/2020</td>\n      <td>Phoenix</td>\n      <td>Maricopa</td>\n      <td>AZ</td>\n      <td>85022</td>\n      <td>US</td>\n      <td>39.0</td>\n      <td>10.0</td>\n      <td>0.0</td>\n      <td>0.0</td>\n      <td>Fair</td>\n      <td>Night</td>\n      <td>False</td>\n      <td>True</td>\n    </tr>\n    <tr>\n      <th>...</th>\n      <td>...</td>\n      <td>...</td>\n      <td>...</td>\n      <td>...</td>\n      <td>...</td>\n      <td>...</td>\n      <td>...</td>\n      <td>...</td>\n      <td>...</td>\n      <td>...</td>\n      <td>...</td>\n      <td>...</td>\n      <td>...</td>\n      <td>...</td>\n      <td>...</td>\n      <td>...</td>\n      <td>...</td>\n      <td>...</td>\n    </tr>\n    <tr>\n      <th>15088</th>\n      <td>A-1048125</td>\n      <td>201</td>\n      <td>3</td>\n      <td>10/9/2019</td>\n      <td>10/9/2019</td>\n      <td>Phoenix</td>\n      <td>Maricopa</td>\n      <td>AZ</td>\n      <td>85034</td>\n      <td>US</td>\n      <td>89.0</td>\n      <td>10.0</td>\n      <td>13.0</td>\n      <td>0.0</td>\n      <td>Fair</td>\n      <td>Night</td>\n      <td>False</td>\n      <td>False</td>\n    </tr>\n    <tr>\n      <th>15090</th>\n      <td>A-1048127</td>\n      <td>201</td>\n      <td>3</td>\n      <td>10/9/2019</td>\n      <td>10/9/2019</td>\n      <td>Phoenix</td>\n      <td>Maricopa</td>\n      <td>AZ</td>\n      <td>85034</td>\n      <td>US</td>\n      <td>89.0</td>\n      <td>10.0</td>\n      <td>13.0</td>\n      <td>0.0</td>\n      <td>Fair</td>\n      <td>Night</td>\n      <td>False</td>\n      <td>False</td>\n    </tr>\n    <tr>\n      <th>15092</th>\n      <td>A-1048129</td>\n      <td>201</td>\n      <td>2</td>\n      <td>10/9/2019</td>\n      <td>10/9/2019</td>\n      <td>Glendale</td>\n      <td>Maricopa</td>\n      <td>AZ</td>\n      <td>85307</td>\n      <td>US</td>\n      <td>86.0</td>\n      <td>10.0</td>\n      <td>0.0</td>\n      <td>0.0</td>\n      <td>Fair</td>\n      <td>Night</td>\n      <td>False</td>\n      <td>True</td>\n    </tr>\n    <tr>\n      <th>15094</th>\n      <td>A-1048131</td>\n      <td>201</td>\n      <td>2</td>\n      <td>10/9/2019</td>\n      <td>10/9/2019</td>\n      <td>Tempe</td>\n      <td>Maricopa</td>\n      <td>AZ</td>\n      <td>85283</td>\n      <td>US</td>\n      <td>88.0</td>\n      <td>10.0</td>\n      <td>10.0</td>\n      <td>0.0</td>\n      <td>Partly Cloudy</td>\n      <td>Night</td>\n      <td>False</td>\n      <td>False</td>\n    </tr>\n    <tr>\n      <th>15095</th>\n      <td>A-1048132</td>\n      <td>201</td>\n      <td>2</td>\n      <td>10/9/2019</td>\n      <td>10/9/2019</td>\n      <td>Tempe</td>\n      <td>Maricopa</td>\n      <td>AZ</td>\n      <td>85281</td>\n      <td>US</td>\n      <td>88.0</td>\n      <td>10.0</td>\n      <td>10.0</td>\n      <td>0.0</td>\n      <td>Partly Cloudy</td>\n      <td>Night</td>\n      <td>False</td>\n      <td>False</td>\n    </tr>\n  </tbody>\n</table>\n<p>8316 rows × 18 columns</p>\n</div>"
     },
     "metadata": {},
     "execution_count": 27
    }
   ],
   "source": [
    "#Update the Start_Time and End_Time columns formatting to remove time stamp\n",
    "us_data_maricopa['Start_Time']=us_data_maricopa['Start_Time'].str.split(' ', expand=True)[0]\n",
    "us_data_maricopa['End_Time']=us_data_maricopa['End_Time'].str.split(' ', expand=True)[0]\n",
    "us_data_maricopa['Zipcode']=us_data_maricopa['Zipcode'].str.split('-', expand=True)[0]\n",
    "us_data_maricopa"
   ]
  },
  {
   "source": [
    "#convert dates\n",
    "us_data_maricopa['End_Time'] = pd.to_datetime(us_data_maricopa['End_Time'])\n",
    "us_data_maricopa['Start_Time'] = pd.to_datetime(us_data_maricopa['Start_Time'])"
   ],
   "cell_type": "code",
   "metadata": {},
   "execution_count": 29,
   "outputs": [
    {
     "output_type": "stream",
     "name": "stderr",
     "text": [
      "C:\\Users\\ashle\\anaconda3\\envs\\pythondata\\lib\\site-packages\\ipykernel_launcher.py:2: SettingWithCopyWarning: \nA value is trying to be set on a copy of a slice from a DataFrame.\nTry using .loc[row_indexer,col_indexer] = value instead\n\nSee the caveats in the documentation: https://pandas.pydata.org/pandas-docs/stable/user_guide/indexing.html#returning-a-view-versus-a-copy\n  \nC:\\Users\\ashle\\anaconda3\\envs\\pythondata\\lib\\site-packages\\ipykernel_launcher.py:3: SettingWithCopyWarning: \nA value is trying to be set on a copy of a slice from a DataFrame.\nTry using .loc[row_indexer,col_indexer] = value instead\n\nSee the caveats in the documentation: https://pandas.pydata.org/pandas-docs/stable/user_guide/indexing.html#returning-a-view-versus-a-copy\n  This is separate from the ipykernel package so we can avoid doing imports until\n"
     ]
    }
   ]
  },
  {
   "cell_type": "code",
   "execution_count": 32,
   "metadata": {},
   "outputs": [
    {
     "output_type": "stream",
     "name": "stderr",
     "text": [
      "C:\\Users\\ashle\\anaconda3\\envs\\pythondata\\lib\\site-packages\\ipykernel_launcher.py:2: SettingWithCopyWarning: \nA value is trying to be set on a copy of a slice from a DataFrame.\nTry using .loc[row_indexer,col_indexer] = value instead\n\nSee the caveats in the documentation: https://pandas.pydata.org/pandas-docs/stable/user_guide/indexing.html#returning-a-view-versus-a-copy\n  \nC:\\Users\\ashle\\anaconda3\\envs\\pythondata\\lib\\site-packages\\ipykernel_launcher.py:3: SettingWithCopyWarning: \nA value is trying to be set on a copy of a slice from a DataFrame.\nTry using .loc[row_indexer,col_indexer] = value instead\n\nSee the caveats in the documentation: https://pandas.pydata.org/pandas-docs/stable/user_guide/indexing.html#returning-a-view-versus-a-copy\n  This is separate from the ipykernel package so we can avoid doing imports until\nC:\\Users\\ashle\\anaconda3\\envs\\pythondata\\lib\\site-packages\\ipykernel_launcher.py:4: SettingWithCopyWarning: \nA value is trying to be set on a copy of a slice from a DataFrame.\nTry using .loc[row_indexer,col_indexer] = value instead\n\nSee the caveats in the documentation: https://pandas.pydata.org/pandas-docs/stable/user_guide/indexing.html#returning-a-view-versus-a-copy\n  after removing the cwd from sys.path.\n"
     ]
    },
    {
     "output_type": "execute_result",
     "data": {
      "text/plain": [
       "              ID  TMC  Severity Start_Time   End_Time           City  \\\n",
       "0       A-513395  201         2 2020-12-31 2020-12-31  Sun City West   \n",
       "1       A-513396  201         2 2020-12-31 2020-12-31     Wickenburg   \n",
       "5       A-513400  201         2 2020-12-31 2020-12-31        Phoenix   \n",
       "8       A-513403  201         2 2020-12-31 2020-12-31        Phoenix   \n",
       "9       A-513404  201         2 2020-12-31 2020-12-31        Phoenix   \n",
       "...          ...  ...       ...        ...        ...            ...   \n",
       "15088  A-1048125  201         3 2019-10-09 2019-10-09        Phoenix   \n",
       "15090  A-1048127  201         3 2019-10-09 2019-10-09        Phoenix   \n",
       "15092  A-1048129  201         2 2019-10-09 2019-10-09       Glendale   \n",
       "15094  A-1048131  201         2 2019-10-09 2019-10-09          Tempe   \n",
       "15095  A-1048132  201         2 2019-10-09 2019-10-09          Tempe   \n",
       "\n",
       "         County State Zipcode Country  ...  Visibility(mi)  Wind_Speed(mph)  \\\n",
       "0      Maricopa    AZ   85375      US  ...            10.0              5.0   \n",
       "1      Maricopa    AZ   85390      US  ...            10.0              3.0   \n",
       "5      Maricopa    AZ   85027      US  ...            10.0              0.0   \n",
       "8      Maricopa    AZ   85020      US  ...            10.0              0.0   \n",
       "9      Maricopa    AZ   85022      US  ...            10.0              0.0   \n",
       "...         ...   ...     ...     ...  ...             ...              ...   \n",
       "15088  Maricopa    AZ   85034      US  ...            10.0             13.0   \n",
       "15090  Maricopa    AZ   85034      US  ...            10.0             13.0   \n",
       "15092  Maricopa    AZ   85307      US  ...            10.0              0.0   \n",
       "15094  Maricopa    AZ   85283      US  ...            10.0             10.0   \n",
       "15095  Maricopa    AZ   85281      US  ...            10.0             10.0   \n",
       "\n",
       "       Precipitation(in)  Weather_Condition Sunrise_Sunset   Stop  \\\n",
       "0                    0.0             Cloudy            Day  False   \n",
       "1                    0.0      Light Drizzle            Day  False   \n",
       "5                    0.0               Fair          Night  False   \n",
       "8                    0.0               Fair          Night  False   \n",
       "9                    0.0               Fair          Night  False   \n",
       "...                  ...                ...            ...    ...   \n",
       "15088                0.0               Fair          Night  False   \n",
       "15090                0.0               Fair          Night  False   \n",
       "15092                0.0               Fair          Night  False   \n",
       "15094                0.0      Partly Cloudy          Night  False   \n",
       "15095                0.0      Partly Cloudy          Night  False   \n",
       "\n",
       "       Traffic_Signal  month  day  season  \n",
       "0                True     12   31          \n",
       "1               False     12   31          \n",
       "5                True     12   31          \n",
       "8               False     12   31          \n",
       "9                True     12   31          \n",
       "...               ...    ...  ...     ...  \n",
       "15088           False     10    9          \n",
       "15090           False     10    9          \n",
       "15092            True     10    9          \n",
       "15094           False     10    9          \n",
       "15095           False     10    9          \n",
       "\n",
       "[8316 rows x 21 columns]"
      ],
      "text/html": "<div>\n<style scoped>\n    .dataframe tbody tr th:only-of-type {\n        vertical-align: middle;\n    }\n\n    .dataframe tbody tr th {\n        vertical-align: top;\n    }\n\n    .dataframe thead th {\n        text-align: right;\n    }\n</style>\n<table border=\"1\" class=\"dataframe\">\n  <thead>\n    <tr style=\"text-align: right;\">\n      <th></th>\n      <th>ID</th>\n      <th>TMC</th>\n      <th>Severity</th>\n      <th>Start_Time</th>\n      <th>End_Time</th>\n      <th>City</th>\n      <th>County</th>\n      <th>State</th>\n      <th>Zipcode</th>\n      <th>Country</th>\n      <th>...</th>\n      <th>Visibility(mi)</th>\n      <th>Wind_Speed(mph)</th>\n      <th>Precipitation(in)</th>\n      <th>Weather_Condition</th>\n      <th>Sunrise_Sunset</th>\n      <th>Stop</th>\n      <th>Traffic_Signal</th>\n      <th>month</th>\n      <th>day</th>\n      <th>season</th>\n    </tr>\n  </thead>\n  <tbody>\n    <tr>\n      <th>0</th>\n      <td>A-513395</td>\n      <td>201</td>\n      <td>2</td>\n      <td>2020-12-31</td>\n      <td>2020-12-31</td>\n      <td>Sun City West</td>\n      <td>Maricopa</td>\n      <td>AZ</td>\n      <td>85375</td>\n      <td>US</td>\n      <td>...</td>\n      <td>10.0</td>\n      <td>5.0</td>\n      <td>0.0</td>\n      <td>Cloudy</td>\n      <td>Day</td>\n      <td>False</td>\n      <td>True</td>\n      <td>12</td>\n      <td>31</td>\n      <td></td>\n    </tr>\n    <tr>\n      <th>1</th>\n      <td>A-513396</td>\n      <td>201</td>\n      <td>2</td>\n      <td>2020-12-31</td>\n      <td>2020-12-31</td>\n      <td>Wickenburg</td>\n      <td>Maricopa</td>\n      <td>AZ</td>\n      <td>85390</td>\n      <td>US</td>\n      <td>...</td>\n      <td>10.0</td>\n      <td>3.0</td>\n      <td>0.0</td>\n      <td>Light Drizzle</td>\n      <td>Day</td>\n      <td>False</td>\n      <td>False</td>\n      <td>12</td>\n      <td>31</td>\n      <td></td>\n    </tr>\n    <tr>\n      <th>5</th>\n      <td>A-513400</td>\n      <td>201</td>\n      <td>2</td>\n      <td>2020-12-31</td>\n      <td>2020-12-31</td>\n      <td>Phoenix</td>\n      <td>Maricopa</td>\n      <td>AZ</td>\n      <td>85027</td>\n      <td>US</td>\n      <td>...</td>\n      <td>10.0</td>\n      <td>0.0</td>\n      <td>0.0</td>\n      <td>Fair</td>\n      <td>Night</td>\n      <td>False</td>\n      <td>True</td>\n      <td>12</td>\n      <td>31</td>\n      <td></td>\n    </tr>\n    <tr>\n      <th>8</th>\n      <td>A-513403</td>\n      <td>201</td>\n      <td>2</td>\n      <td>2020-12-31</td>\n      <td>2020-12-31</td>\n      <td>Phoenix</td>\n      <td>Maricopa</td>\n      <td>AZ</td>\n      <td>85020</td>\n      <td>US</td>\n      <td>...</td>\n      <td>10.0</td>\n      <td>0.0</td>\n      <td>0.0</td>\n      <td>Fair</td>\n      <td>Night</td>\n      <td>False</td>\n      <td>False</td>\n      <td>12</td>\n      <td>31</td>\n      <td></td>\n    </tr>\n    <tr>\n      <th>9</th>\n      <td>A-513404</td>\n      <td>201</td>\n      <td>2</td>\n      <td>2020-12-31</td>\n      <td>2020-12-31</td>\n      <td>Phoenix</td>\n      <td>Maricopa</td>\n      <td>AZ</td>\n      <td>85022</td>\n      <td>US</td>\n      <td>...</td>\n      <td>10.0</td>\n      <td>0.0</td>\n      <td>0.0</td>\n      <td>Fair</td>\n      <td>Night</td>\n      <td>False</td>\n      <td>True</td>\n      <td>12</td>\n      <td>31</td>\n      <td></td>\n    </tr>\n    <tr>\n      <th>...</th>\n      <td>...</td>\n      <td>...</td>\n      <td>...</td>\n      <td>...</td>\n      <td>...</td>\n      <td>...</td>\n      <td>...</td>\n      <td>...</td>\n      <td>...</td>\n      <td>...</td>\n      <td>...</td>\n      <td>...</td>\n      <td>...</td>\n      <td>...</td>\n      <td>...</td>\n      <td>...</td>\n      <td>...</td>\n      <td>...</td>\n      <td>...</td>\n      <td>...</td>\n      <td>...</td>\n    </tr>\n    <tr>\n      <th>15088</th>\n      <td>A-1048125</td>\n      <td>201</td>\n      <td>3</td>\n      <td>2019-10-09</td>\n      <td>2019-10-09</td>\n      <td>Phoenix</td>\n      <td>Maricopa</td>\n      <td>AZ</td>\n      <td>85034</td>\n      <td>US</td>\n      <td>...</td>\n      <td>10.0</td>\n      <td>13.0</td>\n      <td>0.0</td>\n      <td>Fair</td>\n      <td>Night</td>\n      <td>False</td>\n      <td>False</td>\n      <td>10</td>\n      <td>9</td>\n      <td></td>\n    </tr>\n    <tr>\n      <th>15090</th>\n      <td>A-1048127</td>\n      <td>201</td>\n      <td>3</td>\n      <td>2019-10-09</td>\n      <td>2019-10-09</td>\n      <td>Phoenix</td>\n      <td>Maricopa</td>\n      <td>AZ</td>\n      <td>85034</td>\n      <td>US</td>\n      <td>...</td>\n      <td>10.0</td>\n      <td>13.0</td>\n      <td>0.0</td>\n      <td>Fair</td>\n      <td>Night</td>\n      <td>False</td>\n      <td>False</td>\n      <td>10</td>\n      <td>9</td>\n      <td></td>\n    </tr>\n    <tr>\n      <th>15092</th>\n      <td>A-1048129</td>\n      <td>201</td>\n      <td>2</td>\n      <td>2019-10-09</td>\n      <td>2019-10-09</td>\n      <td>Glendale</td>\n      <td>Maricopa</td>\n      <td>AZ</td>\n      <td>85307</td>\n      <td>US</td>\n      <td>...</td>\n      <td>10.0</td>\n      <td>0.0</td>\n      <td>0.0</td>\n      <td>Fair</td>\n      <td>Night</td>\n      <td>False</td>\n      <td>True</td>\n      <td>10</td>\n      <td>9</td>\n      <td></td>\n    </tr>\n    <tr>\n      <th>15094</th>\n      <td>A-1048131</td>\n      <td>201</td>\n      <td>2</td>\n      <td>2019-10-09</td>\n      <td>2019-10-09</td>\n      <td>Tempe</td>\n      <td>Maricopa</td>\n      <td>AZ</td>\n      <td>85283</td>\n      <td>US</td>\n      <td>...</td>\n      <td>10.0</td>\n      <td>10.0</td>\n      <td>0.0</td>\n      <td>Partly Cloudy</td>\n      <td>Night</td>\n      <td>False</td>\n      <td>False</td>\n      <td>10</td>\n      <td>9</td>\n      <td></td>\n    </tr>\n    <tr>\n      <th>15095</th>\n      <td>A-1048132</td>\n      <td>201</td>\n      <td>2</td>\n      <td>2019-10-09</td>\n      <td>2019-10-09</td>\n      <td>Tempe</td>\n      <td>Maricopa</td>\n      <td>AZ</td>\n      <td>85281</td>\n      <td>US</td>\n      <td>...</td>\n      <td>10.0</td>\n      <td>10.0</td>\n      <td>0.0</td>\n      <td>Partly Cloudy</td>\n      <td>Night</td>\n      <td>False</td>\n      <td>False</td>\n      <td>10</td>\n      <td>9</td>\n      <td></td>\n    </tr>\n  </tbody>\n</table>\n<p>8316 rows × 21 columns</p>\n</div>"
     },
     "metadata": {},
     "execution_count": 32
    }
   ],
   "source": [
    "#creating new columns for Month and Day to create seasons columns\n",
    "us_data_maricopa[\"month\"] = pd.DatetimeIndex(us_data_maricopa[\"Start_Time\"]).month\n",
    "us_data_maricopa[\"day\"] = pd.DatetimeIndex(us_data_maricopa[\"Start_Time\"]).day\n",
    "us_data_maricopa[\"season\"] = \"\"\n",
    "us_data_maricopa"
   ]
  },
  {
   "cell_type": "code",
   "execution_count": 37,
   "metadata": {},
   "outputs": [
    {
     "output_type": "stream",
     "name": "stderr",
     "text": [
      "C:\\Users\\ashle\\anaconda3\\envs\\pythondata\\lib\\site-packages\\pandas\\core\\indexing.py:1765: SettingWithCopyWarning: \nA value is trying to be set on a copy of a slice from a DataFrame.\nTry using .loc[row_indexer,col_indexer] = value instead\n\nSee the caveats in the documentation: https://pandas.pydata.org/pandas-docs/stable/user_guide/indexing.html#returning-a-view-versus-a-copy\n  isetter(loc, value)\nC:\\Users\\ashle\\anaconda3\\envs\\pythondata\\lib\\site-packages\\pandas\\core\\indexing.py:1765: SettingWithCopyWarning: \nA value is trying to be set on a copy of a slice from a DataFrame.\nTry using .loc[row_indexer,col_indexer] = value instead\n\nSee the caveats in the documentation: https://pandas.pydata.org/pandas-docs/stable/user_guide/indexing.html#returning-a-view-versus-a-copy\n  isetter(loc, value)\nC:\\Users\\ashle\\anaconda3\\envs\\pythondata\\lib\\site-packages\\pandas\\core\\indexing.py:1765: SettingWithCopyWarning: \nA value is trying to be set on a copy of a slice from a DataFrame.\nTry using .loc[row_indexer,col_indexer] = value instead\n\nSee the caveats in the documentation: https://pandas.pydata.org/pandas-docs/stable/user_guide/indexing.html#returning-a-view-versus-a-copy\n  isetter(loc, value)\nC:\\Users\\ashle\\anaconda3\\envs\\pythondata\\lib\\site-packages\\pandas\\core\\indexing.py:1765: SettingWithCopyWarning: \nA value is trying to be set on a copy of a slice from a DataFrame.\nTry using .loc[row_indexer,col_indexer] = value instead\n\nSee the caveats in the documentation: https://pandas.pydata.org/pandas-docs/stable/user_guide/indexing.html#returning-a-view-versus-a-copy\n  isetter(loc, value)\nC:\\Users\\ashle\\anaconda3\\envs\\pythondata\\lib\\site-packages\\pandas\\core\\indexing.py:1765: SettingWithCopyWarning: \nA value is trying to be set on a copy of a slice from a DataFrame.\nTry using .loc[row_indexer,col_indexer] = value instead\n\nSee the caveats in the documentation: https://pandas.pydata.org/pandas-docs/stable/user_guide/indexing.html#returning-a-view-versus-a-copy\n  isetter(loc, value)\nC:\\Users\\ashle\\anaconda3\\envs\\pythondata\\lib\\site-packages\\pandas\\core\\indexing.py:1765: SettingWithCopyWarning: \nA value is trying to be set on a copy of a slice from a DataFrame.\nTry using .loc[row_indexer,col_indexer] = value instead\n\nSee the caveats in the documentation: https://pandas.pydata.org/pandas-docs/stable/user_guide/indexing.html#returning-a-view-versus-a-copy\n  isetter(loc, value)\n"
     ]
    },
    {
     "output_type": "execute_result",
     "data": {
      "text/plain": [
       "              ID  TMC  Severity Start_Time   End_Time           City  \\\n",
       "0       A-513395  201         2 2020-12-31 2020-12-31  Sun City West   \n",
       "1       A-513396  201         2 2020-12-31 2020-12-31     Wickenburg   \n",
       "5       A-513400  201         2 2020-12-31 2020-12-31        Phoenix   \n",
       "8       A-513403  201         2 2020-12-31 2020-12-31        Phoenix   \n",
       "9       A-513404  201         2 2020-12-31 2020-12-31        Phoenix   \n",
       "...          ...  ...       ...        ...        ...            ...   \n",
       "15088  A-1048125  201         3 2019-10-09 2019-10-09        Phoenix   \n",
       "15090  A-1048127  201         3 2019-10-09 2019-10-09        Phoenix   \n",
       "15092  A-1048129  201         2 2019-10-09 2019-10-09       Glendale   \n",
       "15094  A-1048131  201         2 2019-10-09 2019-10-09          Tempe   \n",
       "15095  A-1048132  201         2 2019-10-09 2019-10-09          Tempe   \n",
       "\n",
       "         County State Zipcode Country  ...  Visibility(mi)  Wind_Speed(mph)  \\\n",
       "0      Maricopa    AZ   85375      US  ...            10.0              5.0   \n",
       "1      Maricopa    AZ   85390      US  ...            10.0              3.0   \n",
       "5      Maricopa    AZ   85027      US  ...            10.0              0.0   \n",
       "8      Maricopa    AZ   85020      US  ...            10.0              0.0   \n",
       "9      Maricopa    AZ   85022      US  ...            10.0              0.0   \n",
       "...         ...   ...     ...     ...  ...             ...              ...   \n",
       "15088  Maricopa    AZ   85034      US  ...            10.0             13.0   \n",
       "15090  Maricopa    AZ   85034      US  ...            10.0             13.0   \n",
       "15092  Maricopa    AZ   85307      US  ...            10.0              0.0   \n",
       "15094  Maricopa    AZ   85283      US  ...            10.0             10.0   \n",
       "15095  Maricopa    AZ   85281      US  ...            10.0             10.0   \n",
       "\n",
       "       Precipitation(in)  Weather_Condition Sunrise_Sunset   Stop  \\\n",
       "0                    0.0             Cloudy            Day  False   \n",
       "1                    0.0      Light Drizzle            Day  False   \n",
       "5                    0.0               Fair          Night  False   \n",
       "8                    0.0               Fair          Night  False   \n",
       "9                    0.0               Fair          Night  False   \n",
       "...                  ...                ...            ...    ...   \n",
       "15088                0.0               Fair          Night  False   \n",
       "15090                0.0               Fair          Night  False   \n",
       "15092                0.0               Fair          Night  False   \n",
       "15094                0.0      Partly Cloudy          Night  False   \n",
       "15095                0.0      Partly Cloudy          Night  False   \n",
       "\n",
       "       Traffic_Signal  month  day  season  \n",
       "0                True     12   31  Winter  \n",
       "1               False     12   31  Winter  \n",
       "5                True     12   31  Winter  \n",
       "8               False     12   31  Winter  \n",
       "9                True     12   31  Winter  \n",
       "...               ...    ...  ...     ...  \n",
       "15088           False     10    9  Autumn  \n",
       "15090           False     10    9  Autumn  \n",
       "15092            True     10    9  Autumn  \n",
       "15094           False     10    9  Autumn  \n",
       "15095           False     10    9  Autumn  \n",
       "\n",
       "[8316 rows x 21 columns]"
      ],
      "text/html": "<div>\n<style scoped>\n    .dataframe tbody tr th:only-of-type {\n        vertical-align: middle;\n    }\n\n    .dataframe tbody tr th {\n        vertical-align: top;\n    }\n\n    .dataframe thead th {\n        text-align: right;\n    }\n</style>\n<table border=\"1\" class=\"dataframe\">\n  <thead>\n    <tr style=\"text-align: right;\">\n      <th></th>\n      <th>ID</th>\n      <th>TMC</th>\n      <th>Severity</th>\n      <th>Start_Time</th>\n      <th>End_Time</th>\n      <th>City</th>\n      <th>County</th>\n      <th>State</th>\n      <th>Zipcode</th>\n      <th>Country</th>\n      <th>...</th>\n      <th>Visibility(mi)</th>\n      <th>Wind_Speed(mph)</th>\n      <th>Precipitation(in)</th>\n      <th>Weather_Condition</th>\n      <th>Sunrise_Sunset</th>\n      <th>Stop</th>\n      <th>Traffic_Signal</th>\n      <th>month</th>\n      <th>day</th>\n      <th>season</th>\n    </tr>\n  </thead>\n  <tbody>\n    <tr>\n      <th>0</th>\n      <td>A-513395</td>\n      <td>201</td>\n      <td>2</td>\n      <td>2020-12-31</td>\n      <td>2020-12-31</td>\n      <td>Sun City West</td>\n      <td>Maricopa</td>\n      <td>AZ</td>\n      <td>85375</td>\n      <td>US</td>\n      <td>...</td>\n      <td>10.0</td>\n      <td>5.0</td>\n      <td>0.0</td>\n      <td>Cloudy</td>\n      <td>Day</td>\n      <td>False</td>\n      <td>True</td>\n      <td>12</td>\n      <td>31</td>\n      <td>Winter</td>\n    </tr>\n    <tr>\n      <th>1</th>\n      <td>A-513396</td>\n      <td>201</td>\n      <td>2</td>\n      <td>2020-12-31</td>\n      <td>2020-12-31</td>\n      <td>Wickenburg</td>\n      <td>Maricopa</td>\n      <td>AZ</td>\n      <td>85390</td>\n      <td>US</td>\n      <td>...</td>\n      <td>10.0</td>\n      <td>3.0</td>\n      <td>0.0</td>\n      <td>Light Drizzle</td>\n      <td>Day</td>\n      <td>False</td>\n      <td>False</td>\n      <td>12</td>\n      <td>31</td>\n      <td>Winter</td>\n    </tr>\n    <tr>\n      <th>5</th>\n      <td>A-513400</td>\n      <td>201</td>\n      <td>2</td>\n      <td>2020-12-31</td>\n      <td>2020-12-31</td>\n      <td>Phoenix</td>\n      <td>Maricopa</td>\n      <td>AZ</td>\n      <td>85027</td>\n      <td>US</td>\n      <td>...</td>\n      <td>10.0</td>\n      <td>0.0</td>\n      <td>0.0</td>\n      <td>Fair</td>\n      <td>Night</td>\n      <td>False</td>\n      <td>True</td>\n      <td>12</td>\n      <td>31</td>\n      <td>Winter</td>\n    </tr>\n    <tr>\n      <th>8</th>\n      <td>A-513403</td>\n      <td>201</td>\n      <td>2</td>\n      <td>2020-12-31</td>\n      <td>2020-12-31</td>\n      <td>Phoenix</td>\n      <td>Maricopa</td>\n      <td>AZ</td>\n      <td>85020</td>\n      <td>US</td>\n      <td>...</td>\n      <td>10.0</td>\n      <td>0.0</td>\n      <td>0.0</td>\n      <td>Fair</td>\n      <td>Night</td>\n      <td>False</td>\n      <td>False</td>\n      <td>12</td>\n      <td>31</td>\n      <td>Winter</td>\n    </tr>\n    <tr>\n      <th>9</th>\n      <td>A-513404</td>\n      <td>201</td>\n      <td>2</td>\n      <td>2020-12-31</td>\n      <td>2020-12-31</td>\n      <td>Phoenix</td>\n      <td>Maricopa</td>\n      <td>AZ</td>\n      <td>85022</td>\n      <td>US</td>\n      <td>...</td>\n      <td>10.0</td>\n      <td>0.0</td>\n      <td>0.0</td>\n      <td>Fair</td>\n      <td>Night</td>\n      <td>False</td>\n      <td>True</td>\n      <td>12</td>\n      <td>31</td>\n      <td>Winter</td>\n    </tr>\n    <tr>\n      <th>...</th>\n      <td>...</td>\n      <td>...</td>\n      <td>...</td>\n      <td>...</td>\n      <td>...</td>\n      <td>...</td>\n      <td>...</td>\n      <td>...</td>\n      <td>...</td>\n      <td>...</td>\n      <td>...</td>\n      <td>...</td>\n      <td>...</td>\n      <td>...</td>\n      <td>...</td>\n      <td>...</td>\n      <td>...</td>\n      <td>...</td>\n      <td>...</td>\n      <td>...</td>\n      <td>...</td>\n    </tr>\n    <tr>\n      <th>15088</th>\n      <td>A-1048125</td>\n      <td>201</td>\n      <td>3</td>\n      <td>2019-10-09</td>\n      <td>2019-10-09</td>\n      <td>Phoenix</td>\n      <td>Maricopa</td>\n      <td>AZ</td>\n      <td>85034</td>\n      <td>US</td>\n      <td>...</td>\n      <td>10.0</td>\n      <td>13.0</td>\n      <td>0.0</td>\n      <td>Fair</td>\n      <td>Night</td>\n      <td>False</td>\n      <td>False</td>\n      <td>10</td>\n      <td>9</td>\n      <td>Autumn</td>\n    </tr>\n    <tr>\n      <th>15090</th>\n      <td>A-1048127</td>\n      <td>201</td>\n      <td>3</td>\n      <td>2019-10-09</td>\n      <td>2019-10-09</td>\n      <td>Phoenix</td>\n      <td>Maricopa</td>\n      <td>AZ</td>\n      <td>85034</td>\n      <td>US</td>\n      <td>...</td>\n      <td>10.0</td>\n      <td>13.0</td>\n      <td>0.0</td>\n      <td>Fair</td>\n      <td>Night</td>\n      <td>False</td>\n      <td>False</td>\n      <td>10</td>\n      <td>9</td>\n      <td>Autumn</td>\n    </tr>\n    <tr>\n      <th>15092</th>\n      <td>A-1048129</td>\n      <td>201</td>\n      <td>2</td>\n      <td>2019-10-09</td>\n      <td>2019-10-09</td>\n      <td>Glendale</td>\n      <td>Maricopa</td>\n      <td>AZ</td>\n      <td>85307</td>\n      <td>US</td>\n      <td>...</td>\n      <td>10.0</td>\n      <td>0.0</td>\n      <td>0.0</td>\n      <td>Fair</td>\n      <td>Night</td>\n      <td>False</td>\n      <td>True</td>\n      <td>10</td>\n      <td>9</td>\n      <td>Autumn</td>\n    </tr>\n    <tr>\n      <th>15094</th>\n      <td>A-1048131</td>\n      <td>201</td>\n      <td>2</td>\n      <td>2019-10-09</td>\n      <td>2019-10-09</td>\n      <td>Tempe</td>\n      <td>Maricopa</td>\n      <td>AZ</td>\n      <td>85283</td>\n      <td>US</td>\n      <td>...</td>\n      <td>10.0</td>\n      <td>10.0</td>\n      <td>0.0</td>\n      <td>Partly Cloudy</td>\n      <td>Night</td>\n      <td>False</td>\n      <td>False</td>\n      <td>10</td>\n      <td>9</td>\n      <td>Autumn</td>\n    </tr>\n    <tr>\n      <th>15095</th>\n      <td>A-1048132</td>\n      <td>201</td>\n      <td>2</td>\n      <td>2019-10-09</td>\n      <td>2019-10-09</td>\n      <td>Tempe</td>\n      <td>Maricopa</td>\n      <td>AZ</td>\n      <td>85281</td>\n      <td>US</td>\n      <td>...</td>\n      <td>10.0</td>\n      <td>10.0</td>\n      <td>0.0</td>\n      <td>Partly Cloudy</td>\n      <td>Night</td>\n      <td>False</td>\n      <td>False</td>\n      <td>10</td>\n      <td>9</td>\n      <td>Autumn</td>\n    </tr>\n  </tbody>\n</table>\n<p>8316 rows × 21 columns</p>\n</div>"
     },
     "metadata": {},
     "execution_count": 37
    }
   ],
   "source": [
    "#inserting seasons columns based on month and day\n",
    "us_data_maricopa.loc[(us_data_maricopa[\"month\"] == 1), [\"season\"]] = \"Winter\"\n",
    "us_data_maricopa.loc[(us_data_maricopa[\"month\"] == 2), [\"season\"]] = \"Winter\"\n",
    "us_data_maricopa.loc[(us_data_maricopa[\"month\"] >= 3) & (us_data_maricopa[\"month\"] <= 5), [\"season\"]] = \"Spring\"\n",
    "us_data_maricopa.loc[(us_data_maricopa[\"month\"] >= 6) & (us_data_maricopa[\"month\"] <= 8), [\"season\"]] = \"Summer\"\n",
    "\n",
    "us_data_maricopa.loc[(us_data_maricopa[\"month\"] >= 9) & (us_data_maricopa[\"month\"] <= 11), [\"season\"]] = \"Autumn\"\n",
    "\n",
    "us_data_maricopa.loc[(us_data_maricopa[\"month\"] == 12), [\"season\"]] = \"Winter\"\n",
    "us_data_maricopa"
   ]
  },
  {
   "cell_type": "code",
   "execution_count": null,
   "metadata": {},
   "outputs": [],
   "source": [
    "#drop off Oct and Nov 2019- to ensure equal data for seasons\n"
   ]
  },
  {
   "cell_type": "code",
   "execution_count": 49,
   "metadata": {},
   "outputs": [
    {
     "output_type": "display_data",
     "data": {
      "text/plain": "<Figure size 432x288 with 1 Axes>",
      "image/svg+xml": "<?xml version=\"1.0\" encoding=\"utf-8\" standalone=\"no\"?>\r\n<!DOCTYPE svg PUBLIC \"-//W3C//DTD SVG 1.1//EN\"\r\n  \"http://www.w3.org/Graphics/SVG/1.1/DTD/svg11.dtd\">\r\n<!-- Created with matplotlib (https://matplotlib.org/) -->\r\n<svg height=\"294.949375pt\" version=\"1.1\" viewBox=\"0 0 381.65 294.949375\" width=\"381.65pt\" xmlns=\"http://www.w3.org/2000/svg\" xmlns:xlink=\"http://www.w3.org/1999/xlink\">\r\n <metadata>\r\n  <rdf:RDF xmlns:cc=\"http://creativecommons.org/ns#\" xmlns:dc=\"http://purl.org/dc/elements/1.1/\" xmlns:rdf=\"http://www.w3.org/1999/02/22-rdf-syntax-ns#\">\r\n   <cc:Work>\r\n    <dc:type rdf:resource=\"http://purl.org/dc/dcmitype/StillImage\"/>\r\n    <dc:date>2021-04-21T21:00:36.355671</dc:date>\r\n    <dc:format>image/svg+xml</dc:format>\r\n    <dc:creator>\r\n     <cc:Agent>\r\n      <dc:title>Matplotlib v3.3.2, https://matplotlib.org/</dc:title>\r\n     </cc:Agent>\r\n    </dc:creator>\r\n   </cc:Work>\r\n  </rdf:RDF>\r\n </metadata>\r\n <defs>\r\n  <style type=\"text/css\">*{stroke-linecap:butt;stroke-linejoin:round;}</style>\r\n </defs>\r\n <g id=\"figure_1\">\r\n  <g id=\"patch_1\">\r\n   <path d=\"M -0 294.949375 \r\nL 381.65 294.949375 \r\nL 381.65 0 \r\nL -0 0 \r\nz\r\n\" style=\"fill:none;\"/>\r\n  </g>\r\n  <g id=\"axes_1\">\r\n   <g id=\"patch_2\">\r\n    <path d=\"M 39.65 224.64 \r\nL 374.45 224.64 \r\nL 374.45 7.2 \r\nL 39.65 7.2 \r\nz\r\n\" style=\"fill:#ffffff;\"/>\r\n   </g>\r\n   <g id=\"patch_3\">\r\n    <path clip-path=\"url(#pad54adb689)\" d=\"M 60.575 224.64 \r\nL 102.425 224.64 \r\nL 102.425 143.292324 \r\nL 60.575 143.292324 \r\nz\r\n\" style=\"fill:#1f77b4;\"/>\r\n   </g>\r\n   <g id=\"patch_4\">\r\n    <path clip-path=\"url(#pad54adb689)\" d=\"M 144.275 224.64 \r\nL 186.125 224.64 \r\nL 186.125 132.272702 \r\nL 144.275 132.272702 \r\nz\r\n\" style=\"fill:#1f77b4;\"/>\r\n   </g>\r\n   <g id=\"patch_5\">\r\n    <path clip-path=\"url(#pad54adb689)\" d=\"M 227.975 224.64 \r\nL 269.825 224.64 \r\nL 269.825 173.180448 \r\nL 227.975 173.180448 \r\nz\r\n\" style=\"fill:#1f77b4;\"/>\r\n   </g>\r\n   <g id=\"patch_6\">\r\n    <path clip-path=\"url(#pad54adb689)\" d=\"M 311.675 224.64 \r\nL 353.525 224.64 \r\nL 353.525 17.554286 \r\nL 311.675 17.554286 \r\nz\r\n\" style=\"fill:#1f77b4;\"/>\r\n   </g>\r\n   <g id=\"matplotlib.axis_1\">\r\n    <g id=\"xtick_1\">\r\n     <g id=\"line2d_1\">\r\n      <defs>\r\n       <path d=\"M 0 0 \r\nL 0 3.5 \r\n\" id=\"maeaf1fdaac\" style=\"stroke:#000000;stroke-width:0.8;\"/>\r\n      </defs>\r\n      <g>\r\n       <use style=\"stroke:#000000;stroke-width:0.8;\" x=\"81.5\" xlink:href=\"#maeaf1fdaac\" y=\"224.64\"/>\r\n      </g>\r\n     </g>\r\n     <g id=\"text_1\">\r\n      <!-- Autumn -->\r\n      <g transform=\"translate(84.259375 271.154062)rotate(-90)scale(0.1 -0.1)\">\r\n       <defs>\r\n        <path d=\"M 34.1875 63.1875 \r\nL 20.796875 26.90625 \r\nL 47.609375 26.90625 \r\nz\r\nM 28.609375 72.90625 \r\nL 39.796875 72.90625 \r\nL 67.578125 0 \r\nL 57.328125 0 \r\nL 50.6875 18.703125 \r\nL 17.828125 18.703125 \r\nL 11.1875 0 \r\nL 0.78125 0 \r\nz\r\n\" id=\"DejaVuSans-65\"/>\r\n        <path d=\"M 8.5 21.578125 \r\nL 8.5 54.6875 \r\nL 17.484375 54.6875 \r\nL 17.484375 21.921875 \r\nQ 17.484375 14.15625 20.5 10.265625 \r\nQ 23.53125 6.390625 29.59375 6.390625 \r\nQ 36.859375 6.390625 41.078125 11.03125 \r\nQ 45.3125 15.671875 45.3125 23.6875 \r\nL 45.3125 54.6875 \r\nL 54.296875 54.6875 \r\nL 54.296875 0 \r\nL 45.3125 0 \r\nL 45.3125 8.40625 \r\nQ 42.046875 3.421875 37.71875 1 \r\nQ 33.40625 -1.421875 27.6875 -1.421875 \r\nQ 18.265625 -1.421875 13.375 4.4375 \r\nQ 8.5 10.296875 8.5 21.578125 \r\nz\r\nM 31.109375 56 \r\nz\r\n\" id=\"DejaVuSans-117\"/>\r\n        <path d=\"M 18.3125 70.21875 \r\nL 18.3125 54.6875 \r\nL 36.8125 54.6875 \r\nL 36.8125 47.703125 \r\nL 18.3125 47.703125 \r\nL 18.3125 18.015625 \r\nQ 18.3125 11.328125 20.140625 9.421875 \r\nQ 21.96875 7.515625 27.59375 7.515625 \r\nL 36.8125 7.515625 \r\nL 36.8125 0 \r\nL 27.59375 0 \r\nQ 17.1875 0 13.234375 3.875 \r\nQ 9.28125 7.765625 9.28125 18.015625 \r\nL 9.28125 47.703125 \r\nL 2.6875 47.703125 \r\nL 2.6875 54.6875 \r\nL 9.28125 54.6875 \r\nL 9.28125 70.21875 \r\nz\r\n\" id=\"DejaVuSans-116\"/>\r\n        <path d=\"M 52 44.1875 \r\nQ 55.375 50.25 60.0625 53.125 \r\nQ 64.75 56 71.09375 56 \r\nQ 79.640625 56 84.28125 50.015625 \r\nQ 88.921875 44.046875 88.921875 33.015625 \r\nL 88.921875 0 \r\nL 79.890625 0 \r\nL 79.890625 32.71875 \r\nQ 79.890625 40.578125 77.09375 44.375 \r\nQ 74.3125 48.1875 68.609375 48.1875 \r\nQ 61.625 48.1875 57.5625 43.546875 \r\nQ 53.515625 38.921875 53.515625 30.90625 \r\nL 53.515625 0 \r\nL 44.484375 0 \r\nL 44.484375 32.71875 \r\nQ 44.484375 40.625 41.703125 44.40625 \r\nQ 38.921875 48.1875 33.109375 48.1875 \r\nQ 26.21875 48.1875 22.15625 43.53125 \r\nQ 18.109375 38.875 18.109375 30.90625 \r\nL 18.109375 0 \r\nL 9.078125 0 \r\nL 9.078125 54.6875 \r\nL 18.109375 54.6875 \r\nL 18.109375 46.1875 \r\nQ 21.1875 51.21875 25.484375 53.609375 \r\nQ 29.78125 56 35.6875 56 \r\nQ 41.65625 56 45.828125 52.96875 \r\nQ 50 49.953125 52 44.1875 \r\nz\r\n\" id=\"DejaVuSans-109\"/>\r\n        <path d=\"M 54.890625 33.015625 \r\nL 54.890625 0 \r\nL 45.90625 0 \r\nL 45.90625 32.71875 \r\nQ 45.90625 40.484375 42.875 44.328125 \r\nQ 39.84375 48.1875 33.796875 48.1875 \r\nQ 26.515625 48.1875 22.3125 43.546875 \r\nQ 18.109375 38.921875 18.109375 30.90625 \r\nL 18.109375 0 \r\nL 9.078125 0 \r\nL 9.078125 54.6875 \r\nL 18.109375 54.6875 \r\nL 18.109375 46.1875 \r\nQ 21.34375 51.125 25.703125 53.5625 \r\nQ 30.078125 56 35.796875 56 \r\nQ 45.21875 56 50.046875 50.171875 \r\nQ 54.890625 44.34375 54.890625 33.015625 \r\nz\r\n\" id=\"DejaVuSans-110\"/>\r\n       </defs>\r\n       <use xlink:href=\"#DejaVuSans-65\"/>\r\n       <use x=\"68.408203\" xlink:href=\"#DejaVuSans-117\"/>\r\n       <use x=\"131.787109\" xlink:href=\"#DejaVuSans-116\"/>\r\n       <use x=\"170.996094\" xlink:href=\"#DejaVuSans-117\"/>\r\n       <use x=\"234.375\" xlink:href=\"#DejaVuSans-109\"/>\r\n       <use x=\"331.787109\" xlink:href=\"#DejaVuSans-110\"/>\r\n      </g>\r\n     </g>\r\n    </g>\r\n    <g id=\"xtick_2\">\r\n     <g id=\"line2d_2\">\r\n      <g>\r\n       <use style=\"stroke:#000000;stroke-width:0.8;\" x=\"165.2\" xlink:href=\"#maeaf1fdaac\" y=\"224.64\"/>\r\n      </g>\r\n     </g>\r\n     <g id=\"text_2\">\r\n      <!-- Spring -->\r\n      <g transform=\"translate(167.959375 263.911875)rotate(-90)scale(0.1 -0.1)\">\r\n       <defs>\r\n        <path d=\"M 53.515625 70.515625 \r\nL 53.515625 60.890625 \r\nQ 47.90625 63.578125 42.921875 64.890625 \r\nQ 37.9375 66.21875 33.296875 66.21875 \r\nQ 25.25 66.21875 20.875 63.09375 \r\nQ 16.5 59.96875 16.5 54.203125 \r\nQ 16.5 49.359375 19.40625 46.890625 \r\nQ 22.3125 44.4375 30.421875 42.921875 \r\nL 36.375 41.703125 \r\nQ 47.40625 39.59375 52.65625 34.296875 \r\nQ 57.90625 29 57.90625 20.125 \r\nQ 57.90625 9.515625 50.796875 4.046875 \r\nQ 43.703125 -1.421875 29.984375 -1.421875 \r\nQ 24.8125 -1.421875 18.96875 -0.25 \r\nQ 13.140625 0.921875 6.890625 3.21875 \r\nL 6.890625 13.375 \r\nQ 12.890625 10.015625 18.65625 8.296875 \r\nQ 24.421875 6.59375 29.984375 6.59375 \r\nQ 38.421875 6.59375 43.015625 9.90625 \r\nQ 47.609375 13.234375 47.609375 19.390625 \r\nQ 47.609375 24.75 44.3125 27.78125 \r\nQ 41.015625 30.8125 33.5 32.328125 \r\nL 27.484375 33.5 \r\nQ 16.453125 35.6875 11.515625 40.375 \r\nQ 6.59375 45.0625 6.59375 53.421875 \r\nQ 6.59375 63.09375 13.40625 68.65625 \r\nQ 20.21875 74.21875 32.171875 74.21875 \r\nQ 37.3125 74.21875 42.625 73.28125 \r\nQ 47.953125 72.359375 53.515625 70.515625 \r\nz\r\n\" id=\"DejaVuSans-83\"/>\r\n        <path d=\"M 18.109375 8.203125 \r\nL 18.109375 -20.796875 \r\nL 9.078125 -20.796875 \r\nL 9.078125 54.6875 \r\nL 18.109375 54.6875 \r\nL 18.109375 46.390625 \r\nQ 20.953125 51.265625 25.265625 53.625 \r\nQ 29.59375 56 35.59375 56 \r\nQ 45.5625 56 51.78125 48.09375 \r\nQ 58.015625 40.1875 58.015625 27.296875 \r\nQ 58.015625 14.40625 51.78125 6.484375 \r\nQ 45.5625 -1.421875 35.59375 -1.421875 \r\nQ 29.59375 -1.421875 25.265625 0.953125 \r\nQ 20.953125 3.328125 18.109375 8.203125 \r\nz\r\nM 48.6875 27.296875 \r\nQ 48.6875 37.203125 44.609375 42.84375 \r\nQ 40.53125 48.484375 33.40625 48.484375 \r\nQ 26.265625 48.484375 22.1875 42.84375 \r\nQ 18.109375 37.203125 18.109375 27.296875 \r\nQ 18.109375 17.390625 22.1875 11.75 \r\nQ 26.265625 6.109375 33.40625 6.109375 \r\nQ 40.53125 6.109375 44.609375 11.75 \r\nQ 48.6875 17.390625 48.6875 27.296875 \r\nz\r\n\" id=\"DejaVuSans-112\"/>\r\n        <path d=\"M 41.109375 46.296875 \r\nQ 39.59375 47.171875 37.8125 47.578125 \r\nQ 36.03125 48 33.890625 48 \r\nQ 26.265625 48 22.1875 43.046875 \r\nQ 18.109375 38.09375 18.109375 28.8125 \r\nL 18.109375 0 \r\nL 9.078125 0 \r\nL 9.078125 54.6875 \r\nL 18.109375 54.6875 \r\nL 18.109375 46.1875 \r\nQ 20.953125 51.171875 25.484375 53.578125 \r\nQ 30.03125 56 36.53125 56 \r\nQ 37.453125 56 38.578125 55.875 \r\nQ 39.703125 55.765625 41.0625 55.515625 \r\nz\r\n\" id=\"DejaVuSans-114\"/>\r\n        <path d=\"M 9.421875 54.6875 \r\nL 18.40625 54.6875 \r\nL 18.40625 0 \r\nL 9.421875 0 \r\nz\r\nM 9.421875 75.984375 \r\nL 18.40625 75.984375 \r\nL 18.40625 64.59375 \r\nL 9.421875 64.59375 \r\nz\r\n\" id=\"DejaVuSans-105\"/>\r\n        <path d=\"M 45.40625 27.984375 \r\nQ 45.40625 37.75 41.375 43.109375 \r\nQ 37.359375 48.484375 30.078125 48.484375 \r\nQ 22.859375 48.484375 18.828125 43.109375 \r\nQ 14.796875 37.75 14.796875 27.984375 \r\nQ 14.796875 18.265625 18.828125 12.890625 \r\nQ 22.859375 7.515625 30.078125 7.515625 \r\nQ 37.359375 7.515625 41.375 12.890625 \r\nQ 45.40625 18.265625 45.40625 27.984375 \r\nz\r\nM 54.390625 6.78125 \r\nQ 54.390625 -7.171875 48.1875 -13.984375 \r\nQ 42 -20.796875 29.203125 -20.796875 \r\nQ 24.46875 -20.796875 20.265625 -20.09375 \r\nQ 16.0625 -19.390625 12.109375 -17.921875 \r\nL 12.109375 -9.1875 \r\nQ 16.0625 -11.328125 19.921875 -12.34375 \r\nQ 23.78125 -13.375 27.78125 -13.375 \r\nQ 36.625 -13.375 41.015625 -8.765625 \r\nQ 45.40625 -4.15625 45.40625 5.171875 \r\nL 45.40625 9.625 \r\nQ 42.625 4.78125 38.28125 2.390625 \r\nQ 33.9375 0 27.875 0 \r\nQ 17.828125 0 11.671875 7.65625 \r\nQ 5.515625 15.328125 5.515625 27.984375 \r\nQ 5.515625 40.671875 11.671875 48.328125 \r\nQ 17.828125 56 27.875 56 \r\nQ 33.9375 56 38.28125 53.609375 \r\nQ 42.625 51.21875 45.40625 46.390625 \r\nL 45.40625 54.6875 \r\nL 54.390625 54.6875 \r\nz\r\n\" id=\"DejaVuSans-103\"/>\r\n       </defs>\r\n       <use xlink:href=\"#DejaVuSans-83\"/>\r\n       <use x=\"63.476562\" xlink:href=\"#DejaVuSans-112\"/>\r\n       <use x=\"126.953125\" xlink:href=\"#DejaVuSans-114\"/>\r\n       <use x=\"168.066406\" xlink:href=\"#DejaVuSans-105\"/>\r\n       <use x=\"195.849609\" xlink:href=\"#DejaVuSans-110\"/>\r\n       <use x=\"259.228516\" xlink:href=\"#DejaVuSans-103\"/>\r\n      </g>\r\n     </g>\r\n    </g>\r\n    <g id=\"xtick_3\">\r\n     <g id=\"line2d_3\">\r\n      <g>\r\n       <use style=\"stroke:#000000;stroke-width:0.8;\" x=\"248.9\" xlink:href=\"#maeaf1fdaac\" y=\"224.64\"/>\r\n      </g>\r\n     </g>\r\n     <g id=\"text_3\">\r\n      <!-- Summer -->\r\n      <g transform=\"translate(251.659375 274.07125)rotate(-90)scale(0.1 -0.1)\">\r\n       <defs>\r\n        <path d=\"M 56.203125 29.59375 \r\nL 56.203125 25.203125 \r\nL 14.890625 25.203125 \r\nQ 15.484375 15.921875 20.484375 11.0625 \r\nQ 25.484375 6.203125 34.421875 6.203125 \r\nQ 39.59375 6.203125 44.453125 7.46875 \r\nQ 49.3125 8.734375 54.109375 11.28125 \r\nL 54.109375 2.78125 \r\nQ 49.265625 0.734375 44.1875 -0.34375 \r\nQ 39.109375 -1.421875 33.890625 -1.421875 \r\nQ 20.796875 -1.421875 13.15625 6.1875 \r\nQ 5.515625 13.8125 5.515625 26.8125 \r\nQ 5.515625 40.234375 12.765625 48.109375 \r\nQ 20.015625 56 32.328125 56 \r\nQ 43.359375 56 49.78125 48.890625 \r\nQ 56.203125 41.796875 56.203125 29.59375 \r\nz\r\nM 47.21875 32.234375 \r\nQ 47.125 39.59375 43.09375 43.984375 \r\nQ 39.0625 48.390625 32.421875 48.390625 \r\nQ 24.90625 48.390625 20.390625 44.140625 \r\nQ 15.875 39.890625 15.1875 32.171875 \r\nz\r\n\" id=\"DejaVuSans-101\"/>\r\n       </defs>\r\n       <use xlink:href=\"#DejaVuSans-83\"/>\r\n       <use x=\"63.476562\" xlink:href=\"#DejaVuSans-117\"/>\r\n       <use x=\"126.855469\" xlink:href=\"#DejaVuSans-109\"/>\r\n       <use x=\"224.267578\" xlink:href=\"#DejaVuSans-109\"/>\r\n       <use x=\"321.679688\" xlink:href=\"#DejaVuSans-101\"/>\r\n       <use x=\"383.203125\" xlink:href=\"#DejaVuSans-114\"/>\r\n      </g>\r\n     </g>\r\n    </g>\r\n    <g id=\"xtick_4\">\r\n     <g id=\"line2d_4\">\r\n      <g>\r\n       <use style=\"stroke:#000000;stroke-width:0.8;\" x=\"332.6\" xlink:href=\"#maeaf1fdaac\" y=\"224.64\"/>\r\n      </g>\r\n     </g>\r\n     <g id=\"text_4\">\r\n      <!-- Winter -->\r\n      <g transform=\"translate(335.359375 264.6025)rotate(-90)scale(0.1 -0.1)\">\r\n       <defs>\r\n        <path d=\"M 3.328125 72.90625 \r\nL 13.28125 72.90625 \r\nL 28.609375 11.28125 \r\nL 43.890625 72.90625 \r\nL 54.984375 72.90625 \r\nL 70.3125 11.28125 \r\nL 85.59375 72.90625 \r\nL 95.609375 72.90625 \r\nL 77.296875 0 \r\nL 64.890625 0 \r\nL 49.515625 63.28125 \r\nL 33.984375 0 \r\nL 21.578125 0 \r\nz\r\n\" id=\"DejaVuSans-87\"/>\r\n       </defs>\r\n       <use xlink:href=\"#DejaVuSans-87\"/>\r\n       <use x=\"96.626953\" xlink:href=\"#DejaVuSans-105\"/>\r\n       <use x=\"124.410156\" xlink:href=\"#DejaVuSans-110\"/>\r\n       <use x=\"187.789062\" xlink:href=\"#DejaVuSans-116\"/>\r\n       <use x=\"226.998047\" xlink:href=\"#DejaVuSans-101\"/>\r\n       <use x=\"288.521484\" xlink:href=\"#DejaVuSans-114\"/>\r\n      </g>\r\n     </g>\r\n    </g>\r\n    <g id=\"text_5\">\r\n     <!-- season -->\r\n     <g transform=\"translate(189.471875 285.669687)scale(0.1 -0.1)\">\r\n      <defs>\r\n       <path d=\"M 44.28125 53.078125 \r\nL 44.28125 44.578125 \r\nQ 40.484375 46.53125 36.375 47.5 \r\nQ 32.28125 48.484375 27.875 48.484375 \r\nQ 21.1875 48.484375 17.84375 46.4375 \r\nQ 14.5 44.390625 14.5 40.28125 \r\nQ 14.5 37.15625 16.890625 35.375 \r\nQ 19.28125 33.59375 26.515625 31.984375 \r\nL 29.59375 31.296875 \r\nQ 39.15625 29.25 43.1875 25.515625 \r\nQ 47.21875 21.78125 47.21875 15.09375 \r\nQ 47.21875 7.46875 41.1875 3.015625 \r\nQ 35.15625 -1.421875 24.609375 -1.421875 \r\nQ 20.21875 -1.421875 15.453125 -0.5625 \r\nQ 10.6875 0.296875 5.421875 2 \r\nL 5.421875 11.28125 \r\nQ 10.40625 8.6875 15.234375 7.390625 \r\nQ 20.0625 6.109375 24.8125 6.109375 \r\nQ 31.15625 6.109375 34.5625 8.28125 \r\nQ 37.984375 10.453125 37.984375 14.40625 \r\nQ 37.984375 18.0625 35.515625 20.015625 \r\nQ 33.0625 21.96875 24.703125 23.78125 \r\nL 21.578125 24.515625 \r\nQ 13.234375 26.265625 9.515625 29.90625 \r\nQ 5.8125 33.546875 5.8125 39.890625 \r\nQ 5.8125 47.609375 11.28125 51.796875 \r\nQ 16.75 56 26.8125 56 \r\nQ 31.78125 56 36.171875 55.265625 \r\nQ 40.578125 54.546875 44.28125 53.078125 \r\nz\r\n\" id=\"DejaVuSans-115\"/>\r\n       <path d=\"M 34.28125 27.484375 \r\nQ 23.390625 27.484375 19.1875 25 \r\nQ 14.984375 22.515625 14.984375 16.5 \r\nQ 14.984375 11.71875 18.140625 8.90625 \r\nQ 21.296875 6.109375 26.703125 6.109375 \r\nQ 34.1875 6.109375 38.703125 11.40625 \r\nQ 43.21875 16.703125 43.21875 25.484375 \r\nL 43.21875 27.484375 \r\nz\r\nM 52.203125 31.203125 \r\nL 52.203125 0 \r\nL 43.21875 0 \r\nL 43.21875 8.296875 \r\nQ 40.140625 3.328125 35.546875 0.953125 \r\nQ 30.953125 -1.421875 24.3125 -1.421875 \r\nQ 15.921875 -1.421875 10.953125 3.296875 \r\nQ 6 8.015625 6 15.921875 \r\nQ 6 25.140625 12.171875 29.828125 \r\nQ 18.359375 34.515625 30.609375 34.515625 \r\nL 43.21875 34.515625 \r\nL 43.21875 35.40625 \r\nQ 43.21875 41.609375 39.140625 45 \r\nQ 35.0625 48.390625 27.6875 48.390625 \r\nQ 23 48.390625 18.546875 47.265625 \r\nQ 14.109375 46.140625 10.015625 43.890625 \r\nL 10.015625 52.203125 \r\nQ 14.9375 54.109375 19.578125 55.046875 \r\nQ 24.21875 56 28.609375 56 \r\nQ 40.484375 56 46.34375 49.84375 \r\nQ 52.203125 43.703125 52.203125 31.203125 \r\nz\r\n\" id=\"DejaVuSans-97\"/>\r\n       <path d=\"M 30.609375 48.390625 \r\nQ 23.390625 48.390625 19.1875 42.75 \r\nQ 14.984375 37.109375 14.984375 27.296875 \r\nQ 14.984375 17.484375 19.15625 11.84375 \r\nQ 23.34375 6.203125 30.609375 6.203125 \r\nQ 37.796875 6.203125 41.984375 11.859375 \r\nQ 46.1875 17.53125 46.1875 27.296875 \r\nQ 46.1875 37.015625 41.984375 42.703125 \r\nQ 37.796875 48.390625 30.609375 48.390625 \r\nz\r\nM 30.609375 56 \r\nQ 42.328125 56 49.015625 48.375 \r\nQ 55.71875 40.765625 55.71875 27.296875 \r\nQ 55.71875 13.875 49.015625 6.21875 \r\nQ 42.328125 -1.421875 30.609375 -1.421875 \r\nQ 18.84375 -1.421875 12.171875 6.21875 \r\nQ 5.515625 13.875 5.515625 27.296875 \r\nQ 5.515625 40.765625 12.171875 48.375 \r\nQ 18.84375 56 30.609375 56 \r\nz\r\n\" id=\"DejaVuSans-111\"/>\r\n      </defs>\r\n      <use xlink:href=\"#DejaVuSans-115\"/>\r\n      <use x=\"52.099609\" xlink:href=\"#DejaVuSans-101\"/>\r\n      <use x=\"113.623047\" xlink:href=\"#DejaVuSans-97\"/>\r\n      <use x=\"174.902344\" xlink:href=\"#DejaVuSans-115\"/>\r\n      <use x=\"227.001953\" xlink:href=\"#DejaVuSans-111\"/>\r\n      <use x=\"288.183594\" xlink:href=\"#DejaVuSans-110\"/>\r\n     </g>\r\n    </g>\r\n   </g>\r\n   <g id=\"matplotlib.axis_2\">\r\n    <g id=\"ytick_1\">\r\n     <g id=\"line2d_5\">\r\n      <defs>\r\n       <path d=\"M 0 0 \r\nL -3.5 0 \r\n\" id=\"m61183eea27\" style=\"stroke:#000000;stroke-width:0.8;\"/>\r\n      </defs>\r\n      <g>\r\n       <use style=\"stroke:#000000;stroke-width:0.8;\" x=\"39.65\" xlink:href=\"#m61183eea27\" y=\"224.64\"/>\r\n      </g>\r\n     </g>\r\n     <g id=\"text_6\">\r\n      <!-- 0 -->\r\n      <g transform=\"translate(26.2875 228.439219)scale(0.1 -0.1)\">\r\n       <defs>\r\n        <path d=\"M 31.78125 66.40625 \r\nQ 24.171875 66.40625 20.328125 58.90625 \r\nQ 16.5 51.421875 16.5 36.375 \r\nQ 16.5 21.390625 20.328125 13.890625 \r\nQ 24.171875 6.390625 31.78125 6.390625 \r\nQ 39.453125 6.390625 43.28125 13.890625 \r\nQ 47.125 21.390625 47.125 36.375 \r\nQ 47.125 51.421875 43.28125 58.90625 \r\nQ 39.453125 66.40625 31.78125 66.40625 \r\nz\r\nM 31.78125 74.21875 \r\nQ 44.046875 74.21875 50.515625 64.515625 \r\nQ 56.984375 54.828125 56.984375 36.375 \r\nQ 56.984375 17.96875 50.515625 8.265625 \r\nQ 44.046875 -1.421875 31.78125 -1.421875 \r\nQ 19.53125 -1.421875 13.0625 8.265625 \r\nQ 6.59375 17.96875 6.59375 36.375 \r\nQ 6.59375 54.828125 13.0625 64.515625 \r\nQ 19.53125 74.21875 31.78125 74.21875 \r\nz\r\n\" id=\"DejaVuSans-48\"/>\r\n       </defs>\r\n       <use xlink:href=\"#DejaVuSans-48\"/>\r\n      </g>\r\n     </g>\r\n    </g>\r\n    <g id=\"ytick_2\">\r\n     <g id=\"line2d_6\">\r\n      <g>\r\n       <use style=\"stroke:#000000;stroke-width:0.8;\" x=\"39.65\" xlink:href=\"#m61183eea27\" y=\"198.650327\"/>\r\n      </g>\r\n     </g>\r\n     <g id=\"text_7\">\r\n      <!-- 500 -->\r\n      <g transform=\"translate(13.5625 202.449546)scale(0.1 -0.1)\">\r\n       <defs>\r\n        <path d=\"M 10.796875 72.90625 \r\nL 49.515625 72.90625 \r\nL 49.515625 64.59375 \r\nL 19.828125 64.59375 \r\nL 19.828125 46.734375 \r\nQ 21.96875 47.46875 24.109375 47.828125 \r\nQ 26.265625 48.1875 28.421875 48.1875 \r\nQ 40.625 48.1875 47.75 41.5 \r\nQ 54.890625 34.8125 54.890625 23.390625 \r\nQ 54.890625 11.625 47.5625 5.09375 \r\nQ 40.234375 -1.421875 26.90625 -1.421875 \r\nQ 22.3125 -1.421875 17.546875 -0.640625 \r\nQ 12.796875 0.140625 7.71875 1.703125 \r\nL 7.71875 11.625 \r\nQ 12.109375 9.234375 16.796875 8.0625 \r\nQ 21.484375 6.890625 26.703125 6.890625 \r\nQ 35.15625 6.890625 40.078125 11.328125 \r\nQ 45.015625 15.765625 45.015625 23.390625 \r\nQ 45.015625 31 40.078125 35.4375 \r\nQ 35.15625 39.890625 26.703125 39.890625 \r\nQ 22.75 39.890625 18.8125 39.015625 \r\nQ 14.890625 38.140625 10.796875 36.28125 \r\nz\r\n\" id=\"DejaVuSans-53\"/>\r\n       </defs>\r\n       <use xlink:href=\"#DejaVuSans-53\"/>\r\n       <use x=\"63.623047\" xlink:href=\"#DejaVuSans-48\"/>\r\n       <use x=\"127.246094\" xlink:href=\"#DejaVuSans-48\"/>\r\n      </g>\r\n     </g>\r\n    </g>\r\n    <g id=\"ytick_3\">\r\n     <g id=\"line2d_7\">\r\n      <g>\r\n       <use style=\"stroke:#000000;stroke-width:0.8;\" x=\"39.65\" xlink:href=\"#m61183eea27\" y=\"172.660654\"/>\r\n      </g>\r\n     </g>\r\n     <g id=\"text_8\">\r\n      <!-- 1000 -->\r\n      <g transform=\"translate(7.2 176.459873)scale(0.1 -0.1)\">\r\n       <defs>\r\n        <path d=\"M 12.40625 8.296875 \r\nL 28.515625 8.296875 \r\nL 28.515625 63.921875 \r\nL 10.984375 60.40625 \r\nL 10.984375 69.390625 \r\nL 28.421875 72.90625 \r\nL 38.28125 72.90625 \r\nL 38.28125 8.296875 \r\nL 54.390625 8.296875 \r\nL 54.390625 0 \r\nL 12.40625 0 \r\nz\r\n\" id=\"DejaVuSans-49\"/>\r\n       </defs>\r\n       <use xlink:href=\"#DejaVuSans-49\"/>\r\n       <use x=\"63.623047\" xlink:href=\"#DejaVuSans-48\"/>\r\n       <use x=\"127.246094\" xlink:href=\"#DejaVuSans-48\"/>\r\n       <use x=\"190.869141\" xlink:href=\"#DejaVuSans-48\"/>\r\n      </g>\r\n     </g>\r\n    </g>\r\n    <g id=\"ytick_4\">\r\n     <g id=\"line2d_8\">\r\n      <g>\r\n       <use style=\"stroke:#000000;stroke-width:0.8;\" x=\"39.65\" xlink:href=\"#m61183eea27\" y=\"146.670981\"/>\r\n      </g>\r\n     </g>\r\n     <g id=\"text_9\">\r\n      <!-- 1500 -->\r\n      <g transform=\"translate(7.2 150.4702)scale(0.1 -0.1)\">\r\n       <use xlink:href=\"#DejaVuSans-49\"/>\r\n       <use x=\"63.623047\" xlink:href=\"#DejaVuSans-53\"/>\r\n       <use x=\"127.246094\" xlink:href=\"#DejaVuSans-48\"/>\r\n       <use x=\"190.869141\" xlink:href=\"#DejaVuSans-48\"/>\r\n      </g>\r\n     </g>\r\n    </g>\r\n    <g id=\"ytick_5\">\r\n     <g id=\"line2d_9\">\r\n      <g>\r\n       <use style=\"stroke:#000000;stroke-width:0.8;\" x=\"39.65\" xlink:href=\"#m61183eea27\" y=\"120.681308\"/>\r\n      </g>\r\n     </g>\r\n     <g id=\"text_10\">\r\n      <!-- 2000 -->\r\n      <g transform=\"translate(7.2 124.480527)scale(0.1 -0.1)\">\r\n       <defs>\r\n        <path d=\"M 19.1875 8.296875 \r\nL 53.609375 8.296875 \r\nL 53.609375 0 \r\nL 7.328125 0 \r\nL 7.328125 8.296875 \r\nQ 12.9375 14.109375 22.625 23.890625 \r\nQ 32.328125 33.6875 34.8125 36.53125 \r\nQ 39.546875 41.84375 41.421875 45.53125 \r\nQ 43.3125 49.21875 43.3125 52.78125 \r\nQ 43.3125 58.59375 39.234375 62.25 \r\nQ 35.15625 65.921875 28.609375 65.921875 \r\nQ 23.96875 65.921875 18.8125 64.3125 \r\nQ 13.671875 62.703125 7.8125 59.421875 \r\nL 7.8125 69.390625 \r\nQ 13.765625 71.78125 18.9375 73 \r\nQ 24.125 74.21875 28.421875 74.21875 \r\nQ 39.75 74.21875 46.484375 68.546875 \r\nQ 53.21875 62.890625 53.21875 53.421875 \r\nQ 53.21875 48.921875 51.53125 44.890625 \r\nQ 49.859375 40.875 45.40625 35.40625 \r\nQ 44.1875 33.984375 37.640625 27.21875 \r\nQ 31.109375 20.453125 19.1875 8.296875 \r\nz\r\n\" id=\"DejaVuSans-50\"/>\r\n       </defs>\r\n       <use xlink:href=\"#DejaVuSans-50\"/>\r\n       <use x=\"63.623047\" xlink:href=\"#DejaVuSans-48\"/>\r\n       <use x=\"127.246094\" xlink:href=\"#DejaVuSans-48\"/>\r\n       <use x=\"190.869141\" xlink:href=\"#DejaVuSans-48\"/>\r\n      </g>\r\n     </g>\r\n    </g>\r\n    <g id=\"ytick_6\">\r\n     <g id=\"line2d_10\">\r\n      <g>\r\n       <use style=\"stroke:#000000;stroke-width:0.8;\" x=\"39.65\" xlink:href=\"#m61183eea27\" y=\"94.691635\"/>\r\n      </g>\r\n     </g>\r\n     <g id=\"text_11\">\r\n      <!-- 2500 -->\r\n      <g transform=\"translate(7.2 98.490854)scale(0.1 -0.1)\">\r\n       <use xlink:href=\"#DejaVuSans-50\"/>\r\n       <use x=\"63.623047\" xlink:href=\"#DejaVuSans-53\"/>\r\n       <use x=\"127.246094\" xlink:href=\"#DejaVuSans-48\"/>\r\n       <use x=\"190.869141\" xlink:href=\"#DejaVuSans-48\"/>\r\n      </g>\r\n     </g>\r\n    </g>\r\n    <g id=\"ytick_7\">\r\n     <g id=\"line2d_11\">\r\n      <g>\r\n       <use style=\"stroke:#000000;stroke-width:0.8;\" x=\"39.65\" xlink:href=\"#m61183eea27\" y=\"68.701962\"/>\r\n      </g>\r\n     </g>\r\n     <g id=\"text_12\">\r\n      <!-- 3000 -->\r\n      <g transform=\"translate(7.2 72.501181)scale(0.1 -0.1)\">\r\n       <defs>\r\n        <path d=\"M 40.578125 39.3125 \r\nQ 47.65625 37.796875 51.625 33 \r\nQ 55.609375 28.21875 55.609375 21.1875 \r\nQ 55.609375 10.40625 48.1875 4.484375 \r\nQ 40.765625 -1.421875 27.09375 -1.421875 \r\nQ 22.515625 -1.421875 17.65625 -0.515625 \r\nQ 12.796875 0.390625 7.625 2.203125 \r\nL 7.625 11.71875 \r\nQ 11.71875 9.328125 16.59375 8.109375 \r\nQ 21.484375 6.890625 26.8125 6.890625 \r\nQ 36.078125 6.890625 40.9375 10.546875 \r\nQ 45.796875 14.203125 45.796875 21.1875 \r\nQ 45.796875 27.640625 41.28125 31.265625 \r\nQ 36.765625 34.90625 28.71875 34.90625 \r\nL 20.21875 34.90625 \r\nL 20.21875 43.015625 \r\nL 29.109375 43.015625 \r\nQ 36.375 43.015625 40.234375 45.921875 \r\nQ 44.09375 48.828125 44.09375 54.296875 \r\nQ 44.09375 59.90625 40.109375 62.90625 \r\nQ 36.140625 65.921875 28.71875 65.921875 \r\nQ 24.65625 65.921875 20.015625 65.03125 \r\nQ 15.375 64.15625 9.8125 62.3125 \r\nL 9.8125 71.09375 \r\nQ 15.4375 72.65625 20.34375 73.4375 \r\nQ 25.25 74.21875 29.59375 74.21875 \r\nQ 40.828125 74.21875 47.359375 69.109375 \r\nQ 53.90625 64.015625 53.90625 55.328125 \r\nQ 53.90625 49.265625 50.4375 45.09375 \r\nQ 46.96875 40.921875 40.578125 39.3125 \r\nz\r\n\" id=\"DejaVuSans-51\"/>\r\n       </defs>\r\n       <use xlink:href=\"#DejaVuSans-51\"/>\r\n       <use x=\"63.623047\" xlink:href=\"#DejaVuSans-48\"/>\r\n       <use x=\"127.246094\" xlink:href=\"#DejaVuSans-48\"/>\r\n       <use x=\"190.869141\" xlink:href=\"#DejaVuSans-48\"/>\r\n      </g>\r\n     </g>\r\n    </g>\r\n    <g id=\"ytick_8\">\r\n     <g id=\"line2d_12\">\r\n      <g>\r\n       <use style=\"stroke:#000000;stroke-width:0.8;\" x=\"39.65\" xlink:href=\"#m61183eea27\" y=\"42.712289\"/>\r\n      </g>\r\n     </g>\r\n     <g id=\"text_13\">\r\n      <!-- 3500 -->\r\n      <g transform=\"translate(7.2 46.511508)scale(0.1 -0.1)\">\r\n       <use xlink:href=\"#DejaVuSans-51\"/>\r\n       <use x=\"63.623047\" xlink:href=\"#DejaVuSans-53\"/>\r\n       <use x=\"127.246094\" xlink:href=\"#DejaVuSans-48\"/>\r\n       <use x=\"190.869141\" xlink:href=\"#DejaVuSans-48\"/>\r\n      </g>\r\n     </g>\r\n    </g>\r\n    <g id=\"ytick_9\">\r\n     <g id=\"line2d_13\">\r\n      <g>\r\n       <use style=\"stroke:#000000;stroke-width:0.8;\" x=\"39.65\" xlink:href=\"#m61183eea27\" y=\"16.722616\"/>\r\n      </g>\r\n     </g>\r\n     <g id=\"text_14\">\r\n      <!-- 4000 -->\r\n      <g transform=\"translate(7.2 20.521835)scale(0.1 -0.1)\">\r\n       <defs>\r\n        <path d=\"M 37.796875 64.3125 \r\nL 12.890625 25.390625 \r\nL 37.796875 25.390625 \r\nz\r\nM 35.203125 72.90625 \r\nL 47.609375 72.90625 \r\nL 47.609375 25.390625 \r\nL 58.015625 25.390625 \r\nL 58.015625 17.1875 \r\nL 47.609375 17.1875 \r\nL 47.609375 0 \r\nL 37.796875 0 \r\nL 37.796875 17.1875 \r\nL 4.890625 17.1875 \r\nL 4.890625 26.703125 \r\nz\r\n\" id=\"DejaVuSans-52\"/>\r\n       </defs>\r\n       <use xlink:href=\"#DejaVuSans-52\"/>\r\n       <use x=\"63.623047\" xlink:href=\"#DejaVuSans-48\"/>\r\n       <use x=\"127.246094\" xlink:href=\"#DejaVuSans-48\"/>\r\n       <use x=\"190.869141\" xlink:href=\"#DejaVuSans-48\"/>\r\n      </g>\r\n     </g>\r\n    </g>\r\n   </g>\r\n   <g id=\"patch_7\">\r\n    <path d=\"M 39.65 224.64 \r\nL 39.65 7.2 \r\n\" style=\"fill:none;stroke:#000000;stroke-linecap:square;stroke-linejoin:miter;stroke-width:0.8;\"/>\r\n   </g>\r\n   <g id=\"patch_8\">\r\n    <path d=\"M 374.45 224.64 \r\nL 374.45 7.2 \r\n\" style=\"fill:none;stroke:#000000;stroke-linecap:square;stroke-linejoin:miter;stroke-width:0.8;\"/>\r\n   </g>\r\n   <g id=\"patch_9\">\r\n    <path d=\"M 39.65 224.64 \r\nL 374.45 224.64 \r\n\" style=\"fill:none;stroke:#000000;stroke-linecap:square;stroke-linejoin:miter;stroke-width:0.8;\"/>\r\n   </g>\r\n   <g id=\"patch_10\">\r\n    <path d=\"M 39.65 7.2 \r\nL 374.45 7.2 \r\n\" style=\"fill:none;stroke:#000000;stroke-linecap:square;stroke-linejoin:miter;stroke-width:0.8;\"/>\r\n   </g>\r\n   <g id=\"legend_1\">\r\n    <g id=\"patch_11\">\r\n     <path d=\"M 46.65 29.878125 \r\nL 89.3 29.878125 \r\nQ 91.3 29.878125 91.3 27.878125 \r\nL 91.3 14.2 \r\nQ 91.3 12.2 89.3 12.2 \r\nL 46.65 12.2 \r\nQ 44.65 12.2 44.65 14.2 \r\nL 44.65 27.878125 \r\nQ 44.65 29.878125 46.65 29.878125 \r\nz\r\n\" style=\"fill:#ffffff;opacity:0.8;stroke:#cccccc;stroke-linejoin:miter;\"/>\r\n    </g>\r\n    <g id=\"patch_12\">\r\n     <path d=\"M 48.65 23.798437 \r\nL 68.65 23.798437 \r\nL 68.65 16.798437 \r\nL 48.65 16.798437 \r\nz\r\n\" style=\"fill:#1f77b4;\"/>\r\n    </g>\r\n    <g id=\"text_15\">\r\n     <!-- ID -->\r\n     <g transform=\"translate(76.65 23.798437)scale(0.1 -0.1)\">\r\n      <defs>\r\n       <path d=\"M 9.8125 72.90625 \r\nL 19.671875 72.90625 \r\nL 19.671875 0 \r\nL 9.8125 0 \r\nz\r\n\" id=\"DejaVuSans-73\"/>\r\n       <path d=\"M 19.671875 64.796875 \r\nL 19.671875 8.109375 \r\nL 31.59375 8.109375 \r\nQ 46.6875 8.109375 53.6875 14.9375 \r\nQ 60.6875 21.78125 60.6875 36.53125 \r\nQ 60.6875 51.171875 53.6875 57.984375 \r\nQ 46.6875 64.796875 31.59375 64.796875 \r\nz\r\nM 9.8125 72.90625 \r\nL 30.078125 72.90625 \r\nQ 51.265625 72.90625 61.171875 64.09375 \r\nQ 71.09375 55.28125 71.09375 36.53125 \r\nQ 71.09375 17.671875 61.125 8.828125 \r\nQ 51.171875 0 30.078125 0 \r\nL 9.8125 0 \r\nz\r\n\" id=\"DejaVuSans-68\"/>\r\n      </defs>\r\n      <use xlink:href=\"#DejaVuSans-73\"/>\r\n      <use x=\"29.492188\" xlink:href=\"#DejaVuSans-68\"/>\r\n     </g>\r\n    </g>\r\n   </g>\r\n  </g>\r\n </g>\r\n <defs>\r\n  <clipPath id=\"pad54adb689\">\r\n   <rect height=\"217.44\" width=\"334.8\" x=\"39.65\" y=\"7.2\"/>\r\n  </clipPath>\r\n </defs>\r\n</svg>\r\n",
      "image/png": "[encoded data removed]"
     },
     "metadata": {
      "needs_background": "light"
     }
    }
   ],
   "source": [
    "#Average Number of accidents per month/season\n",
    "#create a new column with if/then based on date to categorize into seasons\n",
    "#create bar graph \n",
    "season_count = us_data_maricopa.groupby('season').count()\n",
    "season_count_clean = season_count['ID']\n",
    "season_count_clean = pd.DataFrame(season_count_clean)\n",
    "season_count_clean.plot(kind='bar', title='Number Of Accidents per Season')\n",
    "\n",
    "plt.show()"
   ]
  },
  {
   "cell_type": "code",
   "execution_count": 25,
   "metadata": {},
   "outputs": [],
   "source": [
    "#Highest Accident per day -- table to show\n",
    "#groupby start_time column\n"
   ]
  },
  {
   "cell_type": "code",
   "execution_count": 26,
   "metadata": {},
   "outputs": [],
   "source": [
    "#"
   ]
  }
 ]
}