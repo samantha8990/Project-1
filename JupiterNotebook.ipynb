{
 "metadata": {
  "language_info": {
   "codemirror_mode": {
    "name": "ipython",
    "version": 3
   },
   "file_extension": ".py",
   "mimetype": "text/x-python",
   "name": "python",
   "nbconvert_exporter": "python",
   "pygments_lexer": "ipython3",
   "version": "3.7.9"
  },
  "orig_nbformat": 2,
  "kernelspec": {
   "name": "python379jvsc74a57bd000603a2c3e8eb17b83d7fca558293375879bba6e0cc7e84ab094aaf79e0fa4fb",
   "display_name": "Python 3.7.9 64-bit ('pythondata': conda)"
  }
 },
 "nbformat": 4,
 "nbformat_minor": 2,
 "cells": [
  {
   "cell_type": "code",
   "execution_count": 19,
   "metadata": {},
   "outputs": [],
   "source": [
    "import pandas as pd\n",
    "import numpy as np\n",
    "import scipy.stats as sts\n",
    "import matplotlib.pyplot as plt\n",
    "import sklearn.datasets as dta"
   ]
  },
  {
   "cell_type": "code",
   "execution_count": 20,
   "metadata": {},
   "outputs": [],
   "source": [
    "csv_path = r'Us_Accidents_Arizona_DEC20.csv'"
   ]
  },
  {
   "cell_type": "code",
   "execution_count": 21,
   "metadata": {},
   "outputs": [
    {
     "output_type": "execute_result",
     "data": {
      "text/plain": [
       "              ID  TMC  Severity        Start_Time          End_Time  \\\n",
       "0       A-513395  201         2   12/31/2020 8:33   12/31/2020 9:18   \n",
       "1       A-513396  201         2   12/31/2020 9:32  12/31/2020 11:03   \n",
       "2       A-513397  201         2  12/31/2020 12:54  12/31/2020 19:20   \n",
       "3       A-513398  201         3  12/31/2020 16:04  12/31/2020 17:28   \n",
       "4       A-513399  201         2  12/31/2020 18:47  12/31/2020 19:48   \n",
       "...          ...  ...       ...               ...               ...   \n",
       "15092  A-1048129  201         2   10/9/2019 21:08   10/9/2019 21:57   \n",
       "15093  A-1048130  201         2   10/9/2019 21:10   10/9/2019 21:58   \n",
       "15094  A-1048131  201         2   10/9/2019 21:11   10/9/2019 21:58   \n",
       "15095  A-1048132  201         2   10/9/2019 21:10   10/9/2019 21:57   \n",
       "15096  A-1048136  201         2    10/9/2019 4:17    10/9/2019 6:43   \n",
       "\n",
       "                   City    County State     Zipcode Country  Temperature(F)  \\\n",
       "0         Sun City West  Maricopa    AZ  85375-1800      US            43.0   \n",
       "1            Wickenburg  Maricopa    AZ  85390-3367      US            45.0   \n",
       "2      Lake Havasu City    Mohave    AZ       86404      US            60.0   \n",
       "3              Avondale  Maricopa    AZ       85323      US            57.0   \n",
       "4              Prescott   Yavapai    AZ       86303      US            36.0   \n",
       "...                 ...       ...   ...         ...     ...             ...   \n",
       "15092          Glendale  Maricopa    AZ       85307      US            86.0   \n",
       "15093            Tucson      Pima    AZ       85712      US            75.0   \n",
       "15094             Tempe  Maricopa    AZ       85283      US            88.0   \n",
       "15095             Tempe  Maricopa    AZ  85281-3715      US            88.0   \n",
       "15096          Chambers    Apache    AZ       86502      US            50.0   \n",
       "\n",
       "       Visibility(mi)  Wind_Speed(mph)  Precipitation(in) Weather_Condition  \\\n",
       "0                10.0              5.0                0.0            Cloudy   \n",
       "1                10.0              3.0                0.0     Light Drizzle   \n",
       "2                10.0             12.0                0.0              Fair   \n",
       "3                10.0              5.0                NaN            Cloudy   \n",
       "4                10.0              6.0                0.0            Cloudy   \n",
       "...               ...              ...                ...               ...   \n",
       "15092            10.0              0.0                0.0              Fair   \n",
       "15093            10.0              6.0                0.0              Fair   \n",
       "15094            10.0             10.0                0.0     Partly Cloudy   \n",
       "15095            10.0             10.0                0.0     Partly Cloudy   \n",
       "15096            10.0              6.0                0.0              Fair   \n",
       "\n",
       "      Sunrise_Sunset   Stop  Traffic_Signal  \n",
       "0                Day  False            True  \n",
       "1                Day  False           False  \n",
       "2                Day   True           False  \n",
       "3                Day  False           False  \n",
       "4              Night  False           False  \n",
       "...              ...    ...             ...  \n",
       "15092          Night  False            True  \n",
       "15093          Night  False            True  \n",
       "15094          Night  False           False  \n",
       "15095          Night  False           False  \n",
       "15096          Night  False           False  \n",
       "\n",
       "[15097 rows x 18 columns]"
      ],
      "text/html": "<div>\n<style scoped>\n    .dataframe tbody tr th:only-of-type {\n        vertical-align: middle;\n    }\n\n    .dataframe tbody tr th {\n        vertical-align: top;\n    }\n\n    .dataframe thead th {\n        text-align: right;\n    }\n</style>\n<table border=\"1\" class=\"dataframe\">\n  <thead>\n    <tr style=\"text-align: right;\">\n      <th></th>\n      <th>ID</th>\n      <th>TMC</th>\n      <th>Severity</th>\n      <th>Start_Time</th>\n      <th>End_Time</th>\n      <th>City</th>\n      <th>County</th>\n      <th>State</th>\n      <th>Zipcode</th>\n      <th>Country</th>\n      <th>Temperature(F)</th>\n      <th>Visibility(mi)</th>\n      <th>Wind_Speed(mph)</th>\n      <th>Precipitation(in)</th>\n      <th>Weather_Condition</th>\n      <th>Sunrise_Sunset</th>\n      <th>Stop</th>\n      <th>Traffic_Signal</th>\n    </tr>\n  </thead>\n  <tbody>\n    <tr>\n      <th>0</th>\n      <td>A-513395</td>\n      <td>201</td>\n      <td>2</td>\n      <td>12/31/2020 8:33</td>\n      <td>12/31/2020 9:18</td>\n      <td>Sun City West</td>\n      <td>Maricopa</td>\n      <td>AZ</td>\n      <td>85375-1800</td>\n      <td>US</td>\n      <td>43.0</td>\n      <td>10.0</td>\n      <td>5.0</td>\n      <td>0.0</td>\n      <td>Cloudy</td>\n      <td>Day</td>\n      <td>False</td>\n      <td>True</td>\n    </tr>\n    <tr>\n      <th>1</th>\n      <td>A-513396</td>\n      <td>201</td>\n      <td>2</td>\n      <td>12/31/2020 9:32</td>\n      <td>12/31/2020 11:03</td>\n      <td>Wickenburg</td>\n      <td>Maricopa</td>\n      <td>AZ</td>\n      <td>85390-3367</td>\n      <td>US</td>\n      <td>45.0</td>\n      <td>10.0</td>\n      <td>3.0</td>\n      <td>0.0</td>\n      <td>Light Drizzle</td>\n      <td>Day</td>\n      <td>False</td>\n      <td>False</td>\n    </tr>\n    <tr>\n      <th>2</th>\n      <td>A-513397</td>\n      <td>201</td>\n      <td>2</td>\n      <td>12/31/2020 12:54</td>\n      <td>12/31/2020 19:20</td>\n      <td>Lake Havasu City</td>\n      <td>Mohave</td>\n      <td>AZ</td>\n      <td>86404</td>\n      <td>US</td>\n      <td>60.0</td>\n      <td>10.0</td>\n      <td>12.0</td>\n      <td>0.0</td>\n      <td>Fair</td>\n      <td>Day</td>\n      <td>True</td>\n      <td>False</td>\n    </tr>\n    <tr>\n      <th>3</th>\n      <td>A-513398</td>\n      <td>201</td>\n      <td>3</td>\n      <td>12/31/2020 16:04</td>\n      <td>12/31/2020 17:28</td>\n      <td>Avondale</td>\n      <td>Maricopa</td>\n      <td>AZ</td>\n      <td>85323</td>\n      <td>US</td>\n      <td>57.0</td>\n      <td>10.0</td>\n      <td>5.0</td>\n      <td>NaN</td>\n      <td>Cloudy</td>\n      <td>Day</td>\n      <td>False</td>\n      <td>False</td>\n    </tr>\n    <tr>\n      <th>4</th>\n      <td>A-513399</td>\n      <td>201</td>\n      <td>2</td>\n      <td>12/31/2020 18:47</td>\n      <td>12/31/2020 19:48</td>\n      <td>Prescott</td>\n      <td>Yavapai</td>\n      <td>AZ</td>\n      <td>86303</td>\n      <td>US</td>\n      <td>36.0</td>\n      <td>10.0</td>\n      <td>6.0</td>\n      <td>0.0</td>\n      <td>Cloudy</td>\n      <td>Night</td>\n      <td>False</td>\n      <td>False</td>\n    </tr>\n    <tr>\n      <th>...</th>\n      <td>...</td>\n      <td>...</td>\n      <td>...</td>\n      <td>...</td>\n      <td>...</td>\n      <td>...</td>\n      <td>...</td>\n      <td>...</td>\n      <td>...</td>\n      <td>...</td>\n      <td>...</td>\n      <td>...</td>\n      <td>...</td>\n      <td>...</td>\n      <td>...</td>\n      <td>...</td>\n      <td>...</td>\n      <td>...</td>\n    </tr>\n    <tr>\n      <th>15092</th>\n      <td>A-1048129</td>\n      <td>201</td>\n      <td>2</td>\n      <td>10/9/2019 21:08</td>\n      <td>10/9/2019 21:57</td>\n      <td>Glendale</td>\n      <td>Maricopa</td>\n      <td>AZ</td>\n      <td>85307</td>\n      <td>US</td>\n      <td>86.0</td>\n      <td>10.0</td>\n      <td>0.0</td>\n      <td>0.0</td>\n      <td>Fair</td>\n      <td>Night</td>\n      <td>False</td>\n      <td>True</td>\n    </tr>\n    <tr>\n      <th>15093</th>\n      <td>A-1048130</td>\n      <td>201</td>\n      <td>2</td>\n      <td>10/9/2019 21:10</td>\n      <td>10/9/2019 21:58</td>\n      <td>Tucson</td>\n      <td>Pima</td>\n      <td>AZ</td>\n      <td>85712</td>\n      <td>US</td>\n      <td>75.0</td>\n      <td>10.0</td>\n      <td>6.0</td>\n      <td>0.0</td>\n      <td>Fair</td>\n      <td>Night</td>\n      <td>False</td>\n      <td>True</td>\n    </tr>\n    <tr>\n      <th>15094</th>\n      <td>A-1048131</td>\n      <td>201</td>\n      <td>2</td>\n      <td>10/9/2019 21:11</td>\n      <td>10/9/2019 21:58</td>\n      <td>Tempe</td>\n      <td>Maricopa</td>\n      <td>AZ</td>\n      <td>85283</td>\n      <td>US</td>\n      <td>88.0</td>\n      <td>10.0</td>\n      <td>10.0</td>\n      <td>0.0</td>\n      <td>Partly Cloudy</td>\n      <td>Night</td>\n      <td>False</td>\n      <td>False</td>\n    </tr>\n    <tr>\n      <th>15095</th>\n      <td>A-1048132</td>\n      <td>201</td>\n      <td>2</td>\n      <td>10/9/2019 21:10</td>\n      <td>10/9/2019 21:57</td>\n      <td>Tempe</td>\n      <td>Maricopa</td>\n      <td>AZ</td>\n      <td>85281-3715</td>\n      <td>US</td>\n      <td>88.0</td>\n      <td>10.0</td>\n      <td>10.0</td>\n      <td>0.0</td>\n      <td>Partly Cloudy</td>\n      <td>Night</td>\n      <td>False</td>\n      <td>False</td>\n    </tr>\n    <tr>\n      <th>15096</th>\n      <td>A-1048136</td>\n      <td>201</td>\n      <td>2</td>\n      <td>10/9/2019 4:17</td>\n      <td>10/9/2019 6:43</td>\n      <td>Chambers</td>\n      <td>Apache</td>\n      <td>AZ</td>\n      <td>86502</td>\n      <td>US</td>\n      <td>50.0</td>\n      <td>10.0</td>\n      <td>6.0</td>\n      <td>0.0</td>\n      <td>Fair</td>\n      <td>Night</td>\n      <td>False</td>\n      <td>False</td>\n    </tr>\n  </tbody>\n</table>\n<p>15097 rows × 18 columns</p>\n</div>"
     },
     "metadata": {},
     "execution_count": 21
    }
   ],
   "source": [
    "us_data_df = pd.read_csv(csv_path)\n",
    "us_data_cleaned = us_data_df[['ID','TMC','Severity','Start_Time','End_Time','City','County','State','Zipcode','Country','Temperature(F)','Visibility(mi)','Wind_Speed(mph)','Precipitation(in)','Weather_Condition','Sunrise_Sunset','Stop','Traffic_Signal']]\n",
    "us_data_cleaned"
   ]
  },
  {
   "cell_type": "code",
   "execution_count": 22,
   "metadata": {},
   "outputs": [
    {
     "output_type": "execute_result",
     "data": {
      "text/plain": [
       "              ID  TMC  Severity       Start_Time          End_Time  \\\n",
       "0       A-513395  201         2  12/31/2020 8:33   12/31/2020 9:18   \n",
       "1       A-513396  201         2  12/31/2020 9:32  12/31/2020 11:03   \n",
       "5       A-513400  201         2  12/31/2020 4:52   12/31/2020 6:07   \n",
       "8       A-513403  201         2  12/31/2020 6:40   12/31/2020 7:10   \n",
       "9       A-513404  201         2  12/31/2020 6:54   12/31/2020 7:24   \n",
       "...          ...  ...       ...              ...               ...   \n",
       "15088  A-1048125  201         3  10/9/2019 19:45   10/9/2019 21:01   \n",
       "15090  A-1048127  201         3  10/9/2019 19:46   10/9/2019 21:03   \n",
       "15092  A-1048129  201         2  10/9/2019 21:08   10/9/2019 21:57   \n",
       "15094  A-1048131  201         2  10/9/2019 21:11   10/9/2019 21:58   \n",
       "15095  A-1048132  201         2  10/9/2019 21:10   10/9/2019 21:57   \n",
       "\n",
       "                City    County State     Zipcode Country  Temperature(F)  \\\n",
       "0      Sun City West  Maricopa    AZ  85375-1800      US            43.0   \n",
       "1         Wickenburg  Maricopa    AZ  85390-3367      US            45.0   \n",
       "5            Phoenix  Maricopa    AZ  85027-4008      US            40.0   \n",
       "8            Phoenix  Maricopa    AZ  85020-1812      US            40.0   \n",
       "9            Phoenix  Maricopa    AZ       85022      US            39.0   \n",
       "...              ...       ...   ...         ...     ...             ...   \n",
       "15088        Phoenix  Maricopa    AZ       85034      US            89.0   \n",
       "15090        Phoenix  Maricopa    AZ       85034      US            89.0   \n",
       "15092       Glendale  Maricopa    AZ       85307      US            86.0   \n",
       "15094          Tempe  Maricopa    AZ       85283      US            88.0   \n",
       "15095          Tempe  Maricopa    AZ  85281-3715      US            88.0   \n",
       "\n",
       "       Visibility(mi)  Wind_Speed(mph)  Precipitation(in) Weather_Condition  \\\n",
       "0                10.0              5.0                0.0            Cloudy   \n",
       "1                10.0              3.0                0.0     Light Drizzle   \n",
       "5                10.0              0.0                0.0              Fair   \n",
       "8                10.0              0.0                0.0              Fair   \n",
       "9                10.0              0.0                0.0              Fair   \n",
       "...               ...              ...                ...               ...   \n",
       "15088            10.0             13.0                0.0              Fair   \n",
       "15090            10.0             13.0                0.0              Fair   \n",
       "15092            10.0              0.0                0.0              Fair   \n",
       "15094            10.0             10.0                0.0     Partly Cloudy   \n",
       "15095            10.0             10.0                0.0     Partly Cloudy   \n",
       "\n",
       "      Sunrise_Sunset   Stop  Traffic_Signal  \n",
       "0                Day  False            True  \n",
       "1                Day  False           False  \n",
       "5              Night  False            True  \n",
       "8              Night  False           False  \n",
       "9              Night  False            True  \n",
       "...              ...    ...             ...  \n",
       "15088          Night  False           False  \n",
       "15090          Night  False           False  \n",
       "15092          Night  False            True  \n",
       "15094          Night  False           False  \n",
       "15095          Night  False           False  \n",
       "\n",
       "[8316 rows x 18 columns]"
      ],
      "text/html": "<div>\n<style scoped>\n    .dataframe tbody tr th:only-of-type {\n        vertical-align: middle;\n    }\n\n    .dataframe tbody tr th {\n        vertical-align: top;\n    }\n\n    .dataframe thead th {\n        text-align: right;\n    }\n</style>\n<table border=\"1\" class=\"dataframe\">\n  <thead>\n    <tr style=\"text-align: right;\">\n      <th></th>\n      <th>ID</th>\n      <th>TMC</th>\n      <th>Severity</th>\n      <th>Start_Time</th>\n      <th>End_Time</th>\n      <th>City</th>\n      <th>County</th>\n      <th>State</th>\n      <th>Zipcode</th>\n      <th>Country</th>\n      <th>Temperature(F)</th>\n      <th>Visibility(mi)</th>\n      <th>Wind_Speed(mph)</th>\n      <th>Precipitation(in)</th>\n      <th>Weather_Condition</th>\n      <th>Sunrise_Sunset</th>\n      <th>Stop</th>\n      <th>Traffic_Signal</th>\n    </tr>\n  </thead>\n  <tbody>\n    <tr>\n      <th>0</th>\n      <td>A-513395</td>\n      <td>201</td>\n      <td>2</td>\n      <td>12/31/2020 8:33</td>\n      <td>12/31/2020 9:18</td>\n      <td>Sun City West</td>\n      <td>Maricopa</td>\n      <td>AZ</td>\n      <td>85375-1800</td>\n      <td>US</td>\n      <td>43.0</td>\n      <td>10.0</td>\n      <td>5.0</td>\n      <td>0.0</td>\n      <td>Cloudy</td>\n      <td>Day</td>\n      <td>False</td>\n      <td>True</td>\n    </tr>\n    <tr>\n      <th>1</th>\n      <td>A-513396</td>\n      <td>201</td>\n      <td>2</td>\n      <td>12/31/2020 9:32</td>\n      <td>12/31/2020 11:03</td>\n      <td>Wickenburg</td>\n      <td>Maricopa</td>\n      <td>AZ</td>\n      <td>85390-3367</td>\n      <td>US</td>\n      <td>45.0</td>\n      <td>10.0</td>\n      <td>3.0</td>\n      <td>0.0</td>\n      <td>Light Drizzle</td>\n      <td>Day</td>\n      <td>False</td>\n      <td>False</td>\n    </tr>\n    <tr>\n      <th>5</th>\n      <td>A-513400</td>\n      <td>201</td>\n      <td>2</td>\n      <td>12/31/2020 4:52</td>\n      <td>12/31/2020 6:07</td>\n      <td>Phoenix</td>\n      <td>Maricopa</td>\n      <td>AZ</td>\n      <td>85027-4008</td>\n      <td>US</td>\n      <td>40.0</td>\n      <td>10.0</td>\n      <td>0.0</td>\n      <td>0.0</td>\n      <td>Fair</td>\n      <td>Night</td>\n      <td>False</td>\n      <td>True</td>\n    </tr>\n    <tr>\n      <th>8</th>\n      <td>A-513403</td>\n      <td>201</td>\n      <td>2</td>\n      <td>12/31/2020 6:40</td>\n      <td>12/31/2020 7:10</td>\n      <td>Phoenix</td>\n      <td>Maricopa</td>\n      <td>AZ</td>\n      <td>85020-1812</td>\n      <td>US</td>\n      <td>40.0</td>\n      <td>10.0</td>\n      <td>0.0</td>\n      <td>0.0</td>\n      <td>Fair</td>\n      <td>Night</td>\n      <td>False</td>\n      <td>False</td>\n    </tr>\n    <tr>\n      <th>9</th>\n      <td>A-513404</td>\n      <td>201</td>\n      <td>2</td>\n      <td>12/31/2020 6:54</td>\n      <td>12/31/2020 7:24</td>\n      <td>Phoenix</td>\n      <td>Maricopa</td>\n      <td>AZ</td>\n      <td>85022</td>\n      <td>US</td>\n      <td>39.0</td>\n      <td>10.0</td>\n      <td>0.0</td>\n      <td>0.0</td>\n      <td>Fair</td>\n      <td>Night</td>\n      <td>False</td>\n      <td>True</td>\n    </tr>\n    <tr>\n      <th>...</th>\n      <td>...</td>\n      <td>...</td>\n      <td>...</td>\n      <td>...</td>\n      <td>...</td>\n      <td>...</td>\n      <td>...</td>\n      <td>...</td>\n      <td>...</td>\n      <td>...</td>\n      <td>...</td>\n      <td>...</td>\n      <td>...</td>\n      <td>...</td>\n      <td>...</td>\n      <td>...</td>\n      <td>...</td>\n      <td>...</td>\n    </tr>\n    <tr>\n      <th>15088</th>\n      <td>A-1048125</td>\n      <td>201</td>\n      <td>3</td>\n      <td>10/9/2019 19:45</td>\n      <td>10/9/2019 21:01</td>\n      <td>Phoenix</td>\n      <td>Maricopa</td>\n      <td>AZ</td>\n      <td>85034</td>\n      <td>US</td>\n      <td>89.0</td>\n      <td>10.0</td>\n      <td>13.0</td>\n      <td>0.0</td>\n      <td>Fair</td>\n      <td>Night</td>\n      <td>False</td>\n      <td>False</td>\n    </tr>\n    <tr>\n      <th>15090</th>\n      <td>A-1048127</td>\n      <td>201</td>\n      <td>3</td>\n      <td>10/9/2019 19:46</td>\n      <td>10/9/2019 21:03</td>\n      <td>Phoenix</td>\n      <td>Maricopa</td>\n      <td>AZ</td>\n      <td>85034</td>\n      <td>US</td>\n      <td>89.0</td>\n      <td>10.0</td>\n      <td>13.0</td>\n      <td>0.0</td>\n      <td>Fair</td>\n      <td>Night</td>\n      <td>False</td>\n      <td>False</td>\n    </tr>\n    <tr>\n      <th>15092</th>\n      <td>A-1048129</td>\n      <td>201</td>\n      <td>2</td>\n      <td>10/9/2019 21:08</td>\n      <td>10/9/2019 21:57</td>\n      <td>Glendale</td>\n      <td>Maricopa</td>\n      <td>AZ</td>\n      <td>85307</td>\n      <td>US</td>\n      <td>86.0</td>\n      <td>10.0</td>\n      <td>0.0</td>\n      <td>0.0</td>\n      <td>Fair</td>\n      <td>Night</td>\n      <td>False</td>\n      <td>True</td>\n    </tr>\n    <tr>\n      <th>15094</th>\n      <td>A-1048131</td>\n      <td>201</td>\n      <td>2</td>\n      <td>10/9/2019 21:11</td>\n      <td>10/9/2019 21:58</td>\n      <td>Tempe</td>\n      <td>Maricopa</td>\n      <td>AZ</td>\n      <td>85283</td>\n      <td>US</td>\n      <td>88.0</td>\n      <td>10.0</td>\n      <td>10.0</td>\n      <td>0.0</td>\n      <td>Partly Cloudy</td>\n      <td>Night</td>\n      <td>False</td>\n      <td>False</td>\n    </tr>\n    <tr>\n      <th>15095</th>\n      <td>A-1048132</td>\n      <td>201</td>\n      <td>2</td>\n      <td>10/9/2019 21:10</td>\n      <td>10/9/2019 21:57</td>\n      <td>Tempe</td>\n      <td>Maricopa</td>\n      <td>AZ</td>\n      <td>85281-3715</td>\n      <td>US</td>\n      <td>88.0</td>\n      <td>10.0</td>\n      <td>10.0</td>\n      <td>0.0</td>\n      <td>Partly Cloudy</td>\n      <td>Night</td>\n      <td>False</td>\n      <td>False</td>\n    </tr>\n  </tbody>\n</table>\n<p>8316 rows × 18 columns</p>\n</div>"
     },
     "metadata": {},
     "execution_count": 22
    }
   ],
   "source": [
    "us_data_cleaned = us_data_cleaned.dropna(how=\"any\")\n",
    "us_data_maricopa = us_data_cleaned.loc[us_data_cleaned['County'] == 'Maricopa']\n",
    "us_data_maricopa"
   ]
  },
  {
   "cell_type": "code",
   "execution_count": 27,
   "metadata": {},
   "outputs": [
    {
     "output_type": "stream",
     "name": "stderr",
     "text": [
      "C:\\Users\\ashle\\anaconda3\\envs\\pythondata\\lib\\site-packages\\ipykernel_launcher.py:2: SettingWithCopyWarning: \nA value is trying to be set on a copy of a slice from a DataFrame.\nTry using .loc[row_indexer,col_indexer] = value instead\n\nSee the caveats in the documentation: https://pandas.pydata.org/pandas-docs/stable/user_guide/indexing.html#returning-a-view-versus-a-copy\n  \nC:\\Users\\ashle\\anaconda3\\envs\\pythondata\\lib\\site-packages\\ipykernel_launcher.py:3: SettingWithCopyWarning: \nA value is trying to be set on a copy of a slice from a DataFrame.\nTry using .loc[row_indexer,col_indexer] = value instead\n\nSee the caveats in the documentation: https://pandas.pydata.org/pandas-docs/stable/user_guide/indexing.html#returning-a-view-versus-a-copy\n  This is separate from the ipykernel package so we can avoid doing imports until\nC:\\Users\\ashle\\anaconda3\\envs\\pythondata\\lib\\site-packages\\ipykernel_launcher.py:4: SettingWithCopyWarning: \nA value is trying to be set on a copy of a slice from a DataFrame.\nTry using .loc[row_indexer,col_indexer] = value instead\n\nSee the caveats in the documentation: https://pandas.pydata.org/pandas-docs/stable/user_guide/indexing.html#returning-a-view-versus-a-copy\n  after removing the cwd from sys.path.\n"
     ]
    },
    {
     "output_type": "execute_result",
     "data": {
      "text/plain": [
       "              ID  TMC  Severity  Start_Time    End_Time           City  \\\n",
       "0       A-513395  201         2  12/31/2020  12/31/2020  Sun City West   \n",
       "1       A-513396  201         2  12/31/2020  12/31/2020     Wickenburg   \n",
       "5       A-513400  201         2  12/31/2020  12/31/2020        Phoenix   \n",
       "8       A-513403  201         2  12/31/2020  12/31/2020        Phoenix   \n",
       "9       A-513404  201         2  12/31/2020  12/31/2020        Phoenix   \n",
       "...          ...  ...       ...         ...         ...            ...   \n",
       "15088  A-1048125  201         3   10/9/2019   10/9/2019        Phoenix   \n",
       "15090  A-1048127  201         3   10/9/2019   10/9/2019        Phoenix   \n",
       "15092  A-1048129  201         2   10/9/2019   10/9/2019       Glendale   \n",
       "15094  A-1048131  201         2   10/9/2019   10/9/2019          Tempe   \n",
       "15095  A-1048132  201         2   10/9/2019   10/9/2019          Tempe   \n",
       "\n",
       "         County State Zipcode Country  Temperature(F)  Visibility(mi)  \\\n",
       "0      Maricopa    AZ   85375      US            43.0            10.0   \n",
       "1      Maricopa    AZ   85390      US            45.0            10.0   \n",
       "5      Maricopa    AZ   85027      US            40.0            10.0   \n",
       "8      Maricopa    AZ   85020      US            40.0            10.0   \n",
       "9      Maricopa    AZ   85022      US            39.0            10.0   \n",
       "...         ...   ...     ...     ...             ...             ...   \n",
       "15088  Maricopa    AZ   85034      US            89.0            10.0   \n",
       "15090  Maricopa    AZ   85034      US            89.0            10.0   \n",
       "15092  Maricopa    AZ   85307      US            86.0            10.0   \n",
       "15094  Maricopa    AZ   85283      US            88.0            10.0   \n",
       "15095  Maricopa    AZ   85281      US            88.0            10.0   \n",
       "\n",
       "       Wind_Speed(mph)  Precipitation(in) Weather_Condition Sunrise_Sunset  \\\n",
       "0                  5.0                0.0            Cloudy            Day   \n",
       "1                  3.0                0.0     Light Drizzle            Day   \n",
       "5                  0.0                0.0              Fair          Night   \n",
       "8                  0.0                0.0              Fair          Night   \n",
       "9                  0.0                0.0              Fair          Night   \n",
       "...                ...                ...               ...            ...   \n",
       "15088             13.0                0.0              Fair          Night   \n",
       "15090             13.0                0.0              Fair          Night   \n",
       "15092              0.0                0.0              Fair          Night   \n",
       "15094             10.0                0.0     Partly Cloudy          Night   \n",
       "15095             10.0                0.0     Partly Cloudy          Night   \n",
       "\n",
       "        Stop  Traffic_Signal  \n",
       "0      False            True  \n",
       "1      False           False  \n",
       "5      False            True  \n",
       "8      False           False  \n",
       "9      False            True  \n",
       "...      ...             ...  \n",
       "15088  False           False  \n",
       "15090  False           False  \n",
       "15092  False            True  \n",
       "15094  False           False  \n",
       "15095  False           False  \n",
       "\n",
       "[8316 rows x 18 columns]"
      ],
      "text/html": "<div>\n<style scoped>\n    .dataframe tbody tr th:only-of-type {\n        vertical-align: middle;\n    }\n\n    .dataframe tbody tr th {\n        vertical-align: top;\n    }\n\n    .dataframe thead th {\n        text-align: right;\n    }\n</style>\n<table border=\"1\" class=\"dataframe\">\n  <thead>\n    <tr style=\"text-align: right;\">\n      <th></th>\n      <th>ID</th>\n      <th>TMC</th>\n      <th>Severity</th>\n      <th>Start_Time</th>\n      <th>End_Time</th>\n      <th>City</th>\n      <th>County</th>\n      <th>State</th>\n      <th>Zipcode</th>\n      <th>Country</th>\n      <th>Temperature(F)</th>\n      <th>Visibility(mi)</th>\n      <th>Wind_Speed(mph)</th>\n      <th>Precipitation(in)</th>\n      <th>Weather_Condition</th>\n      <th>Sunrise_Sunset</th>\n      <th>Stop</th>\n      <th>Traffic_Signal</th>\n    </tr>\n  </thead>\n  <tbody>\n    <tr>\n      <th>0</th>\n      <td>A-513395</td>\n      <td>201</td>\n      <td>2</td>\n      <td>12/31/2020</td>\n      <td>12/31/2020</td>\n      <td>Sun City West</td>\n      <td>Maricopa</td>\n      <td>AZ</td>\n      <td>85375</td>\n      <td>US</td>\n      <td>43.0</td>\n      <td>10.0</td>\n      <td>5.0</td>\n      <td>0.0</td>\n      <td>Cloudy</td>\n      <td>Day</td>\n      <td>False</td>\n      <td>True</td>\n    </tr>\n    <tr>\n      <th>1</th>\n      <td>A-513396</td>\n      <td>201</td>\n      <td>2</td>\n      <td>12/31/2020</td>\n      <td>12/31/2020</td>\n      <td>Wickenburg</td>\n      <td>Maricopa</td>\n      <td>AZ</td>\n      <td>85390</td>\n      <td>US</td>\n      <td>45.0</td>\n      <td>10.0</td>\n      <td>3.0</td>\n      <td>0.0</td>\n      <td>Light Drizzle</td>\n      <td>Day</td>\n      <td>False</td>\n      <td>False</td>\n    </tr>\n    <tr>\n      <th>5</th>\n      <td>A-513400</td>\n      <td>201</td>\n      <td>2</td>\n      <td>12/31/2020</td>\n      <td>12/31/2020</td>\n      <td>Phoenix</td>\n      <td>Maricopa</td>\n      <td>AZ</td>\n      <td>85027</td>\n      <td>US</td>\n      <td>40.0</td>\n      <td>10.0</td>\n      <td>0.0</td>\n      <td>0.0</td>\n      <td>Fair</td>\n      <td>Night</td>\n      <td>False</td>\n      <td>True</td>\n    </tr>\n    <tr>\n      <th>8</th>\n      <td>A-513403</td>\n      <td>201</td>\n      <td>2</td>\n      <td>12/31/2020</td>\n      <td>12/31/2020</td>\n      <td>Phoenix</td>\n      <td>Maricopa</td>\n      <td>AZ</td>\n      <td>85020</td>\n      <td>US</td>\n      <td>40.0</td>\n      <td>10.0</td>\n      <td>0.0</td>\n      <td>0.0</td>\n      <td>Fair</td>\n      <td>Night</td>\n      <td>False</td>\n      <td>False</td>\n    </tr>\n    <tr>\n      <th>9</th>\n      <td>A-513404</td>\n      <td>201</td>\n      <td>2</td>\n      <td>12/31/2020</td>\n      <td>12/31/2020</td>\n      <td>Phoenix</td>\n      <td>Maricopa</td>\n      <td>AZ</td>\n      <td>85022</td>\n      <td>US</td>\n      <td>39.0</td>\n      <td>10.0</td>\n      <td>0.0</td>\n      <td>0.0</td>\n      <td>Fair</td>\n      <td>Night</td>\n      <td>False</td>\n      <td>True</td>\n    </tr>\n    <tr>\n      <th>...</th>\n      <td>...</td>\n      <td>...</td>\n      <td>...</td>\n      <td>...</td>\n      <td>...</td>\n      <td>...</td>\n      <td>...</td>\n      <td>...</td>\n      <td>...</td>\n      <td>...</td>\n      <td>...</td>\n      <td>...</td>\n      <td>...</td>\n      <td>...</td>\n      <td>...</td>\n      <td>...</td>\n      <td>...</td>\n      <td>...</td>\n    </tr>\n    <tr>\n      <th>15088</th>\n      <td>A-1048125</td>\n      <td>201</td>\n      <td>3</td>\n      <td>10/9/2019</td>\n      <td>10/9/2019</td>\n      <td>Phoenix</td>\n      <td>Maricopa</td>\n      <td>AZ</td>\n      <td>85034</td>\n      <td>US</td>\n      <td>89.0</td>\n      <td>10.0</td>\n      <td>13.0</td>\n      <td>0.0</td>\n      <td>Fair</td>\n      <td>Night</td>\n      <td>False</td>\n      <td>False</td>\n    </tr>\n    <tr>\n      <th>15090</th>\n      <td>A-1048127</td>\n      <td>201</td>\n      <td>3</td>\n      <td>10/9/2019</td>\n      <td>10/9/2019</td>\n      <td>Phoenix</td>\n      <td>Maricopa</td>\n      <td>AZ</td>\n      <td>85034</td>\n      <td>US</td>\n      <td>89.0</td>\n      <td>10.0</td>\n      <td>13.0</td>\n      <td>0.0</td>\n      <td>Fair</td>\n      <td>Night</td>\n      <td>False</td>\n      <td>False</td>\n    </tr>\n    <tr>\n      <th>15092</th>\n      <td>A-1048129</td>\n      <td>201</td>\n      <td>2</td>\n      <td>10/9/2019</td>\n      <td>10/9/2019</td>\n      <td>Glendale</td>\n      <td>Maricopa</td>\n      <td>AZ</td>\n      <td>85307</td>\n      <td>US</td>\n      <td>86.0</td>\n      <td>10.0</td>\n      <td>0.0</td>\n      <td>0.0</td>\n      <td>Fair</td>\n      <td>Night</td>\n      <td>False</td>\n      <td>True</td>\n    </tr>\n    <tr>\n      <th>15094</th>\n      <td>A-1048131</td>\n      <td>201</td>\n      <td>2</td>\n      <td>10/9/2019</td>\n      <td>10/9/2019</td>\n      <td>Tempe</td>\n      <td>Maricopa</td>\n      <td>AZ</td>\n      <td>85283</td>\n      <td>US</td>\n      <td>88.0</td>\n      <td>10.0</td>\n      <td>10.0</td>\n      <td>0.0</td>\n      <td>Partly Cloudy</td>\n      <td>Night</td>\n      <td>False</td>\n      <td>False</td>\n    </tr>\n    <tr>\n      <th>15095</th>\n      <td>A-1048132</td>\n      <td>201</td>\n      <td>2</td>\n      <td>10/9/2019</td>\n      <td>10/9/2019</td>\n      <td>Tempe</td>\n      <td>Maricopa</td>\n      <td>AZ</td>\n      <td>85281</td>\n      <td>US</td>\n      <td>88.0</td>\n      <td>10.0</td>\n      <td>10.0</td>\n      <td>0.0</td>\n      <td>Partly Cloudy</td>\n      <td>Night</td>\n      <td>False</td>\n      <td>False</td>\n    </tr>\n  </tbody>\n</table>\n<p>8316 rows × 18 columns</p>\n</div>"
     },
     "metadata": {},
     "execution_count": 27
    }
   ],
   "source": [
    "#Update the Start_Time and End_Time columns formatting to remove time stamp\n",
    "us_data_maricopa['Start_Time']=us_data_maricopa['Start_Time'].str.split(' ', expand=True)[0]\n",
    "us_data_maricopa['End_Time']=us_data_maricopa['End_Time'].str.split(' ', expand=True)[0]\n",
    "us_data_maricopa['Zipcode']=us_data_maricopa['Zipcode'].str.split('-', expand=True)[0]\n",
    "us_data_maricopa"
   ]
  },
  {
   "source": [
    "#convert dates\n",
    "us_data_maricopa['End_Time'] = pd.to_datetime(us_data_maricopa['End_Time'])\n",
    "us_data_maricopa['Start_Time'] = pd.to_datetime(us_data_maricopa['Start_Time'])"
   ],
   "cell_type": "code",
   "metadata": {},
   "execution_count": 29,
   "outputs": [
    {
     "output_type": "stream",
     "name": "stderr",
     "text": [
      "C:\\Users\\ashle\\anaconda3\\envs\\pythondata\\lib\\site-packages\\ipykernel_launcher.py:2: SettingWithCopyWarning: \nA value is trying to be set on a copy of a slice from a DataFrame.\nTry using .loc[row_indexer,col_indexer] = value instead\n\nSee the caveats in the documentation: https://pandas.pydata.org/pandas-docs/stable/user_guide/indexing.html#returning-a-view-versus-a-copy\n  \nC:\\Users\\ashle\\anaconda3\\envs\\pythondata\\lib\\site-packages\\ipykernel_launcher.py:3: SettingWithCopyWarning: \nA value is trying to be set on a copy of a slice from a DataFrame.\nTry using .loc[row_indexer,col_indexer] = value instead\n\nSee the caveats in the documentation: https://pandas.pydata.org/pandas-docs/stable/user_guide/indexing.html#returning-a-view-versus-a-copy\n  This is separate from the ipykernel package so we can avoid doing imports until\n"
     ]
    }
   ]
  },
  {
   "cell_type": "code",
   "execution_count": 32,
   "metadata": {},
   "outputs": [
    {
     "output_type": "stream",
     "name": "stderr",
     "text": [
      "C:\\Users\\ashle\\anaconda3\\envs\\pythondata\\lib\\site-packages\\ipykernel_launcher.py:2: SettingWithCopyWarning: \nA value is trying to be set on a copy of a slice from a DataFrame.\nTry using .loc[row_indexer,col_indexer] = value instead\n\nSee the caveats in the documentation: https://pandas.pydata.org/pandas-docs/stable/user_guide/indexing.html#returning-a-view-versus-a-copy\n  \nC:\\Users\\ashle\\anaconda3\\envs\\pythondata\\lib\\site-packages\\ipykernel_launcher.py:3: SettingWithCopyWarning: \nA value is trying to be set on a copy of a slice from a DataFrame.\nTry using .loc[row_indexer,col_indexer] = value instead\n\nSee the caveats in the documentation: https://pandas.pydata.org/pandas-docs/stable/user_guide/indexing.html#returning-a-view-versus-a-copy\n  This is separate from the ipykernel package so we can avoid doing imports until\nC:\\Users\\ashle\\anaconda3\\envs\\pythondata\\lib\\site-packages\\ipykernel_launcher.py:4: SettingWithCopyWarning: \nA value is trying to be set on a copy of a slice from a DataFrame.\nTry using .loc[row_indexer,col_indexer] = value instead\n\nSee the caveats in the documentation: https://pandas.pydata.org/pandas-docs/stable/user_guide/indexing.html#returning-a-view-versus-a-copy\n  after removing the cwd from sys.path.\n"
     ]
    },
    {
     "output_type": "execute_result",
     "data": {
      "text/plain": [
       "              ID  TMC  Severity Start_Time   End_Time           City  \\\n",
       "0       A-513395  201         2 2020-12-31 2020-12-31  Sun City West   \n",
       "1       A-513396  201         2 2020-12-31 2020-12-31     Wickenburg   \n",
       "5       A-513400  201         2 2020-12-31 2020-12-31        Phoenix   \n",
       "8       A-513403  201         2 2020-12-31 2020-12-31        Phoenix   \n",
       "9       A-513404  201         2 2020-12-31 2020-12-31        Phoenix   \n",
       "...          ...  ...       ...        ...        ...            ...   \n",
       "15088  A-1048125  201         3 2019-10-09 2019-10-09        Phoenix   \n",
       "15090  A-1048127  201         3 2019-10-09 2019-10-09        Phoenix   \n",
       "15092  A-1048129  201         2 2019-10-09 2019-10-09       Glendale   \n",
       "15094  A-1048131  201         2 2019-10-09 2019-10-09          Tempe   \n",
       "15095  A-1048132  201         2 2019-10-09 2019-10-09          Tempe   \n",
       "\n",
       "         County State Zipcode Country  ...  Visibility(mi)  Wind_Speed(mph)  \\\n",
       "0      Maricopa    AZ   85375      US  ...            10.0              5.0   \n",
       "1      Maricopa    AZ   85390      US  ...            10.0              3.0   \n",
       "5      Maricopa    AZ   85027      US  ...            10.0              0.0   \n",
       "8      Maricopa    AZ   85020      US  ...            10.0              0.0   \n",
       "9      Maricopa    AZ   85022      US  ...            10.0              0.0   \n",
       "...         ...   ...     ...     ...  ...             ...              ...   \n",
       "15088  Maricopa    AZ   85034      US  ...            10.0             13.0   \n",
       "15090  Maricopa    AZ   85034      US  ...            10.0             13.0   \n",
       "15092  Maricopa    AZ   85307      US  ...            10.0              0.0   \n",
       "15094  Maricopa    AZ   85283      US  ...            10.0             10.0   \n",
       "15095  Maricopa    AZ   85281      US  ...            10.0             10.0   \n",
       "\n",
       "       Precipitation(in)  Weather_Condition Sunrise_Sunset   Stop  \\\n",
       "0                    0.0             Cloudy            Day  False   \n",
       "1                    0.0      Light Drizzle            Day  False   \n",
       "5                    0.0               Fair          Night  False   \n",
       "8                    0.0               Fair          Night  False   \n",
       "9                    0.0               Fair          Night  False   \n",
       "...                  ...                ...            ...    ...   \n",
       "15088                0.0               Fair          Night  False   \n",
       "15090                0.0               Fair          Night  False   \n",
       "15092                0.0               Fair          Night  False   \n",
       "15094                0.0      Partly Cloudy          Night  False   \n",
       "15095                0.0      Partly Cloudy          Night  False   \n",
       "\n",
       "       Traffic_Signal  month  day  season  \n",
       "0                True     12   31          \n",
       "1               False     12   31          \n",
       "5                True     12   31          \n",
       "8               False     12   31          \n",
       "9                True     12   31          \n",
       "...               ...    ...  ...     ...  \n",
       "15088           False     10    9          \n",
       "15090           False     10    9          \n",
       "15092            True     10    9          \n",
       "15094           False     10    9          \n",
       "15095           False     10    9          \n",
       "\n",
       "[8316 rows x 21 columns]"
      ],
      "text/html": "<div>\n<style scoped>\n    .dataframe tbody tr th:only-of-type {\n        vertical-align: middle;\n    }\n\n    .dataframe tbody tr th {\n        vertical-align: top;\n    }\n\n    .dataframe thead th {\n        text-align: right;\n    }\n</style>\n<table border=\"1\" class=\"dataframe\">\n  <thead>\n    <tr style=\"text-align: right;\">\n      <th></th>\n      <th>ID</th>\n      <th>TMC</th>\n      <th>Severity</th>\n      <th>Start_Time</th>\n      <th>End_Time</th>\n      <th>City</th>\n      <th>County</th>\n      <th>State</th>\n      <th>Zipcode</th>\n      <th>Country</th>\n      <th>...</th>\n      <th>Visibility(mi)</th>\n      <th>Wind_Speed(mph)</th>\n      <th>Precipitation(in)</th>\n      <th>Weather_Condition</th>\n      <th>Sunrise_Sunset</th>\n      <th>Stop</th>\n      <th>Traffic_Signal</th>\n      <th>month</th>\n      <th>day</th>\n      <th>season</th>\n    </tr>\n  </thead>\n  <tbody>\n    <tr>\n      <th>0</th>\n      <td>A-513395</td>\n      <td>201</td>\n      <td>2</td>\n      <td>2020-12-31</td>\n      <td>2020-12-31</td>\n      <td>Sun City West</td>\n      <td>Maricopa</td>\n      <td>AZ</td>\n      <td>85375</td>\n      <td>US</td>\n      <td>...</td>\n      <td>10.0</td>\n      <td>5.0</td>\n      <td>0.0</td>\n      <td>Cloudy</td>\n      <td>Day</td>\n      <td>False</td>\n      <td>True</td>\n      <td>12</td>\n      <td>31</td>\n      <td></td>\n    </tr>\n    <tr>\n      <th>1</th>\n      <td>A-513396</td>\n      <td>201</td>\n      <td>2</td>\n      <td>2020-12-31</td>\n      <td>2020-12-31</td>\n      <td>Wickenburg</td>\n      <td>Maricopa</td>\n      <td>AZ</td>\n      <td>85390</td>\n      <td>US</td>\n      <td>...</td>\n      <td>10.0</td>\n      <td>3.0</td>\n      <td>0.0</td>\n      <td>Light Drizzle</td>\n      <td>Day</td>\n      <td>False</td>\n      <td>False</td>\n      <td>12</td>\n      <td>31</td>\n      <td></td>\n    </tr>\n    <tr>\n      <th>5</th>\n      <td>A-513400</td>\n      <td>201</td>\n      <td>2</td>\n      <td>2020-12-31</td>\n      <td>2020-12-31</td>\n      <td>Phoenix</td>\n      <td>Maricopa</td>\n      <td>AZ</td>\n      <td>85027</td>\n      <td>US</td>\n      <td>...</td>\n      <td>10.0</td>\n      <td>0.0</td>\n      <td>0.0</td>\n      <td>Fair</td>\n      <td>Night</td>\n      <td>False</td>\n      <td>True</td>\n      <td>12</td>\n      <td>31</td>\n      <td></td>\n    </tr>\n    <tr>\n      <th>8</th>\n      <td>A-513403</td>\n      <td>201</td>\n      <td>2</td>\n      <td>2020-12-31</td>\n      <td>2020-12-31</td>\n      <td>Phoenix</td>\n      <td>Maricopa</td>\n      <td>AZ</td>\n      <td>85020</td>\n      <td>US</td>\n      <td>...</td>\n      <td>10.0</td>\n      <td>0.0</td>\n      <td>0.0</td>\n      <td>Fair</td>\n      <td>Night</td>\n      <td>False</td>\n      <td>False</td>\n      <td>12</td>\n      <td>31</td>\n      <td></td>\n    </tr>\n    <tr>\n      <th>9</th>\n      <td>A-513404</td>\n      <td>201</td>\n      <td>2</td>\n      <td>2020-12-31</td>\n      <td>2020-12-31</td>\n      <td>Phoenix</td>\n      <td>Maricopa</td>\n      <td>AZ</td>\n      <td>85022</td>\n      <td>US</td>\n      <td>...</td>\n      <td>10.0</td>\n      <td>0.0</td>\n      <td>0.0</td>\n      <td>Fair</td>\n      <td>Night</td>\n      <td>False</td>\n      <td>True</td>\n      <td>12</td>\n      <td>31</td>\n      <td></td>\n    </tr>\n    <tr>\n      <th>...</th>\n      <td>...</td>\n      <td>...</td>\n      <td>...</td>\n      <td>...</td>\n      <td>...</td>\n      <td>...</td>\n      <td>...</td>\n      <td>...</td>\n      <td>...</td>\n      <td>...</td>\n      <td>...</td>\n      <td>...</td>\n      <td>...</td>\n      <td>...</td>\n      <td>...</td>\n      <td>...</td>\n      <td>...</td>\n      <td>...</td>\n      <td>...</td>\n      <td>...</td>\n      <td>...</td>\n    </tr>\n    <tr>\n      <th>15088</th>\n      <td>A-1048125</td>\n      <td>201</td>\n      <td>3</td>\n      <td>2019-10-09</td>\n      <td>2019-10-09</td>\n      <td>Phoenix</td>\n      <td>Maricopa</td>\n      <td>AZ</td>\n      <td>85034</td>\n      <td>US</td>\n      <td>...</td>\n      <td>10.0</td>\n      <td>13.0</td>\n      <td>0.0</td>\n      <td>Fair</td>\n      <td>Night</td>\n      <td>False</td>\n      <td>False</td>\n      <td>10</td>\n      <td>9</td>\n      <td></td>\n    </tr>\n    <tr>\n      <th>15090</th>\n      <td>A-1048127</td>\n      <td>201</td>\n      <td>3</td>\n      <td>2019-10-09</td>\n      <td>2019-10-09</td>\n      <td>Phoenix</td>\n      <td>Maricopa</td>\n      <td>AZ</td>\n      <td>85034</td>\n      <td>US</td>\n      <td>...</td>\n      <td>10.0</td>\n      <td>13.0</td>\n      <td>0.0</td>\n      <td>Fair</td>\n      <td>Night</td>\n      <td>False</td>\n      <td>False</td>\n      <td>10</td>\n      <td>9</td>\n      <td></td>\n    </tr>\n    <tr>\n      <th>15092</th>\n      <td>A-1048129</td>\n      <td>201</td>\n      <td>2</td>\n      <td>2019-10-09</td>\n      <td>2019-10-09</td>\n      <td>Glendale</td>\n      <td>Maricopa</td>\n      <td>AZ</td>\n      <td>85307</td>\n      <td>US</td>\n      <td>...</td>\n      <td>10.0</td>\n      <td>0.0</td>\n      <td>0.0</td>\n      <td>Fair</td>\n      <td>Night</td>\n      <td>False</td>\n      <td>True</td>\n      <td>10</td>\n      <td>9</td>\n      <td></td>\n    </tr>\n    <tr>\n      <th>15094</th>\n      <td>A-1048131</td>\n      <td>201</td>\n      <td>2</td>\n      <td>2019-10-09</td>\n      <td>2019-10-09</td>\n      <td>Tempe</td>\n      <td>Maricopa</td>\n      <td>AZ</td>\n      <td>85283</td>\n      <td>US</td>\n      <td>...</td>\n      <td>10.0</td>\n      <td>10.0</td>\n      <td>0.0</td>\n      <td>Partly Cloudy</td>\n      <td>Night</td>\n      <td>False</td>\n      <td>False</td>\n      <td>10</td>\n      <td>9</td>\n      <td></td>\n    </tr>\n    <tr>\n      <th>15095</th>\n      <td>A-1048132</td>\n      <td>201</td>\n      <td>2</td>\n      <td>2019-10-09</td>\n      <td>2019-10-09</td>\n      <td>Tempe</td>\n      <td>Maricopa</td>\n      <td>AZ</td>\n      <td>85281</td>\n      <td>US</td>\n      <td>...</td>\n      <td>10.0</td>\n      <td>10.0</td>\n      <td>0.0</td>\n      <td>Partly Cloudy</td>\n      <td>Night</td>\n      <td>False</td>\n      <td>False</td>\n      <td>10</td>\n      <td>9</td>\n      <td></td>\n    </tr>\n  </tbody>\n</table>\n<p>8316 rows × 21 columns</p>\n</div>"
     },
     "metadata": {},
     "execution_count": 32
    }
   ],
   "source": [
    "#creating new columns for Month and Day to create seasons columns\n",
    "us_data_maricopa[\"month\"] = pd.DatetimeIndex(us_data_maricopa[\"Start_Time\"]).month\n",
    "us_data_maricopa[\"day\"] = pd.DatetimeIndex(us_data_maricopa[\"Start_Time\"]).day\n",
    "us_data_maricopa[\"season\"] = \"\"\n",
    "us_data_maricopa"
   ]
  },
  {
   "cell_type": "code",
   "execution_count": 37,
   "metadata": {},
   "outputs": [
    {
     "output_type": "stream",
     "name": "stderr",
     "text": [
      "C:\\Users\\ashle\\anaconda3\\envs\\pythondata\\lib\\site-packages\\pandas\\core\\indexing.py:1765: SettingWithCopyWarning: \nA value is trying to be set on a copy of a slice from a DataFrame.\nTry using .loc[row_indexer,col_indexer] = value instead\n\nSee the caveats in the documentation: https://pandas.pydata.org/pandas-docs/stable/user_guide/indexing.html#returning-a-view-versus-a-copy\n  isetter(loc, value)\nC:\\Users\\ashle\\anaconda3\\envs\\pythondata\\lib\\site-packages\\pandas\\core\\indexing.py:1765: SettingWithCopyWarning: \nA value is trying to be set on a copy of a slice from a DataFrame.\nTry using .loc[row_indexer,col_indexer] = value instead\n\nSee the caveats in the documentation: https://pandas.pydata.org/pandas-docs/stable/user_guide/indexing.html#returning-a-view-versus-a-copy\n  isetter(loc, value)\nC:\\Users\\ashle\\anaconda3\\envs\\pythondata\\lib\\site-packages\\pandas\\core\\indexing.py:1765: SettingWithCopyWarning: \nA value is trying to be set on a copy of a slice from a DataFrame.\nTry using .loc[row_indexer,col_indexer] = value instead\n\nSee the caveats in the documentation: https://pandas.pydata.org/pandas-docs/stable/user_guide/indexing.html#returning-a-view-versus-a-copy\n  isetter(loc, value)\nC:\\Users\\ashle\\anaconda3\\envs\\pythondata\\lib\\site-packages\\pandas\\core\\indexing.py:1765: SettingWithCopyWarning: \nA value is trying to be set on a copy of a slice from a DataFrame.\nTry using .loc[row_indexer,col_indexer] = value instead\n\nSee the caveats in the documentation: https://pandas.pydata.org/pandas-docs/stable/user_guide/indexing.html#returning-a-view-versus-a-copy\n  isetter(loc, value)\nC:\\Users\\ashle\\anaconda3\\envs\\pythondata\\lib\\site-packages\\pandas\\core\\indexing.py:1765: SettingWithCopyWarning: \nA value is trying to be set on a copy of a slice from a DataFrame.\nTry using .loc[row_indexer,col_indexer] = value instead\n\nSee the caveats in the documentation: https://pandas.pydata.org/pandas-docs/stable/user_guide/indexing.html#returning-a-view-versus-a-copy\n  isetter(loc, value)\nC:\\Users\\ashle\\anaconda3\\envs\\pythondata\\lib\\site-packages\\pandas\\core\\indexing.py:1765: SettingWithCopyWarning: \nA value is trying to be set on a copy of a slice from a DataFrame.\nTry using .loc[row_indexer,col_indexer] = value instead\n\nSee the caveats in the documentation: https://pandas.pydata.org/pandas-docs/stable/user_guide/indexing.html#returning-a-view-versus-a-copy\n  isetter(loc, value)\n"
     ]
    },
    {
     "output_type": "execute_result",
     "data": {
      "text/plain": [
       "              ID  TMC  Severity Start_Time   End_Time           City  \\\n",
       "0       A-513395  201         2 2020-12-31 2020-12-31  Sun City West   \n",
       "1       A-513396  201         2 2020-12-31 2020-12-31     Wickenburg   \n",
       "5       A-513400  201         2 2020-12-31 2020-12-31        Phoenix   \n",
       "8       A-513403  201         2 2020-12-31 2020-12-31        Phoenix   \n",
       "9       A-513404  201         2 2020-12-31 2020-12-31        Phoenix   \n",
       "...          ...  ...       ...        ...        ...            ...   \n",
       "15088  A-1048125  201         3 2019-10-09 2019-10-09        Phoenix   \n",
       "15090  A-1048127  201         3 2019-10-09 2019-10-09        Phoenix   \n",
       "15092  A-1048129  201         2 2019-10-09 2019-10-09       Glendale   \n",
       "15094  A-1048131  201         2 2019-10-09 2019-10-09          Tempe   \n",
       "15095  A-1048132  201         2 2019-10-09 2019-10-09          Tempe   \n",
       "\n",
       "         County State Zipcode Country  ...  Visibility(mi)  Wind_Speed(mph)  \\\n",
       "0      Maricopa    AZ   85375      US  ...            10.0              5.0   \n",
       "1      Maricopa    AZ   85390      US  ...            10.0              3.0   \n",
       "5      Maricopa    AZ   85027      US  ...            10.0              0.0   \n",
       "8      Maricopa    AZ   85020      US  ...            10.0              0.0   \n",
       "9      Maricopa    AZ   85022      US  ...            10.0              0.0   \n",
       "...         ...   ...     ...     ...  ...             ...              ...   \n",
       "15088  Maricopa    AZ   85034      US  ...            10.0             13.0   \n",
       "15090  Maricopa    AZ   85034      US  ...            10.0             13.0   \n",
       "15092  Maricopa    AZ   85307      US  ...            10.0              0.0   \n",
       "15094  Maricopa    AZ   85283      US  ...            10.0             10.0   \n",
       "15095  Maricopa    AZ   85281      US  ...            10.0             10.0   \n",
       "\n",
       "       Precipitation(in)  Weather_Condition Sunrise_Sunset   Stop  \\\n",
       "0                    0.0             Cloudy            Day  False   \n",
       "1                    0.0      Light Drizzle            Day  False   \n",
       "5                    0.0               Fair          Night  False   \n",
       "8                    0.0               Fair          Night  False   \n",
       "9                    0.0               Fair          Night  False   \n",
       "...                  ...                ...            ...    ...   \n",
       "15088                0.0               Fair          Night  False   \n",
       "15090                0.0               Fair          Night  False   \n",
       "15092                0.0               Fair          Night  False   \n",
       "15094                0.0      Partly Cloudy          Night  False   \n",
       "15095                0.0      Partly Cloudy          Night  False   \n",
       "\n",
       "       Traffic_Signal  month  day  season  \n",
       "0                True     12   31  Winter  \n",
       "1               False     12   31  Winter  \n",
       "5                True     12   31  Winter  \n",
       "8               False     12   31  Winter  \n",
       "9                True     12   31  Winter  \n",
       "...               ...    ...  ...     ...  \n",
       "15088           False     10    9  Autumn  \n",
       "15090           False     10    9  Autumn  \n",
       "15092            True     10    9  Autumn  \n",
       "15094           False     10    9  Autumn  \n",
       "15095           False     10    9  Autumn  \n",
       "\n",
       "[8316 rows x 21 columns]"
      ],
      "text/html": "<div>\n<style scoped>\n    .dataframe tbody tr th:only-of-type {\n        vertical-align: middle;\n    }\n\n    .dataframe tbody tr th {\n        vertical-align: top;\n    }\n\n    .dataframe thead th {\n        text-align: right;\n    }\n</style>\n<table border=\"1\" class=\"dataframe\">\n  <thead>\n    <tr style=\"text-align: right;\">\n      <th></th>\n      <th>ID</th>\n      <th>TMC</th>\n      <th>Severity</th>\n      <th>Start_Time</th>\n      <th>End_Time</th>\n      <th>City</th>\n      <th>County</th>\n      <th>State</th>\n      <th>Zipcode</th>\n      <th>Country</th>\n      <th>...</th>\n      <th>Visibility(mi)</th>\n      <th>Wind_Speed(mph)</th>\n      <th>Precipitation(in)</th>\n      <th>Weather_Condition</th>\n      <th>Sunrise_Sunset</th>\n      <th>Stop</th>\n      <th>Traffic_Signal</th>\n      <th>month</th>\n      <th>day</th>\n      <th>season</th>\n    </tr>\n  </thead>\n  <tbody>\n    <tr>\n      <th>0</th>\n      <td>A-513395</td>\n      <td>201</td>\n      <td>2</td>\n      <td>2020-12-31</td>\n      <td>2020-12-31</td>\n      <td>Sun City West</td>\n      <td>Maricopa</td>\n      <td>AZ</td>\n      <td>85375</td>\n      <td>US</td>\n      <td>...</td>\n      <td>10.0</td>\n      <td>5.0</td>\n      <td>0.0</td>\n      <td>Cloudy</td>\n      <td>Day</td>\n      <td>False</td>\n      <td>True</td>\n      <td>12</td>\n      <td>31</td>\n      <td>Winter</td>\n    </tr>\n    <tr>\n      <th>1</th>\n      <td>A-513396</td>\n      <td>201</td>\n      <td>2</td>\n      <td>2020-12-31</td>\n      <td>2020-12-31</td>\n      <td>Wickenburg</td>\n      <td>Maricopa</td>\n      <td>AZ</td>\n      <td>85390</td>\n      <td>US</td>\n      <td>...</td>\n      <td>10.0</td>\n      <td>3.0</td>\n      <td>0.0</td>\n      <td>Light Drizzle</td>\n      <td>Day</td>\n      <td>False</td>\n      <td>False</td>\n      <td>12</td>\n      <td>31</td>\n      <td>Winter</td>\n    </tr>\n    <tr>\n      <th>5</th>\n      <td>A-513400</td>\n      <td>201</td>\n      <td>2</td>\n      <td>2020-12-31</td>\n      <td>2020-12-31</td>\n      <td>Phoenix</td>\n      <td>Maricopa</td>\n      <td>AZ</td>\n      <td>85027</td>\n      <td>US</td>\n      <td>...</td>\n      <td>10.0</td>\n      <td>0.0</td>\n      <td>0.0</td>\n      <td>Fair</td>\n      <td>Night</td>\n      <td>False</td>\n      <td>True</td>\n      <td>12</td>\n      <td>31</td>\n      <td>Winter</td>\n    </tr>\n    <tr>\n      <th>8</th>\n      <td>A-513403</td>\n      <td>201</td>\n      <td>2</td>\n      <td>2020-12-31</td>\n      <td>2020-12-31</td>\n      <td>Phoenix</td>\n      <td>Maricopa</td>\n      <td>AZ</td>\n      <td>85020</td>\n      <td>US</td>\n      <td>...</td>\n      <td>10.0</td>\n      <td>0.0</td>\n      <td>0.0</td>\n      <td>Fair</td>\n      <td>Night</td>\n      <td>False</td>\n      <td>False</td>\n      <td>12</td>\n      <td>31</td>\n      <td>Winter</td>\n    </tr>\n    <tr>\n      <th>9</th>\n      <td>A-513404</td>\n      <td>201</td>\n      <td>2</td>\n      <td>2020-12-31</td>\n      <td>2020-12-31</td>\n      <td>Phoenix</td>\n      <td>Maricopa</td>\n      <td>AZ</td>\n      <td>85022</td>\n      <td>US</td>\n      <td>...</td>\n      <td>10.0</td>\n      <td>0.0</td>\n      <td>0.0</td>\n      <td>Fair</td>\n      <td>Night</td>\n      <td>False</td>\n      <td>True</td>\n      <td>12</td>\n      <td>31</td>\n      <td>Winter</td>\n    </tr>\n    <tr>\n      <th>...</th>\n      <td>...</td>\n      <td>...</td>\n      <td>...</td>\n      <td>...</td>\n      <td>...</td>\n      <td>...</td>\n      <td>...</td>\n      <td>...</td>\n      <td>...</td>\n      <td>...</td>\n      <td>...</td>\n      <td>...</td>\n      <td>...</td>\n      <td>...</td>\n      <td>...</td>\n      <td>...</td>\n      <td>...</td>\n      <td>...</td>\n      <td>...</td>\n      <td>...</td>\n      <td>...</td>\n    </tr>\n    <tr>\n      <th>15088</th>\n      <td>A-1048125</td>\n      <td>201</td>\n      <td>3</td>\n      <td>2019-10-09</td>\n      <td>2019-10-09</td>\n      <td>Phoenix</td>\n      <td>Maricopa</td>\n      <td>AZ</td>\n      <td>85034</td>\n      <td>US</td>\n      <td>...</td>\n      <td>10.0</td>\n      <td>13.0</td>\n      <td>0.0</td>\n      <td>Fair</td>\n      <td>Night</td>\n      <td>False</td>\n      <td>False</td>\n      <td>10</td>\n      <td>9</td>\n      <td>Autumn</td>\n    </tr>\n    <tr>\n      <th>15090</th>\n      <td>A-1048127</td>\n      <td>201</td>\n      <td>3</td>\n      <td>2019-10-09</td>\n      <td>2019-10-09</td>\n      <td>Phoenix</td>\n      <td>Maricopa</td>\n      <td>AZ</td>\n      <td>85034</td>\n      <td>US</td>\n      <td>...</td>\n      <td>10.0</td>\n      <td>13.0</td>\n      <td>0.0</td>\n      <td>Fair</td>\n      <td>Night</td>\n      <td>False</td>\n      <td>False</td>\n      <td>10</td>\n      <td>9</td>\n      <td>Autumn</td>\n    </tr>\n    <tr>\n      <th>15092</th>\n      <td>A-1048129</td>\n      <td>201</td>\n      <td>2</td>\n      <td>2019-10-09</td>\n      <td>2019-10-09</td>\n      <td>Glendale</td>\n      <td>Maricopa</td>\n      <td>AZ</td>\n      <td>85307</td>\n      <td>US</td>\n      <td>...</td>\n      <td>10.0</td>\n      <td>0.0</td>\n      <td>0.0</td>\n      <td>Fair</td>\n      <td>Night</td>\n      <td>False</td>\n      <td>True</td>\n      <td>10</td>\n      <td>9</td>\n      <td>Autumn</td>\n    </tr>\n    <tr>\n      <th>15094</th>\n      <td>A-1048131</td>\n      <td>201</td>\n      <td>2</td>\n      <td>2019-10-09</td>\n      <td>2019-10-09</td>\n      <td>Tempe</td>\n      <td>Maricopa</td>\n      <td>AZ</td>\n      <td>85283</td>\n      <td>US</td>\n      <td>...</td>\n      <td>10.0</td>\n      <td>10.0</td>\n      <td>0.0</td>\n      <td>Partly Cloudy</td>\n      <td>Night</td>\n      <td>False</td>\n      <td>False</td>\n      <td>10</td>\n      <td>9</td>\n      <td>Autumn</td>\n    </tr>\n    <tr>\n      <th>15095</th>\n      <td>A-1048132</td>\n      <td>201</td>\n      <td>2</td>\n      <td>2019-10-09</td>\n      <td>2019-10-09</td>\n      <td>Tempe</td>\n      <td>Maricopa</td>\n      <td>AZ</td>\n      <td>85281</td>\n      <td>US</td>\n      <td>...</td>\n      <td>10.0</td>\n      <td>10.0</td>\n      <td>0.0</td>\n      <td>Partly Cloudy</td>\n      <td>Night</td>\n      <td>False</td>\n      <td>False</td>\n      <td>10</td>\n      <td>9</td>\n      <td>Autumn</td>\n    </tr>\n  </tbody>\n</table>\n<p>8316 rows × 21 columns</p>\n</div>"
     },
     "metadata": {},
     "execution_count": 37
    }
   ],
   "source": [
    "#inserting seasons columns based on month and day\n",
    "us_data_maricopa.loc[(us_data_maricopa[\"month\"] == 1), [\"season\"]] = \"Winter\"\n",
    "us_data_maricopa.loc[(us_data_maricopa[\"month\"] == 2), [\"season\"]] = \"Winter\"\n",
    "us_data_maricopa.loc[(us_data_maricopa[\"month\"] >= 3) & (us_data_maricopa[\"month\"] <= 5), [\"season\"]] = \"Spring\"\n",
    "us_data_maricopa.loc[(us_data_maricopa[\"month\"] >= 6) & (us_data_maricopa[\"month\"] <= 8), [\"season\"]] = \"Summer\"\n",
    "\n",
    "us_data_maricopa.loc[(us_data_maricopa[\"month\"] >= 9) & (us_data_maricopa[\"month\"] <= 11), [\"season\"]] = \"Autumn\"\n",
    "\n",
    "us_data_maricopa.loc[(us_data_maricopa[\"month\"] == 12), [\"season\"]] = \"Winter\"\n",
    "us_data_maricopa"
   ]
  },
  {
   "cell_type": "code",
   "execution_count": 24,
   "metadata": {},
   "outputs": [],
   "source": [
    "#Average Number of accidents per month/season\n",
    "#create a new column with if/then based on date to categorize into seasons\n",
    "#create bar graph \n",
    "\n"
   ]
  },
  {
   "cell_type": "code",
   "execution_count": 25,
   "metadata": {},
   "outputs": [],
   "source": [
    "#Highest Accident per day -- table to show\n",
    "#groupby start_time column\n"
   ]
  },
  {
   "cell_type": "code",
   "execution_count": 26,
   "metadata": {},
   "outputs": [],
   "source": [
    "#"
   ]
  }
 ]
}