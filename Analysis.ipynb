{
 "metadata": {
  "language_info": {
   "codemirror_mode": {
    "name": "ipython",
    "version": 3
   },
   "file_extension": ".py",
   "mimetype": "text/x-python",
   "name": "python",
   "nbconvert_exporter": "python",
   "pygments_lexer": "ipython3",
   "version": 3
  },
  "orig_nbformat": 2
 },
 "nbformat": 4,
 "nbformat_minor": 2,
 "cells": [
  {
   "cell_type": "code",
   "execution_count": null,
   "metadata": {},
   "outputs": [],
   "source": [
    "import pandas as pd\n",
    "import numpy as np\n",
    "import scipy.stats as sts\n",
    "import matplotlib.pyplot as plt\n",
    "import sklearn.datasets as dta\n",
    "import datetime\n",
    "from pandas.plotting import parallel_coordinates\n",
    "import seaborn as sns "
   ]
  },
  {
   "cell_type": "code",
   "execution_count": null,
   "metadata": {},
   "outputs": [],
   "source": [
    "csv_path = r'Us_Accidents_Arizona_DEC20.csv'"
   ]
  },
  {
   "cell_type": "code",
   "execution_count": null,
   "metadata": {},
   "outputs": [],
   "source": []
  },
  {
   "cell_type": "code",
   "execution_count": null,
   "metadata": {},
   "outputs": [],
   "source": [
    "#Average Number of accidents per month/season\n",
    "#create a new column with if/then based on date to categorize into seasons\n",
    "#create bar graph \n",
    "season_count = us_data_maricopa.groupby('Season').count()\n",
    "season_count_clean = season_count['ID']\n",
    "season_count_clean = pd.DataFrame(season_count_clean)\n",
    "season_count_clean.plot(kind='bar', title='Number Of Accidents per Season')\n",
    "\n",
    "plt.show()"
   ]
  },
  {
   "cell_type": "code",
   "execution_count": null,
   "metadata": {},
   "outputs": [],
   "source": [
    "#average number of accidents per recorded day\n",
    "average_per_day = highest_per_day['ID'].mean()\n",
    "average_per_day"
   ]
  },
  {
   "cell_type": "code",
   "execution_count": null,
   "metadata": {},
   "outputs": [],
   "source": [
    "x_values = ['Phoenix','Tempe','Scottsdale','Glendale','Mesa']\n",
    "y_values = [4104,572,475,475,327]\n",
    "def make_autopct(values):\n",
    "    def my_autopct(pct):\n",
    "        total = sum(values)\n",
    "        val = int(round(pct*total/100.0))\n",
    "        return '{v:d}'.format(p=pct,v=val)\n",
    "    return my_autopct\n",
    "plt.pie(y_values,labels=x_values,startangle=140,autopct=make_autopct(y_values),shadow=True)\n",
    "plt.title(\"Top Five Cities by Number of Accidents\")\n",
    "plt.show()"
   ]
  },
  {
   "cell_type": "code",
   "execution_count": null,
   "metadata": {},
   "outputs": [],
   "source": [
    "#Graph scatterplot to compare the Accident per day VS Temperature\n",
    "xvalue = accident_count['ID']\n",
    "yvalue = average_weather['Temperature(F)']\n",
    "plt.scatter(xvalue,yvalue)\n",
    "plt.title('Number of Accidents and Average Temperature')\n",
    "plt.xlabel('Number of Accidents by Day')\n",
    "plt.ylabel('Temperature(F)')\n",
    "plt.show()"
   ]
  },
  {
   "cell_type": "code",
   "execution_count": null,
   "metadata": {},
   "outputs": [],
   "source": [
    "#Create Scatterplot to show correlation between accidents per day and windspeed\n",
    "xvalue = accident_count['ID']\n",
    "yvalue = average_weather['Wind_Speed(mph)']\n",
    "plt.scatter(xvalue,yvalue)\n",
    "plt.title('Number of Accidents and Average Wind Speed')\n",
    "plt.xlabel('Number of Accidents by Day')\n",
    "plt.ylabel('Wind Speed (MPH)')\n",
    "plt.show()"
   ]
  },
  {
   "cell_type": "code",
   "execution_count": null,
   "metadata": {},
   "outputs": [],
   "source": [
    "#Create a scatter plot to show correlation between rainfall and accidents per day\n",
    "xvalue = accident_count['ID']\n",
    "yvalue = average_weather['Precipitation(in)']\n",
    "plt.scatter(xvalue,yvalue, s=20)\n",
    "plt.title('Number of Accidents and Average Rainfall')\n",
    "plt.xlabel('Number of Accidents by Day')\n",
    "plt.ylabel('Precipitation (in)')\n",
    "plt.show()"
   ]
  },
  {
   "cell_type": "code",
   "execution_count": null,
   "metadata": {},
   "outputs": [],
   "source": [
    "#total accidents and weather type\n",
    "#scatter plot-- x-axis number grouped by accidents per day\n",
    "#graph precipitation- windspeed- and temperature\n",
    "parallel_coordinates(us_data_maricopa, class_column='Season', cols=['Temperature(F)', 'Wind_Speed(mph)', 'Precipitation(in)'])\n",
    "plt.show"
   ]
  },
  {
   "cell_type": "code",
   "execution_count": null,
   "metadata": {},
   "outputs": [],
   "source": [
    "#line graph of severity count\n",
    "x_value = us_data_maricopa['Weather_Condition']\n",
    "y_values = us_data_maricopa['Severity']\n",
    "plt.barh(x_value,y_values)\n",
    "plt.title('Weather Conditions VS Severity of Accidents')\n",
    "plt.show()"
   ]
  },
  {
   "cell_type": "code",
   "execution_count": null,
   "metadata": {},
   "outputs": [],
   "source": []
  }
 ]
}